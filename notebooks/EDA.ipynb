{
 "cells": [
  {
   "cell_type": "markdown",
   "id": "b8154f74",
   "metadata": {},
   "source": [
    "# Rossmann Pharmaceutical Sales"
   ]
  },
  {
   "cell_type": "markdown",
   "id": "bb1675b2",
   "metadata": {},
   "source": [
    "### Explanatory Data Analysis"
   ]
  },
  {
   "cell_type": "code",
   "execution_count": 1,
   "id": "c04f1299",
   "metadata": {},
   "outputs": [],
   "source": [
    "import numpy as np\n",
    "import pandas as pd\n",
    "import sys, os\n",
    "import warnings\n",
    "import matplotlib.pyplot as plt\n",
    "import seaborn as sns\n",
    "import plotly.express as px\n"
   ]
  },
  {
   "cell_type": "code",
   "execution_count": 150,
   "id": "f2cbff39",
   "metadata": {},
   "outputs": [],
   "source": [
    "warnings.filterwarnings('ignore')\n",
    "pd.set_option('display.max_columns', 50)\n",
    "\n",
    "sys.path.append(os.path.abspath(os.path.join('../scripts')))\n",
    "from cleaner import *\n",
    "from visualizer import *"
   ]
  },
  {
   "cell_type": "markdown",
   "id": "db233048",
   "metadata": {},
   "source": [
    "### Reading Data"
   ]
  },
  {
   "cell_type": "code",
   "execution_count": 3,
   "id": "bff949b9",
   "metadata": {},
   "outputs": [
    {
     "data": {
      "text/html": [
       "<div>\n",
       "<style scoped>\n",
       "    .dataframe tbody tr th:only-of-type {\n",
       "        vertical-align: middle;\n",
       "    }\n",
       "\n",
       "    .dataframe tbody tr th {\n",
       "        vertical-align: top;\n",
       "    }\n",
       "\n",
       "    .dataframe thead th {\n",
       "        text-align: right;\n",
       "    }\n",
       "</style>\n",
       "<table border=\"1\" class=\"dataframe\">\n",
       "  <thead>\n",
       "    <tr style=\"text-align: right;\">\n",
       "      <th></th>\n",
       "      <th>Store</th>\n",
       "      <th>StoreType</th>\n",
       "      <th>Assortment</th>\n",
       "      <th>CompetitionDistance</th>\n",
       "      <th>CompetitionOpenSinceMonth</th>\n",
       "      <th>CompetitionOpenSinceYear</th>\n",
       "      <th>Promo2</th>\n",
       "      <th>Promo2SinceWeek</th>\n",
       "      <th>Promo2SinceYear</th>\n",
       "      <th>PromoInterval</th>\n",
       "    </tr>\n",
       "  </thead>\n",
       "  <tbody>\n",
       "    <tr>\n",
       "      <th>0</th>\n",
       "      <td>1</td>\n",
       "      <td>c</td>\n",
       "      <td>a</td>\n",
       "      <td>1270.0</td>\n",
       "      <td>9.0</td>\n",
       "      <td>2008.0</td>\n",
       "      <td>0</td>\n",
       "      <td>NaN</td>\n",
       "      <td>NaN</td>\n",
       "      <td>NaN</td>\n",
       "    </tr>\n",
       "    <tr>\n",
       "      <th>1</th>\n",
       "      <td>2</td>\n",
       "      <td>a</td>\n",
       "      <td>a</td>\n",
       "      <td>570.0</td>\n",
       "      <td>11.0</td>\n",
       "      <td>2007.0</td>\n",
       "      <td>1</td>\n",
       "      <td>13.0</td>\n",
       "      <td>2010.0</td>\n",
       "      <td>Jan,Apr,Jul,Oct</td>\n",
       "    </tr>\n",
       "    <tr>\n",
       "      <th>2</th>\n",
       "      <td>3</td>\n",
       "      <td>a</td>\n",
       "      <td>a</td>\n",
       "      <td>14130.0</td>\n",
       "      <td>12.0</td>\n",
       "      <td>2006.0</td>\n",
       "      <td>1</td>\n",
       "      <td>14.0</td>\n",
       "      <td>2011.0</td>\n",
       "      <td>Jan,Apr,Jul,Oct</td>\n",
       "    </tr>\n",
       "    <tr>\n",
       "      <th>3</th>\n",
       "      <td>4</td>\n",
       "      <td>c</td>\n",
       "      <td>c</td>\n",
       "      <td>620.0</td>\n",
       "      <td>9.0</td>\n",
       "      <td>2009.0</td>\n",
       "      <td>0</td>\n",
       "      <td>NaN</td>\n",
       "      <td>NaN</td>\n",
       "      <td>NaN</td>\n",
       "    </tr>\n",
       "    <tr>\n",
       "      <th>4</th>\n",
       "      <td>5</td>\n",
       "      <td>a</td>\n",
       "      <td>a</td>\n",
       "      <td>29910.0</td>\n",
       "      <td>4.0</td>\n",
       "      <td>2015.0</td>\n",
       "      <td>0</td>\n",
       "      <td>NaN</td>\n",
       "      <td>NaN</td>\n",
       "      <td>NaN</td>\n",
       "    </tr>\n",
       "    <tr>\n",
       "      <th>5</th>\n",
       "      <td>6</td>\n",
       "      <td>a</td>\n",
       "      <td>a</td>\n",
       "      <td>310.0</td>\n",
       "      <td>12.0</td>\n",
       "      <td>2013.0</td>\n",
       "      <td>0</td>\n",
       "      <td>NaN</td>\n",
       "      <td>NaN</td>\n",
       "      <td>NaN</td>\n",
       "    </tr>\n",
       "    <tr>\n",
       "      <th>6</th>\n",
       "      <td>7</td>\n",
       "      <td>a</td>\n",
       "      <td>c</td>\n",
       "      <td>24000.0</td>\n",
       "      <td>4.0</td>\n",
       "      <td>2013.0</td>\n",
       "      <td>0</td>\n",
       "      <td>NaN</td>\n",
       "      <td>NaN</td>\n",
       "      <td>NaN</td>\n",
       "    </tr>\n",
       "    <tr>\n",
       "      <th>7</th>\n",
       "      <td>8</td>\n",
       "      <td>a</td>\n",
       "      <td>a</td>\n",
       "      <td>7520.0</td>\n",
       "      <td>10.0</td>\n",
       "      <td>2014.0</td>\n",
       "      <td>0</td>\n",
       "      <td>NaN</td>\n",
       "      <td>NaN</td>\n",
       "      <td>NaN</td>\n",
       "    </tr>\n",
       "    <tr>\n",
       "      <th>8</th>\n",
       "      <td>9</td>\n",
       "      <td>a</td>\n",
       "      <td>c</td>\n",
       "      <td>2030.0</td>\n",
       "      <td>8.0</td>\n",
       "      <td>2000.0</td>\n",
       "      <td>0</td>\n",
       "      <td>NaN</td>\n",
       "      <td>NaN</td>\n",
       "      <td>NaN</td>\n",
       "    </tr>\n",
       "    <tr>\n",
       "      <th>9</th>\n",
       "      <td>10</td>\n",
       "      <td>a</td>\n",
       "      <td>a</td>\n",
       "      <td>3160.0</td>\n",
       "      <td>9.0</td>\n",
       "      <td>2009.0</td>\n",
       "      <td>0</td>\n",
       "      <td>NaN</td>\n",
       "      <td>NaN</td>\n",
       "      <td>NaN</td>\n",
       "    </tr>\n",
       "  </tbody>\n",
       "</table>\n",
       "</div>"
      ],
      "text/plain": [
       "   Store StoreType Assortment  CompetitionDistance  CompetitionOpenSinceMonth  \\\n",
       "0      1         c          a               1270.0                        9.0   \n",
       "1      2         a          a                570.0                       11.0   \n",
       "2      3         a          a              14130.0                       12.0   \n",
       "3      4         c          c                620.0                        9.0   \n",
       "4      5         a          a              29910.0                        4.0   \n",
       "5      6         a          a                310.0                       12.0   \n",
       "6      7         a          c              24000.0                        4.0   \n",
       "7      8         a          a               7520.0                       10.0   \n",
       "8      9         a          c               2030.0                        8.0   \n",
       "9     10         a          a               3160.0                        9.0   \n",
       "\n",
       "   CompetitionOpenSinceYear  Promo2  Promo2SinceWeek  Promo2SinceYear  \\\n",
       "0                    2008.0       0              NaN              NaN   \n",
       "1                    2007.0       1             13.0           2010.0   \n",
       "2                    2006.0       1             14.0           2011.0   \n",
       "3                    2009.0       0              NaN              NaN   \n",
       "4                    2015.0       0              NaN              NaN   \n",
       "5                    2013.0       0              NaN              NaN   \n",
       "6                    2013.0       0              NaN              NaN   \n",
       "7                    2014.0       0              NaN              NaN   \n",
       "8                    2000.0       0              NaN              NaN   \n",
       "9                    2009.0       0              NaN              NaN   \n",
       "\n",
       "     PromoInterval  \n",
       "0              NaN  \n",
       "1  Jan,Apr,Jul,Oct  \n",
       "2  Jan,Apr,Jul,Oct  \n",
       "3              NaN  \n",
       "4              NaN  \n",
       "5              NaN  \n",
       "6              NaN  \n",
       "7              NaN  \n",
       "8              NaN  \n",
       "9              NaN  "
      ]
     },
     "execution_count": 3,
     "metadata": {},
     "output_type": "execute_result"
    }
   ],
   "source": [
    "# reading the store csv file\n",
    "store_df = pd.read_csv(\"../data/store.csv\")\n",
    "store_df.head(10)\n"
   ]
  },
  {
   "cell_type": "code",
   "execution_count": 4,
   "id": "a58bd9b7",
   "metadata": {},
   "outputs": [
    {
     "data": {
      "text/html": [
       "<div>\n",
       "<style scoped>\n",
       "    .dataframe tbody tr th:only-of-type {\n",
       "        vertical-align: middle;\n",
       "    }\n",
       "\n",
       "    .dataframe tbody tr th {\n",
       "        vertical-align: top;\n",
       "    }\n",
       "\n",
       "    .dataframe thead th {\n",
       "        text-align: right;\n",
       "    }\n",
       "</style>\n",
       "<table border=\"1\" class=\"dataframe\">\n",
       "  <thead>\n",
       "    <tr style=\"text-align: right;\">\n",
       "      <th></th>\n",
       "      <th>Store</th>\n",
       "      <th>DayOfWeek</th>\n",
       "      <th>Date</th>\n",
       "      <th>Sales</th>\n",
       "      <th>Customers</th>\n",
       "      <th>Open</th>\n",
       "      <th>Promo</th>\n",
       "      <th>StateHoliday</th>\n",
       "      <th>SchoolHoliday</th>\n",
       "    </tr>\n",
       "  </thead>\n",
       "  <tbody>\n",
       "    <tr>\n",
       "      <th>0</th>\n",
       "      <td>1</td>\n",
       "      <td>5</td>\n",
       "      <td>2015-07-31</td>\n",
       "      <td>5263</td>\n",
       "      <td>555</td>\n",
       "      <td>1</td>\n",
       "      <td>1</td>\n",
       "      <td>0</td>\n",
       "      <td>1</td>\n",
       "    </tr>\n",
       "    <tr>\n",
       "      <th>1</th>\n",
       "      <td>2</td>\n",
       "      <td>5</td>\n",
       "      <td>2015-07-31</td>\n",
       "      <td>6064</td>\n",
       "      <td>625</td>\n",
       "      <td>1</td>\n",
       "      <td>1</td>\n",
       "      <td>0</td>\n",
       "      <td>1</td>\n",
       "    </tr>\n",
       "    <tr>\n",
       "      <th>2</th>\n",
       "      <td>3</td>\n",
       "      <td>5</td>\n",
       "      <td>2015-07-31</td>\n",
       "      <td>8314</td>\n",
       "      <td>821</td>\n",
       "      <td>1</td>\n",
       "      <td>1</td>\n",
       "      <td>0</td>\n",
       "      <td>1</td>\n",
       "    </tr>\n",
       "    <tr>\n",
       "      <th>3</th>\n",
       "      <td>4</td>\n",
       "      <td>5</td>\n",
       "      <td>2015-07-31</td>\n",
       "      <td>13995</td>\n",
       "      <td>1498</td>\n",
       "      <td>1</td>\n",
       "      <td>1</td>\n",
       "      <td>0</td>\n",
       "      <td>1</td>\n",
       "    </tr>\n",
       "    <tr>\n",
       "      <th>4</th>\n",
       "      <td>5</td>\n",
       "      <td>5</td>\n",
       "      <td>2015-07-31</td>\n",
       "      <td>4822</td>\n",
       "      <td>559</td>\n",
       "      <td>1</td>\n",
       "      <td>1</td>\n",
       "      <td>0</td>\n",
       "      <td>1</td>\n",
       "    </tr>\n",
       "    <tr>\n",
       "      <th>5</th>\n",
       "      <td>6</td>\n",
       "      <td>5</td>\n",
       "      <td>2015-07-31</td>\n",
       "      <td>5651</td>\n",
       "      <td>589</td>\n",
       "      <td>1</td>\n",
       "      <td>1</td>\n",
       "      <td>0</td>\n",
       "      <td>1</td>\n",
       "    </tr>\n",
       "    <tr>\n",
       "      <th>6</th>\n",
       "      <td>7</td>\n",
       "      <td>5</td>\n",
       "      <td>2015-07-31</td>\n",
       "      <td>15344</td>\n",
       "      <td>1414</td>\n",
       "      <td>1</td>\n",
       "      <td>1</td>\n",
       "      <td>0</td>\n",
       "      <td>1</td>\n",
       "    </tr>\n",
       "    <tr>\n",
       "      <th>7</th>\n",
       "      <td>8</td>\n",
       "      <td>5</td>\n",
       "      <td>2015-07-31</td>\n",
       "      <td>8492</td>\n",
       "      <td>833</td>\n",
       "      <td>1</td>\n",
       "      <td>1</td>\n",
       "      <td>0</td>\n",
       "      <td>1</td>\n",
       "    </tr>\n",
       "    <tr>\n",
       "      <th>8</th>\n",
       "      <td>9</td>\n",
       "      <td>5</td>\n",
       "      <td>2015-07-31</td>\n",
       "      <td>8565</td>\n",
       "      <td>687</td>\n",
       "      <td>1</td>\n",
       "      <td>1</td>\n",
       "      <td>0</td>\n",
       "      <td>1</td>\n",
       "    </tr>\n",
       "    <tr>\n",
       "      <th>9</th>\n",
       "      <td>10</td>\n",
       "      <td>5</td>\n",
       "      <td>2015-07-31</td>\n",
       "      <td>7185</td>\n",
       "      <td>681</td>\n",
       "      <td>1</td>\n",
       "      <td>1</td>\n",
       "      <td>0</td>\n",
       "      <td>1</td>\n",
       "    </tr>\n",
       "  </tbody>\n",
       "</table>\n",
       "</div>"
      ],
      "text/plain": [
       "   Store  DayOfWeek        Date  Sales  Customers  Open  Promo StateHoliday  \\\n",
       "0      1          5  2015-07-31   5263        555     1      1            0   \n",
       "1      2          5  2015-07-31   6064        625     1      1            0   \n",
       "2      3          5  2015-07-31   8314        821     1      1            0   \n",
       "3      4          5  2015-07-31  13995       1498     1      1            0   \n",
       "4      5          5  2015-07-31   4822        559     1      1            0   \n",
       "5      6          5  2015-07-31   5651        589     1      1            0   \n",
       "6      7          5  2015-07-31  15344       1414     1      1            0   \n",
       "7      8          5  2015-07-31   8492        833     1      1            0   \n",
       "8      9          5  2015-07-31   8565        687     1      1            0   \n",
       "9     10          5  2015-07-31   7185        681     1      1            0   \n",
       "\n",
       "   SchoolHoliday  \n",
       "0              1  \n",
       "1              1  \n",
       "2              1  \n",
       "3              1  \n",
       "4              1  \n",
       "5              1  \n",
       "6              1  \n",
       "7              1  \n",
       "8              1  \n",
       "9              1  "
      ]
     },
     "execution_count": 4,
     "metadata": {},
     "output_type": "execute_result"
    }
   ],
   "source": [
    "# reading the sales training csv file\n",
    "train_df = pd.read_csv(\"../data/train.csv\")\n",
    "train_df.head(10)"
   ]
  },
  {
   "cell_type": "code",
   "execution_count": 5,
   "id": "22436796",
   "metadata": {},
   "outputs": [
    {
     "data": {
      "text/plain": [
       "11150"
      ]
     },
     "execution_count": 5,
     "metadata": {},
     "output_type": "execute_result"
    }
   ],
   "source": [
    "# number of elements in the store df\n",
    "store_df.size"
   ]
  },
  {
   "cell_type": "code",
   "execution_count": 6,
   "id": "05ee5dee",
   "metadata": {},
   "outputs": [
    {
     "data": {
      "text/plain": [
       "(1115, 10)"
      ]
     },
     "execution_count": 6,
     "metadata": {},
     "output_type": "execute_result"
    }
   ],
   "source": [
    "# rows and columns in the df\n",
    "store_df.shape"
   ]
  },
  {
   "cell_type": "code",
   "execution_count": 7,
   "id": "1af69b34",
   "metadata": {},
   "outputs": [
    {
     "name": "stdout",
     "output_type": "stream",
     "text": [
      "<class 'pandas.core.frame.DataFrame'>\n",
      "RangeIndex: 1115 entries, 0 to 1114\n",
      "Data columns (total 10 columns):\n",
      " #   Column                     Non-Null Count  Dtype  \n",
      "---  ------                     --------------  -----  \n",
      " 0   Store                      1115 non-null   int64  \n",
      " 1   StoreType                  1115 non-null   object \n",
      " 2   Assortment                 1115 non-null   object \n",
      " 3   CompetitionDistance        1112 non-null   float64\n",
      " 4   CompetitionOpenSinceMonth  761 non-null    float64\n",
      " 5   CompetitionOpenSinceYear   761 non-null    float64\n",
      " 6   Promo2                     1115 non-null   int64  \n",
      " 7   Promo2SinceWeek            571 non-null    float64\n",
      " 8   Promo2SinceYear            571 non-null    float64\n",
      " 9   PromoInterval              571 non-null    object \n",
      "dtypes: float64(5), int64(2), object(3)\n",
      "memory usage: 87.2+ KB\n"
     ]
    }
   ],
   "source": [
    "store_df.info()"
   ]
  },
  {
   "cell_type": "code",
   "execution_count": 8,
   "id": "7338a18f",
   "metadata": {},
   "outputs": [
    {
     "data": {
      "text/plain": [
       "9154881"
      ]
     },
     "execution_count": 8,
     "metadata": {},
     "output_type": "execute_result"
    }
   ],
   "source": [
    "# number of elements in the train df\n",
    "train_df.size"
   ]
  },
  {
   "cell_type": "code",
   "execution_count": 9,
   "id": "dda36dd2",
   "metadata": {},
   "outputs": [
    {
     "data": {
      "text/plain": [
       "(1017209, 9)"
      ]
     },
     "execution_count": 9,
     "metadata": {},
     "output_type": "execute_result"
    }
   ],
   "source": [
    "# rows and columns in the df\n",
    "train_df.shape"
   ]
  },
  {
   "cell_type": "code",
   "execution_count": 10,
   "id": "f983a91d",
   "metadata": {},
   "outputs": [
    {
     "name": "stdout",
     "output_type": "stream",
     "text": [
      "<class 'pandas.core.frame.DataFrame'>\n",
      "RangeIndex: 1017209 entries, 0 to 1017208\n",
      "Data columns (total 9 columns):\n",
      " #   Column         Non-Null Count    Dtype \n",
      "---  ------         --------------    ----- \n",
      " 0   Store          1017209 non-null  int64 \n",
      " 1   DayOfWeek      1017209 non-null  int64 \n",
      " 2   Date           1017209 non-null  object\n",
      " 3   Sales          1017209 non-null  int64 \n",
      " 4   Customers      1017209 non-null  int64 \n",
      " 5   Open           1017209 non-null  int64 \n",
      " 6   Promo          1017209 non-null  int64 \n",
      " 7   StateHoliday   1017209 non-null  object\n",
      " 8   SchoolHoliday  1017209 non-null  int64 \n",
      "dtypes: int64(7), object(2)\n",
      "memory usage: 69.8+ MB\n"
     ]
    }
   ],
   "source": [
    "train_df.info()"
   ]
  },
  {
   "cell_type": "markdown",
   "id": "c542595a",
   "metadata": {},
   "source": [
    "### Missing Values"
   ]
  },
  {
   "cell_type": "code",
   "execution_count": 11,
   "id": "4e19af2e",
   "metadata": {},
   "outputs": [
    {
     "name": "stdout",
     "output_type": "stream",
     "text": [
      "The dataset contains 21.01 % missing values.\n"
     ]
    }
   ],
   "source": [
    "percent_missing_values(store_df)"
   ]
  },
  {
   "cell_type": "code",
   "execution_count": 12,
   "id": "98302bcd",
   "metadata": {},
   "outputs": [
    {
     "name": "stdout",
     "output_type": "stream",
     "text": [
      "Your selected dataframe has 10 columns.\n",
      "There are 6 columns that have missing values.\n"
     ]
    }
   ],
   "source": [
    "missing_df = missing_values_table(store_df)"
   ]
  },
  {
   "cell_type": "code",
   "execution_count": 13,
   "id": "2740b585",
   "metadata": {},
   "outputs": [
    {
     "data": {
      "text/html": [
       "<div>\n",
       "<style scoped>\n",
       "    .dataframe tbody tr th:only-of-type {\n",
       "        vertical-align: middle;\n",
       "    }\n",
       "\n",
       "    .dataframe tbody tr th {\n",
       "        vertical-align: top;\n",
       "    }\n",
       "\n",
       "    .dataframe thead th {\n",
       "        text-align: right;\n",
       "    }\n",
       "</style>\n",
       "<table border=\"1\" class=\"dataframe\">\n",
       "  <thead>\n",
       "    <tr style=\"text-align: right;\">\n",
       "      <th></th>\n",
       "      <th>Missing Values</th>\n",
       "      <th>% of Total Values</th>\n",
       "      <th>Dtype</th>\n",
       "    </tr>\n",
       "  </thead>\n",
       "  <tbody>\n",
       "    <tr>\n",
       "      <th>Promo2SinceWeek</th>\n",
       "      <td>544</td>\n",
       "      <td>48.79</td>\n",
       "      <td>float64</td>\n",
       "    </tr>\n",
       "    <tr>\n",
       "      <th>Promo2SinceYear</th>\n",
       "      <td>544</td>\n",
       "      <td>48.79</td>\n",
       "      <td>float64</td>\n",
       "    </tr>\n",
       "    <tr>\n",
       "      <th>PromoInterval</th>\n",
       "      <td>544</td>\n",
       "      <td>48.79</td>\n",
       "      <td>object</td>\n",
       "    </tr>\n",
       "    <tr>\n",
       "      <th>CompetitionOpenSinceMonth</th>\n",
       "      <td>354</td>\n",
       "      <td>31.75</td>\n",
       "      <td>float64</td>\n",
       "    </tr>\n",
       "    <tr>\n",
       "      <th>CompetitionOpenSinceYear</th>\n",
       "      <td>354</td>\n",
       "      <td>31.75</td>\n",
       "      <td>float64</td>\n",
       "    </tr>\n",
       "    <tr>\n",
       "      <th>CompetitionDistance</th>\n",
       "      <td>3</td>\n",
       "      <td>0.27</td>\n",
       "      <td>float64</td>\n",
       "    </tr>\n",
       "  </tbody>\n",
       "</table>\n",
       "</div>"
      ],
      "text/plain": [
       "                           Missing Values  % of Total Values    Dtype\n",
       "Promo2SinceWeek                       544              48.79  float64\n",
       "Promo2SinceYear                       544              48.79  float64\n",
       "PromoInterval                         544              48.79   object\n",
       "CompetitionOpenSinceMonth             354              31.75  float64\n",
       "CompetitionOpenSinceYear              354              31.75  float64\n",
       "CompetitionDistance                     3               0.27  float64"
      ]
     },
     "execution_count": 13,
     "metadata": {},
     "output_type": "execute_result"
    }
   ],
   "source": [
    "missing_df"
   ]
  },
  {
   "cell_type": "code",
   "execution_count": 14,
   "id": "9082956e",
   "metadata": {},
   "outputs": [
    {
     "data": {
      "text/plain": [
       "75860.0"
      ]
     },
     "execution_count": 14,
     "metadata": {},
     "output_type": "execute_result"
    }
   ],
   "source": [
    "max_dist = store_df['CompetitionDistance'].max()\n",
    "max_dist"
   ]
  },
  {
   "cell_type": "code",
   "execution_count": 15,
   "id": "9640998a",
   "metadata": {},
   "outputs": [
    {
     "name": "stdout",
     "output_type": "stream",
     "text": [
      "3 missing values in the column CompetitionDistance have been replaced by 75860.0.\n"
     ]
    }
   ],
   "source": [
    "fix_missing_value(store_df, ['CompetitionDistance'], max_dist)"
   ]
  },
  {
   "cell_type": "code",
   "execution_count": 16,
   "id": "365d8cc1",
   "metadata": {},
   "outputs": [
    {
     "name": "stdout",
     "output_type": "stream",
     "text": [
      "The dataset contains 20.99 % missing values.\n"
     ]
    }
   ],
   "source": [
    "# final check for missing values\n",
    "percent_missing_values(store_df)"
   ]
  },
  {
   "cell_type": "code",
   "execution_count": 17,
   "id": "9a7c9d06",
   "metadata": {},
   "outputs": [
    {
     "data": {
      "text/plain": [
       "1900.0"
      ]
     },
     "execution_count": 17,
     "metadata": {},
     "output_type": "execute_result"
    }
   ],
   "source": [
    "min_year = store_df['CompetitionOpenSinceYear'].min()\n",
    "min_year"
   ]
  },
  {
   "cell_type": "code",
   "execution_count": 18,
   "id": "af5c62c2",
   "metadata": {},
   "outputs": [
    {
     "name": "stdout",
     "output_type": "stream",
     "text": [
      "354 missing values in the column CompetitionOpenSinceYear have been replaced by 1900.0.\n",
      "354 missing values in the column CompetitionOpenSinceMonth have been replaced by 1.\n"
     ]
    }
   ],
   "source": [
    "# impute the column CompetitionOpenSinceYear with 1900 and the column CompetitionOpenSinceMonth with 1\n",
    "fix_missing_value(store_df, ['CompetitionOpenSinceYear'], min_year)\n",
    "fix_missing_value(store_df, ['CompetitionOpenSinceMonth'], 1)"
   ]
  },
  {
   "cell_type": "code",
   "execution_count": 19,
   "id": "bd9bac99",
   "metadata": {},
   "outputs": [
    {
     "name": "stdout",
     "output_type": "stream",
     "text": [
      "544 missing values in the column Promo2SinceWeek have been replaced by 0.\n",
      "544 missing values in the column Promo2SinceYear have been replaced by 0.\n"
     ]
    }
   ],
   "source": [
    "fix_missing_value(store_df, ['Promo2SinceWeek', 'Promo2SinceYear'], 0)"
   ]
  },
  {
   "cell_type": "code",
   "execution_count": 20,
   "id": "79cfb435",
   "metadata": {},
   "outputs": [
    {
     "name": "stdout",
     "output_type": "stream",
     "text": [
      "544 missing values in the column PromoInterval have been replaced by 0,0,0,0.\n"
     ]
    }
   ],
   "source": [
    "fix_missing_value(store_df, ['PromoInterval'], '0,0,0,0')"
   ]
  },
  {
   "cell_type": "code",
   "execution_count": 21,
   "id": "4cee754f",
   "metadata": {},
   "outputs": [
    {
     "name": "stdout",
     "output_type": "stream",
     "text": [
      "The dataset contains 0.0 % missing values.\n"
     ]
    }
   ],
   "source": [
    "# final check for missing values\n",
    "percent_missing_values(store_df)"
   ]
  },
  {
   "cell_type": "code",
   "execution_count": 22,
   "id": "bd316b70",
   "metadata": {},
   "outputs": [
    {
     "name": "stdout",
     "output_type": "stream",
     "text": [
      "The dataset contains 0.0 % missing values.\n"
     ]
    }
   ],
   "source": [
    "percent_missing_values(train_df)"
   ]
  },
  {
   "cell_type": "markdown",
   "id": "eb59e7a6",
   "metadata": {},
   "source": [
    "## Data Types"
   ]
  },
  {
   "cell_type": "code",
   "execution_count": 24,
   "id": "08d7253c",
   "metadata": {},
   "outputs": [
    {
     "data": {
      "text/plain": [
       "Store                          int64\n",
       "StoreType                     object\n",
       "Assortment                    object\n",
       "CompetitionDistance          float64\n",
       "CompetitionOpenSinceMonth    float64\n",
       "CompetitionOpenSinceYear     float64\n",
       "Promo2                         int64\n",
       "Promo2SinceWeek              float64\n",
       "Promo2SinceYear              float64\n",
       "PromoInterval                 object\n",
       "dtype: object"
      ]
     },
     "execution_count": 24,
     "metadata": {},
     "output_type": "execute_result"
    }
   ],
   "source": [
    "store_df.dtypes"
   ]
  },
  {
   "cell_type": "code",
   "execution_count": 25,
   "id": "a7634347",
   "metadata": {},
   "outputs": [
    {
     "data": {
      "text/html": [
       "<div>\n",
       "<style scoped>\n",
       "    .dataframe tbody tr th:only-of-type {\n",
       "        vertical-align: middle;\n",
       "    }\n",
       "\n",
       "    .dataframe tbody tr th {\n",
       "        vertical-align: top;\n",
       "    }\n",
       "\n",
       "    .dataframe thead th {\n",
       "        text-align: right;\n",
       "    }\n",
       "</style>\n",
       "<table border=\"1\" class=\"dataframe\">\n",
       "  <thead>\n",
       "    <tr style=\"text-align: right;\">\n",
       "      <th></th>\n",
       "      <th>Store</th>\n",
       "      <th>StoreType</th>\n",
       "      <th>Assortment</th>\n",
       "      <th>CompetitionDistance</th>\n",
       "      <th>CompetitionOpenSinceMonth</th>\n",
       "      <th>CompetitionOpenSinceYear</th>\n",
       "      <th>Promo2</th>\n",
       "      <th>Promo2SinceWeek</th>\n",
       "      <th>Promo2SinceYear</th>\n",
       "      <th>PromoInterval</th>\n",
       "    </tr>\n",
       "  </thead>\n",
       "  <tbody>\n",
       "    <tr>\n",
       "      <th>0</th>\n",
       "      <td>1</td>\n",
       "      <td>c</td>\n",
       "      <td>a</td>\n",
       "      <td>1270.0</td>\n",
       "      <td>9.0</td>\n",
       "      <td>2008.0</td>\n",
       "      <td>0</td>\n",
       "      <td>0.0</td>\n",
       "      <td>0.0</td>\n",
       "      <td>0,0,0,0</td>\n",
       "    </tr>\n",
       "    <tr>\n",
       "      <th>1</th>\n",
       "      <td>2</td>\n",
       "      <td>a</td>\n",
       "      <td>a</td>\n",
       "      <td>570.0</td>\n",
       "      <td>11.0</td>\n",
       "      <td>2007.0</td>\n",
       "      <td>1</td>\n",
       "      <td>13.0</td>\n",
       "      <td>2010.0</td>\n",
       "      <td>Jan,Apr,Jul,Oct</td>\n",
       "    </tr>\n",
       "    <tr>\n",
       "      <th>2</th>\n",
       "      <td>3</td>\n",
       "      <td>a</td>\n",
       "      <td>a</td>\n",
       "      <td>14130.0</td>\n",
       "      <td>12.0</td>\n",
       "      <td>2006.0</td>\n",
       "      <td>1</td>\n",
       "      <td>14.0</td>\n",
       "      <td>2011.0</td>\n",
       "      <td>Jan,Apr,Jul,Oct</td>\n",
       "    </tr>\n",
       "    <tr>\n",
       "      <th>3</th>\n",
       "      <td>4</td>\n",
       "      <td>c</td>\n",
       "      <td>c</td>\n",
       "      <td>620.0</td>\n",
       "      <td>9.0</td>\n",
       "      <td>2009.0</td>\n",
       "      <td>0</td>\n",
       "      <td>0.0</td>\n",
       "      <td>0.0</td>\n",
       "      <td>0,0,0,0</td>\n",
       "    </tr>\n",
       "    <tr>\n",
       "      <th>4</th>\n",
       "      <td>5</td>\n",
       "      <td>a</td>\n",
       "      <td>a</td>\n",
       "      <td>29910.0</td>\n",
       "      <td>4.0</td>\n",
       "      <td>2015.0</td>\n",
       "      <td>0</td>\n",
       "      <td>0.0</td>\n",
       "      <td>0.0</td>\n",
       "      <td>0,0,0,0</td>\n",
       "    </tr>\n",
       "  </tbody>\n",
       "</table>\n",
       "</div>"
      ],
      "text/plain": [
       "   Store StoreType Assortment  CompetitionDistance  CompetitionOpenSinceMonth  \\\n",
       "0      1         c          a               1270.0                        9.0   \n",
       "1      2         a          a                570.0                       11.0   \n",
       "2      3         a          a              14130.0                       12.0   \n",
       "3      4         c          c                620.0                        9.0   \n",
       "4      5         a          a              29910.0                        4.0   \n",
       "\n",
       "   CompetitionOpenSinceYear  Promo2  Promo2SinceWeek  Promo2SinceYear  \\\n",
       "0                    2008.0       0              0.0              0.0   \n",
       "1                    2007.0       1             13.0           2010.0   \n",
       "2                    2006.0       1             14.0           2011.0   \n",
       "3                    2009.0       0              0.0              0.0   \n",
       "4                    2015.0       0              0.0              0.0   \n",
       "\n",
       "     PromoInterval  \n",
       "0          0,0,0,0  \n",
       "1  Jan,Apr,Jul,Oct  \n",
       "2  Jan,Apr,Jul,Oct  \n",
       "3          0,0,0,0  \n",
       "4          0,0,0,0  "
      ]
     },
     "execution_count": 25,
     "metadata": {},
     "output_type": "execute_result"
    }
   ],
   "source": [
    "store_df.head()"
   ]
  },
  {
   "cell_type": "markdown",
   "id": "357b257c",
   "metadata": {},
   "source": [
    "##### StoreType, Assortment and PromoInterval hold string values. we will change this object types to string."
   ]
  },
  {
   "cell_type": "code",
   "execution_count": 26,
   "id": "d849b310",
   "metadata": {},
   "outputs": [
    {
     "data": {
      "text/plain": [
       "['StoreType', 'Assortment', 'PromoInterval']"
      ]
     },
     "execution_count": 26,
     "metadata": {},
     "output_type": "execute_result"
    }
   ],
   "source": [
    "# get the columns with object data type\n",
    "string_columns = store_df.select_dtypes(include='object').columns.tolist()\n",
    "string_columns"
   ]
  },
  {
   "cell_type": "code",
   "execution_count": 27,
   "id": "ae9f6cf8",
   "metadata": {},
   "outputs": [],
   "source": [
    "convert_to_string(store_df, string_columns)"
   ]
  },
  {
   "cell_type": "code",
   "execution_count": 28,
   "id": "afa7244e",
   "metadata": {},
   "outputs": [],
   "source": [
    "convert_to_int(store_df, ['CompetitionOpenSinceMonth',  'CompetitionOpenSinceYear',\n",
    "        'Promo2SinceWeek', 'Promo2SinceYear'])"
   ]
  },
  {
   "cell_type": "code",
   "execution_count": 29,
   "id": "2a1f7df6",
   "metadata": {},
   "outputs": [
    {
     "data": {
      "text/plain": [
       "Store                          int64\n",
       "StoreType                     string\n",
       "Assortment                    string\n",
       "CompetitionDistance          float64\n",
       "CompetitionOpenSinceMonth      int64\n",
       "CompetitionOpenSinceYear       int64\n",
       "Promo2                         int64\n",
       "Promo2SinceWeek                int64\n",
       "Promo2SinceYear                int64\n",
       "PromoInterval                 string\n",
       "dtype: object"
      ]
     },
     "execution_count": 29,
     "metadata": {},
     "output_type": "execute_result"
    }
   ],
   "source": [
    "store_df.dtypes"
   ]
  },
  {
   "cell_type": "code",
   "execution_count": 30,
   "id": "9920919a",
   "metadata": {},
   "outputs": [
    {
     "data": {
      "text/html": [
       "<div>\n",
       "<style scoped>\n",
       "    .dataframe tbody tr th:only-of-type {\n",
       "        vertical-align: middle;\n",
       "    }\n",
       "\n",
       "    .dataframe tbody tr th {\n",
       "        vertical-align: top;\n",
       "    }\n",
       "\n",
       "    .dataframe thead th {\n",
       "        text-align: right;\n",
       "    }\n",
       "</style>\n",
       "<table border=\"1\" class=\"dataframe\">\n",
       "  <thead>\n",
       "    <tr style=\"text-align: right;\">\n",
       "      <th></th>\n",
       "      <th>Store</th>\n",
       "      <th>StoreType</th>\n",
       "      <th>Assortment</th>\n",
       "      <th>CompetitionDistance</th>\n",
       "      <th>CompetitionOpenSinceMonth</th>\n",
       "      <th>CompetitionOpenSinceYear</th>\n",
       "      <th>Promo2</th>\n",
       "      <th>Promo2SinceWeek</th>\n",
       "      <th>Promo2SinceYear</th>\n",
       "      <th>PromoInterval</th>\n",
       "    </tr>\n",
       "  </thead>\n",
       "  <tbody>\n",
       "    <tr>\n",
       "      <th>0</th>\n",
       "      <td>1</td>\n",
       "      <td>c</td>\n",
       "      <td>a</td>\n",
       "      <td>1270.0</td>\n",
       "      <td>9</td>\n",
       "      <td>2008</td>\n",
       "      <td>0</td>\n",
       "      <td>0</td>\n",
       "      <td>0</td>\n",
       "      <td>0,0,0,0</td>\n",
       "    </tr>\n",
       "    <tr>\n",
       "      <th>1</th>\n",
       "      <td>2</td>\n",
       "      <td>a</td>\n",
       "      <td>a</td>\n",
       "      <td>570.0</td>\n",
       "      <td>11</td>\n",
       "      <td>2007</td>\n",
       "      <td>1</td>\n",
       "      <td>13</td>\n",
       "      <td>2010</td>\n",
       "      <td>Jan,Apr,Jul,Oct</td>\n",
       "    </tr>\n",
       "    <tr>\n",
       "      <th>2</th>\n",
       "      <td>3</td>\n",
       "      <td>a</td>\n",
       "      <td>a</td>\n",
       "      <td>14130.0</td>\n",
       "      <td>12</td>\n",
       "      <td>2006</td>\n",
       "      <td>1</td>\n",
       "      <td>14</td>\n",
       "      <td>2011</td>\n",
       "      <td>Jan,Apr,Jul,Oct</td>\n",
       "    </tr>\n",
       "    <tr>\n",
       "      <th>3</th>\n",
       "      <td>4</td>\n",
       "      <td>c</td>\n",
       "      <td>c</td>\n",
       "      <td>620.0</td>\n",
       "      <td>9</td>\n",
       "      <td>2009</td>\n",
       "      <td>0</td>\n",
       "      <td>0</td>\n",
       "      <td>0</td>\n",
       "      <td>0,0,0,0</td>\n",
       "    </tr>\n",
       "    <tr>\n",
       "      <th>4</th>\n",
       "      <td>5</td>\n",
       "      <td>a</td>\n",
       "      <td>a</td>\n",
       "      <td>29910.0</td>\n",
       "      <td>4</td>\n",
       "      <td>2015</td>\n",
       "      <td>0</td>\n",
       "      <td>0</td>\n",
       "      <td>0</td>\n",
       "      <td>0,0,0,0</td>\n",
       "    </tr>\n",
       "  </tbody>\n",
       "</table>\n",
       "</div>"
      ],
      "text/plain": [
       "   Store StoreType Assortment  CompetitionDistance  CompetitionOpenSinceMonth  \\\n",
       "0      1         c          a               1270.0                          9   \n",
       "1      2         a          a                570.0                         11   \n",
       "2      3         a          a              14130.0                         12   \n",
       "3      4         c          c                620.0                          9   \n",
       "4      5         a          a              29910.0                          4   \n",
       "\n",
       "   CompetitionOpenSinceYear  Promo2  Promo2SinceWeek  Promo2SinceYear  \\\n",
       "0                      2008       0                0                0   \n",
       "1                      2007       1               13             2010   \n",
       "2                      2006       1               14             2011   \n",
       "3                      2009       0                0                0   \n",
       "4                      2015       0                0                0   \n",
       "\n",
       "     PromoInterval  \n",
       "0          0,0,0,0  \n",
       "1  Jan,Apr,Jul,Oct  \n",
       "2  Jan,Apr,Jul,Oct  \n",
       "3          0,0,0,0  \n",
       "4          0,0,0,0  "
      ]
     },
     "execution_count": 30,
     "metadata": {},
     "output_type": "execute_result"
    }
   ],
   "source": [
    "store_df.head()"
   ]
  },
  {
   "cell_type": "code",
   "execution_count": 31,
   "id": "9870ff31",
   "metadata": {},
   "outputs": [
    {
     "data": {
      "text/plain": [
       "0    855087\n",
       "0    131072\n",
       "a     20260\n",
       "b      6690\n",
       "c      4100\n",
       "Name: StateHoliday, dtype: int64"
      ]
     },
     "execution_count": 31,
     "metadata": {},
     "output_type": "execute_result"
    }
   ],
   "source": [
    "train_df['StateHoliday'].value_counts()"
   ]
  },
  {
   "cell_type": "code",
   "execution_count": 32,
   "id": "e3ad7fd4",
   "metadata": {},
   "outputs": [
    {
     "data": {
      "text/plain": [
       "Index(['0', 0, 'a', 'b', 'c'], dtype='object')"
      ]
     },
     "execution_count": 32,
     "metadata": {},
     "output_type": "execute_result"
    }
   ],
   "source": [
    "train_df['StateHoliday'].value_counts().index\n"
   ]
  },
  {
   "cell_type": "markdown",
   "id": "945f5a79",
   "metadata": {},
   "source": [
    "#### Here 0 is represented as an integer and a string. Since there are other string values we will convert the StateHoliday column into string.\n",
    "\n",
    "\n"
   ]
  },
  {
   "cell_type": "code",
   "execution_count": 33,
   "id": "629440df",
   "metadata": {},
   "outputs": [],
   "source": [
    "convert_to_string(train_df, ['StateHoliday'])"
   ]
  },
  {
   "cell_type": "code",
   "execution_count": 34,
   "id": "36a2a209",
   "metadata": {},
   "outputs": [
    {
     "data": {
      "text/plain": [
       "Store             int64\n",
       "DayOfWeek         int64\n",
       "Date             object\n",
       "Sales             int64\n",
       "Customers         int64\n",
       "Open              int64\n",
       "Promo             int64\n",
       "StateHoliday     string\n",
       "SchoolHoliday     int64\n",
       "dtype: object"
      ]
     },
     "execution_count": 34,
     "metadata": {},
     "output_type": "execute_result"
    }
   ],
   "source": [
    "train_df.dtypes"
   ]
  },
  {
   "cell_type": "code",
   "execution_count": 35,
   "id": "72888b07",
   "metadata": {},
   "outputs": [],
   "source": [
    "convert_to_datetime(train_df, ['Date'])"
   ]
  },
  {
   "cell_type": "code",
   "execution_count": 36,
   "id": "7681ffcc",
   "metadata": {},
   "outputs": [
    {
     "data": {
      "text/plain": [
       "Store                     int64\n",
       "DayOfWeek                 int64\n",
       "Date             datetime64[ns]\n",
       "Sales                     int64\n",
       "Customers                 int64\n",
       "Open                      int64\n",
       "Promo                     int64\n",
       "StateHoliday             string\n",
       "SchoolHoliday             int64\n",
       "dtype: object"
      ]
     },
     "execution_count": 36,
     "metadata": {},
     "output_type": "execute_result"
    }
   ],
   "source": [
    "train_df.dtypes"
   ]
  },
  {
   "cell_type": "markdown",
   "id": "2cd8fe1d",
   "metadata": {},
   "source": [
    "## Duplicates"
   ]
  },
  {
   "cell_type": "code",
   "execution_count": 37,
   "id": "8736098f",
   "metadata": {},
   "outputs": [
    {
     "name": "stdout",
     "output_type": "stream",
     "text": [
      "No duplicate rows were found.\n"
     ]
    }
   ],
   "source": [
    "# search for duplicate rows and drop them\n",
    "drop_duplicates(store_df)"
   ]
  },
  {
   "cell_type": "code",
   "execution_count": 38,
   "id": "c855c9a4",
   "metadata": {},
   "outputs": [
    {
     "name": "stdout",
     "output_type": "stream",
     "text": [
      "No duplicate rows were found.\n"
     ]
    }
   ],
   "source": [
    "# search for duplicate rows and drop them\n",
    "drop_duplicates(train_df)"
   ]
  },
  {
   "cell_type": "markdown",
   "id": "5f59b74d",
   "metadata": {},
   "source": [
    "# Feature Engineering"
   ]
  },
  {
   "cell_type": "code",
   "execution_count": 140,
   "id": "58489061",
   "metadata": {},
   "outputs": [],
   "source": [
    "train_df['Year'] = train_df['Date'].apply(lambda x: x.year)\n",
    "train_df['Month'] = train_df['Date'].apply(lambda x: x.month)\n",
    "train_df['DayOfMonth'] = train_df['Date'].apply(lambda x: x.day)\n",
    "train_df['WeekOfYear'] = train_df['Date'].apply(lambda x: x.weekofyear)\n",
    "train_df['weekday'] = train_df['DayOfWeek'].apply(lambda x: 0 if (x in [6, 7]) else 1)"
   ]
  },
  {
   "cell_type": "code",
   "execution_count": 141,
   "id": "82dc77d2",
   "metadata": {},
   "outputs": [
    {
     "name": "stdout",
     "output_type": "stream",
     "text": [
      "<class 'pandas.core.frame.DataFrame'>\n",
      "Int64Index: 1017209 entries, 0 to 1017208\n",
      "Data columns (total 14 columns):\n",
      " #   Column         Non-Null Count    Dtype         \n",
      "---  ------         --------------    -----         \n",
      " 0   Store          1017209 non-null  int64         \n",
      " 1   DayOfWeek      1017209 non-null  int64         \n",
      " 2   Date           1017209 non-null  datetime64[ns]\n",
      " 3   Sales          1017209 non-null  int64         \n",
      " 4   Customers      1017209 non-null  int64         \n",
      " 5   Open           1017209 non-null  int64         \n",
      " 6   Promo          1017209 non-null  int64         \n",
      " 7   StateHoliday   1017209 non-null  string        \n",
      " 8   SchoolHoliday  1017209 non-null  int64         \n",
      " 9   Year           1017209 non-null  int64         \n",
      " 10  Month          1017209 non-null  int64         \n",
      " 11  DayOfMonth     1017209 non-null  int64         \n",
      " 12  WeekOfYear     1017209 non-null  int64         \n",
      " 13  weekday        1017209 non-null  int64         \n",
      "dtypes: datetime64[ns](1), int64(12), string(1)\n",
      "memory usage: 148.7 MB\n"
     ]
    }
   ],
   "source": [
    "train_df.info()\n"
   ]
  },
  {
   "cell_type": "code",
   "execution_count": 142,
   "id": "b3e3c4a6",
   "metadata": {},
   "outputs": [
    {
     "data": {
      "text/html": [
       "<div>\n",
       "<style scoped>\n",
       "    .dataframe tbody tr th:only-of-type {\n",
       "        vertical-align: middle;\n",
       "    }\n",
       "\n",
       "    .dataframe tbody tr th {\n",
       "        vertical-align: top;\n",
       "    }\n",
       "\n",
       "    .dataframe thead th {\n",
       "        text-align: right;\n",
       "    }\n",
       "</style>\n",
       "<table border=\"1\" class=\"dataframe\">\n",
       "  <thead>\n",
       "    <tr style=\"text-align: right;\">\n",
       "      <th></th>\n",
       "      <th>Store</th>\n",
       "      <th>DayOfWeek</th>\n",
       "      <th>Date</th>\n",
       "      <th>Sales</th>\n",
       "      <th>Customers</th>\n",
       "      <th>Open</th>\n",
       "      <th>Promo</th>\n",
       "      <th>StateHoliday</th>\n",
       "      <th>SchoolHoliday</th>\n",
       "      <th>Year</th>\n",
       "      <th>Month</th>\n",
       "      <th>DayOfMonth</th>\n",
       "      <th>WeekOfYear</th>\n",
       "      <th>weekday</th>\n",
       "    </tr>\n",
       "  </thead>\n",
       "  <tbody>\n",
       "    <tr>\n",
       "      <th>843192</th>\n",
       "      <td>1038</td>\n",
       "      <td>4</td>\n",
       "      <td>2013-06-06</td>\n",
       "      <td>6227</td>\n",
       "      <td>523</td>\n",
       "      <td>1</td>\n",
       "      <td>1</td>\n",
       "      <td>0</td>\n",
       "      <td>0</td>\n",
       "      <td>2013</td>\n",
       "      <td>6</td>\n",
       "      <td>6</td>\n",
       "      <td>23</td>\n",
       "      <td>1</td>\n",
       "    </tr>\n",
       "    <tr>\n",
       "      <th>838915</th>\n",
       "      <td>106</td>\n",
       "      <td>7</td>\n",
       "      <td>2013-06-09</td>\n",
       "      <td>0</td>\n",
       "      <td>0</td>\n",
       "      <td>0</td>\n",
       "      <td>0</td>\n",
       "      <td>0</td>\n",
       "      <td>0</td>\n",
       "      <td>2013</td>\n",
       "      <td>6</td>\n",
       "      <td>9</td>\n",
       "      <td>23</td>\n",
       "      <td>0</td>\n",
       "    </tr>\n",
       "    <tr>\n",
       "      <th>173823</th>\n",
       "      <td>999</td>\n",
       "      <td>4</td>\n",
       "      <td>2015-02-26</td>\n",
       "      <td>7444</td>\n",
       "      <td>544</td>\n",
       "      <td>1</td>\n",
       "      <td>0</td>\n",
       "      <td>0</td>\n",
       "      <td>0</td>\n",
       "      <td>2015</td>\n",
       "      <td>2</td>\n",
       "      <td>26</td>\n",
       "      <td>9</td>\n",
       "      <td>1</td>\n",
       "    </tr>\n",
       "    <tr>\n",
       "      <th>579255</th>\n",
       "      <td>241</td>\n",
       "      <td>2</td>\n",
       "      <td>2014-01-28</td>\n",
       "      <td>4796</td>\n",
       "      <td>556</td>\n",
       "      <td>1</td>\n",
       "      <td>0</td>\n",
       "      <td>0</td>\n",
       "      <td>0</td>\n",
       "      <td>2014</td>\n",
       "      <td>1</td>\n",
       "      <td>28</td>\n",
       "      <td>5</td>\n",
       "      <td>1</td>\n",
       "    </tr>\n",
       "    <tr>\n",
       "      <th>452892</th>\n",
       "      <td>988</td>\n",
       "      <td>4</td>\n",
       "      <td>2014-05-22</td>\n",
       "      <td>5873</td>\n",
       "      <td>864</td>\n",
       "      <td>1</td>\n",
       "      <td>1</td>\n",
       "      <td>0</td>\n",
       "      <td>0</td>\n",
       "      <td>2014</td>\n",
       "      <td>5</td>\n",
       "      <td>22</td>\n",
       "      <td>21</td>\n",
       "      <td>1</td>\n",
       "    </tr>\n",
       "    <tr>\n",
       "      <th>598871</th>\n",
       "      <td>902</td>\n",
       "      <td>6</td>\n",
       "      <td>2014-01-11</td>\n",
       "      <td>5566</td>\n",
       "      <td>674</td>\n",
       "      <td>1</td>\n",
       "      <td>0</td>\n",
       "      <td>0</td>\n",
       "      <td>0</td>\n",
       "      <td>2014</td>\n",
       "      <td>1</td>\n",
       "      <td>11</td>\n",
       "      <td>2</td>\n",
       "      <td>0</td>\n",
       "    </tr>\n",
       "    <tr>\n",
       "      <th>521079</th>\n",
       "      <td>45</td>\n",
       "      <td>5</td>\n",
       "      <td>2014-03-21</td>\n",
       "      <td>5831</td>\n",
       "      <td>425</td>\n",
       "      <td>1</td>\n",
       "      <td>1</td>\n",
       "      <td>0</td>\n",
       "      <td>0</td>\n",
       "      <td>2014</td>\n",
       "      <td>3</td>\n",
       "      <td>21</td>\n",
       "      <td>12</td>\n",
       "      <td>1</td>\n",
       "    </tr>\n",
       "    <tr>\n",
       "      <th>122375</th>\n",
       "      <td>841</td>\n",
       "      <td>1</td>\n",
       "      <td>2015-04-13</td>\n",
       "      <td>4571</td>\n",
       "      <td>530</td>\n",
       "      <td>1</td>\n",
       "      <td>1</td>\n",
       "      <td>0</td>\n",
       "      <td>0</td>\n",
       "      <td>2015</td>\n",
       "      <td>4</td>\n",
       "      <td>13</td>\n",
       "      <td>16</td>\n",
       "      <td>1</td>\n",
       "    </tr>\n",
       "    <tr>\n",
       "      <th>73362</th>\n",
       "      <td>888</td>\n",
       "      <td>3</td>\n",
       "      <td>2015-05-27</td>\n",
       "      <td>8390</td>\n",
       "      <td>710</td>\n",
       "      <td>1</td>\n",
       "      <td>0</td>\n",
       "      <td>0</td>\n",
       "      <td>0</td>\n",
       "      <td>2015</td>\n",
       "      <td>5</td>\n",
       "      <td>27</td>\n",
       "      <td>22</td>\n",
       "      <td>1</td>\n",
       "    </tr>\n",
       "    <tr>\n",
       "      <th>794495</th>\n",
       "      <td>286</td>\n",
       "      <td>5</td>\n",
       "      <td>2013-07-19</td>\n",
       "      <td>6329</td>\n",
       "      <td>535</td>\n",
       "      <td>1</td>\n",
       "      <td>1</td>\n",
       "      <td>0</td>\n",
       "      <td>1</td>\n",
       "      <td>2013</td>\n",
       "      <td>7</td>\n",
       "      <td>19</td>\n",
       "      <td>29</td>\n",
       "      <td>1</td>\n",
       "    </tr>\n",
       "  </tbody>\n",
       "</table>\n",
       "</div>"
      ],
      "text/plain": [
       "        Store  DayOfWeek       Date  Sales  Customers  Open  Promo  \\\n",
       "843192   1038          4 2013-06-06   6227        523     1      1   \n",
       "838915    106          7 2013-06-09      0          0     0      0   \n",
       "173823    999          4 2015-02-26   7444        544     1      0   \n",
       "579255    241          2 2014-01-28   4796        556     1      0   \n",
       "452892    988          4 2014-05-22   5873        864     1      1   \n",
       "598871    902          6 2014-01-11   5566        674     1      0   \n",
       "521079     45          5 2014-03-21   5831        425     1      1   \n",
       "122375    841          1 2015-04-13   4571        530     1      1   \n",
       "73362     888          3 2015-05-27   8390        710     1      0   \n",
       "794495    286          5 2013-07-19   6329        535     1      1   \n",
       "\n",
       "       StateHoliday  SchoolHoliday  Year  Month  DayOfMonth  WeekOfYear  \\\n",
       "843192            0              0  2013      6           6          23   \n",
       "838915            0              0  2013      6           9          23   \n",
       "173823            0              0  2015      2          26           9   \n",
       "579255            0              0  2014      1          28           5   \n",
       "452892            0              0  2014      5          22          21   \n",
       "598871            0              0  2014      1          11           2   \n",
       "521079            0              0  2014      3          21          12   \n",
       "122375            0              0  2015      4          13          16   \n",
       "73362             0              0  2015      5          27          22   \n",
       "794495            0              1  2013      7          19          29   \n",
       "\n",
       "        weekday  \n",
       "843192        1  \n",
       "838915        0  \n",
       "173823        1  \n",
       "579255        1  \n",
       "452892        1  \n",
       "598871        0  \n",
       "521079        1  \n",
       "122375        1  \n",
       "73362         1  \n",
       "794495        1  "
      ]
     },
     "execution_count": 142,
     "metadata": {},
     "output_type": "execute_result"
    }
   ],
   "source": [
    "train_df.sample(10)"
   ]
  },
  {
   "cell_type": "code",
   "execution_count": 143,
   "id": "e05e0018",
   "metadata": {},
   "outputs": [],
   "source": [
    "def getMonth(month_list, index):\n",
    "    months = ['0', 'Jan', 'Feb', 'Mar', 'Apr', 'May', 'Jun', 'Jul', 'Aug', 'Sept', 'Oct', 'Nov', 'Dec']\n",
    "    month_list = month_list.split(',')\n",
    "    month = month_list[index]\n",
    "    return months.index(month)"
   ]
  },
  {
   "cell_type": "code",
   "execution_count": 144,
   "id": "59547b76",
   "metadata": {},
   "outputs": [],
   "source": [
    "# split the PromoInterval column into 4 columns\n",
    "store_df['PromoInterval0'] = store_df.PromoInterval.apply((lambda x: getMonth(x, 0)))\n",
    "store_df['PromoInterval1'] = store_df.PromoInterval.apply((lambda x: getMonth(x, 1)))\n",
    "store_df['PromoInterval2'] = store_df.PromoInterval.apply((lambda x: getMonth(x, 2)))\n",
    "store_df['PromoInterval3'] = store_df.PromoInterval.apply((lambda x: getMonth(x, 3)))"
   ]
  },
  {
   "cell_type": "code",
   "execution_count": 145,
   "id": "947f52d5",
   "metadata": {},
   "outputs": [
    {
     "data": {
      "text/html": [
       "<div>\n",
       "<style scoped>\n",
       "    .dataframe tbody tr th:only-of-type {\n",
       "        vertical-align: middle;\n",
       "    }\n",
       "\n",
       "    .dataframe tbody tr th {\n",
       "        vertical-align: top;\n",
       "    }\n",
       "\n",
       "    .dataframe thead th {\n",
       "        text-align: right;\n",
       "    }\n",
       "</style>\n",
       "<table border=\"1\" class=\"dataframe\">\n",
       "  <thead>\n",
       "    <tr style=\"text-align: right;\">\n",
       "      <th></th>\n",
       "      <th>Store</th>\n",
       "      <th>StoreType</th>\n",
       "      <th>Assortment</th>\n",
       "      <th>CompetitionDistance</th>\n",
       "      <th>CompetitionOpenSinceMonth</th>\n",
       "      <th>CompetitionOpenSinceYear</th>\n",
       "      <th>Promo2</th>\n",
       "      <th>Promo2SinceWeek</th>\n",
       "      <th>Promo2SinceYear</th>\n",
       "      <th>PromoInterval</th>\n",
       "      <th>PromoInterval0</th>\n",
       "      <th>PromoInterval1</th>\n",
       "      <th>PromoInterval2</th>\n",
       "      <th>PromoInterval3</th>\n",
       "    </tr>\n",
       "  </thead>\n",
       "  <tbody>\n",
       "    <tr>\n",
       "      <th>105</th>\n",
       "      <td>106</td>\n",
       "      <td>a</td>\n",
       "      <td>a</td>\n",
       "      <td>1390.0</td>\n",
       "      <td>8</td>\n",
       "      <td>2013</td>\n",
       "      <td>0</td>\n",
       "      <td>0</td>\n",
       "      <td>0</td>\n",
       "      <td>0,0,0,0</td>\n",
       "      <td>0</td>\n",
       "      <td>0</td>\n",
       "      <td>0</td>\n",
       "      <td>0</td>\n",
       "    </tr>\n",
       "    <tr>\n",
       "      <th>474</th>\n",
       "      <td>475</td>\n",
       "      <td>a</td>\n",
       "      <td>a</td>\n",
       "      <td>140.0</td>\n",
       "      <td>9</td>\n",
       "      <td>2005</td>\n",
       "      <td>0</td>\n",
       "      <td>0</td>\n",
       "      <td>0</td>\n",
       "      <td>0,0,0,0</td>\n",
       "      <td>0</td>\n",
       "      <td>0</td>\n",
       "      <td>0</td>\n",
       "      <td>0</td>\n",
       "    </tr>\n",
       "    <tr>\n",
       "      <th>84</th>\n",
       "      <td>85</td>\n",
       "      <td>b</td>\n",
       "      <td>a</td>\n",
       "      <td>1870.0</td>\n",
       "      <td>10</td>\n",
       "      <td>2011</td>\n",
       "      <td>0</td>\n",
       "      <td>0</td>\n",
       "      <td>0</td>\n",
       "      <td>0,0,0,0</td>\n",
       "      <td>0</td>\n",
       "      <td>0</td>\n",
       "      <td>0</td>\n",
       "      <td>0</td>\n",
       "    </tr>\n",
       "    <tr>\n",
       "      <th>532</th>\n",
       "      <td>533</td>\n",
       "      <td>a</td>\n",
       "      <td>c</td>\n",
       "      <td>5950.0</td>\n",
       "      <td>1</td>\n",
       "      <td>1900</td>\n",
       "      <td>0</td>\n",
       "      <td>0</td>\n",
       "      <td>0</td>\n",
       "      <td>0,0,0,0</td>\n",
       "      <td>0</td>\n",
       "      <td>0</td>\n",
       "      <td>0</td>\n",
       "      <td>0</td>\n",
       "    </tr>\n",
       "    <tr>\n",
       "      <th>509</th>\n",
       "      <td>510</td>\n",
       "      <td>a</td>\n",
       "      <td>c</td>\n",
       "      <td>8260.0</td>\n",
       "      <td>1</td>\n",
       "      <td>1900</td>\n",
       "      <td>0</td>\n",
       "      <td>0</td>\n",
       "      <td>0</td>\n",
       "      <td>0,0,0,0</td>\n",
       "      <td>0</td>\n",
       "      <td>0</td>\n",
       "      <td>0</td>\n",
       "      <td>0</td>\n",
       "    </tr>\n",
       "    <tr>\n",
       "      <th>76</th>\n",
       "      <td>77</td>\n",
       "      <td>d</td>\n",
       "      <td>c</td>\n",
       "      <td>1090.0</td>\n",
       "      <td>8</td>\n",
       "      <td>2009</td>\n",
       "      <td>1</td>\n",
       "      <td>10</td>\n",
       "      <td>2014</td>\n",
       "      <td>Jan,Apr,Jul,Oct</td>\n",
       "      <td>1</td>\n",
       "      <td>4</td>\n",
       "      <td>7</td>\n",
       "      <td>10</td>\n",
       "    </tr>\n",
       "    <tr>\n",
       "      <th>863</th>\n",
       "      <td>864</td>\n",
       "      <td>a</td>\n",
       "      <td>a</td>\n",
       "      <td>1020.0</td>\n",
       "      <td>10</td>\n",
       "      <td>2012</td>\n",
       "      <td>1</td>\n",
       "      <td>45</td>\n",
       "      <td>2009</td>\n",
       "      <td>Feb,May,Aug,Nov</td>\n",
       "      <td>2</td>\n",
       "      <td>5</td>\n",
       "      <td>8</td>\n",
       "      <td>11</td>\n",
       "    </tr>\n",
       "    <tr>\n",
       "      <th>178</th>\n",
       "      <td>179</td>\n",
       "      <td>a</td>\n",
       "      <td>c</td>\n",
       "      <td>480.0</td>\n",
       "      <td>1</td>\n",
       "      <td>1900</td>\n",
       "      <td>0</td>\n",
       "      <td>0</td>\n",
       "      <td>0</td>\n",
       "      <td>0,0,0,0</td>\n",
       "      <td>0</td>\n",
       "      <td>0</td>\n",
       "      <td>0</td>\n",
       "      <td>0</td>\n",
       "    </tr>\n",
       "    <tr>\n",
       "      <th>512</th>\n",
       "      <td>513</td>\n",
       "      <td>a</td>\n",
       "      <td>a</td>\n",
       "      <td>400.0</td>\n",
       "      <td>8</td>\n",
       "      <td>2013</td>\n",
       "      <td>0</td>\n",
       "      <td>0</td>\n",
       "      <td>0</td>\n",
       "      <td>0,0,0,0</td>\n",
       "      <td>0</td>\n",
       "      <td>0</td>\n",
       "      <td>0</td>\n",
       "      <td>0</td>\n",
       "    </tr>\n",
       "    <tr>\n",
       "      <th>945</th>\n",
       "      <td>946</td>\n",
       "      <td>a</td>\n",
       "      <td>a</td>\n",
       "      <td>2220.0</td>\n",
       "      <td>12</td>\n",
       "      <td>2011</td>\n",
       "      <td>1</td>\n",
       "      <td>14</td>\n",
       "      <td>2015</td>\n",
       "      <td>Jan,Apr,Jul,Oct</td>\n",
       "      <td>1</td>\n",
       "      <td>4</td>\n",
       "      <td>7</td>\n",
       "      <td>10</td>\n",
       "    </tr>\n",
       "  </tbody>\n",
       "</table>\n",
       "</div>"
      ],
      "text/plain": [
       "     Store StoreType Assortment  CompetitionDistance  \\\n",
       "105    106         a          a               1390.0   \n",
       "474    475         a          a                140.0   \n",
       "84      85         b          a               1870.0   \n",
       "532    533         a          c               5950.0   \n",
       "509    510         a          c               8260.0   \n",
       "76      77         d          c               1090.0   \n",
       "863    864         a          a               1020.0   \n",
       "178    179         a          c                480.0   \n",
       "512    513         a          a                400.0   \n",
       "945    946         a          a               2220.0   \n",
       "\n",
       "     CompetitionOpenSinceMonth  CompetitionOpenSinceYear  Promo2  \\\n",
       "105                          8                      2013       0   \n",
       "474                          9                      2005       0   \n",
       "84                          10                      2011       0   \n",
       "532                          1                      1900       0   \n",
       "509                          1                      1900       0   \n",
       "76                           8                      2009       1   \n",
       "863                         10                      2012       1   \n",
       "178                          1                      1900       0   \n",
       "512                          8                      2013       0   \n",
       "945                         12                      2011       1   \n",
       "\n",
       "     Promo2SinceWeek  Promo2SinceYear    PromoInterval  PromoInterval0  \\\n",
       "105                0                0          0,0,0,0               0   \n",
       "474                0                0          0,0,0,0               0   \n",
       "84                 0                0          0,0,0,0               0   \n",
       "532                0                0          0,0,0,0               0   \n",
       "509                0                0          0,0,0,0               0   \n",
       "76                10             2014  Jan,Apr,Jul,Oct               1   \n",
       "863               45             2009  Feb,May,Aug,Nov               2   \n",
       "178                0                0          0,0,0,0               0   \n",
       "512                0                0          0,0,0,0               0   \n",
       "945               14             2015  Jan,Apr,Jul,Oct               1   \n",
       "\n",
       "     PromoInterval1  PromoInterval2  PromoInterval3  \n",
       "105               0               0               0  \n",
       "474               0               0               0  \n",
       "84                0               0               0  \n",
       "532               0               0               0  \n",
       "509               0               0               0  \n",
       "76                4               7              10  \n",
       "863               5               8              11  \n",
       "178               0               0               0  \n",
       "512               0               0               0  \n",
       "945               4               7              10  "
      ]
     },
     "execution_count": 145,
     "metadata": {},
     "output_type": "execute_result"
    }
   ],
   "source": [
    "store_df.sample(10)"
   ]
  },
  {
   "cell_type": "code",
   "execution_count": 146,
   "id": "99361861",
   "metadata": {},
   "outputs": [
    {
     "data": {
      "text/plain": [
       "(1017209, 27)"
      ]
     },
     "execution_count": 146,
     "metadata": {},
     "output_type": "execute_result"
    }
   ],
   "source": [
    "# merging store_df and train_df\n",
    "df = pd.merge(train_df, store_df, how='inner', on='Store')\n",
    "df.shape"
   ]
  },
  {
   "cell_type": "markdown",
   "id": "4f2c9b42",
   "metadata": {},
   "source": [
    "# Univariate Analysis\n",
    "\n",
    "### Non-Graphical Univariate Analysis"
   ]
  },
  {
   "cell_type": "code",
   "execution_count": 147,
   "id": "04b5b878",
   "metadata": {},
   "outputs": [
    {
     "data": {
      "text/html": [
       "<div>\n",
       "<style scoped>\n",
       "    .dataframe tbody tr th:only-of-type {\n",
       "        vertical-align: middle;\n",
       "    }\n",
       "\n",
       "    .dataframe tbody tr th {\n",
       "        vertical-align: top;\n",
       "    }\n",
       "\n",
       "    .dataframe thead th {\n",
       "        text-align: right;\n",
       "    }\n",
       "</style>\n",
       "<table border=\"1\" class=\"dataframe\">\n",
       "  <thead>\n",
       "    <tr style=\"text-align: right;\">\n",
       "      <th></th>\n",
       "      <th>count</th>\n",
       "      <th>mean</th>\n",
       "      <th>std</th>\n",
       "      <th>min</th>\n",
       "      <th>25%</th>\n",
       "      <th>50%</th>\n",
       "      <th>75%</th>\n",
       "      <th>max</th>\n",
       "    </tr>\n",
       "  </thead>\n",
       "  <tbody>\n",
       "    <tr>\n",
       "      <th>Store</th>\n",
       "      <td>1017209.0</td>\n",
       "      <td>558.429727</td>\n",
       "      <td>321.908651</td>\n",
       "      <td>1.0</td>\n",
       "      <td>280.0</td>\n",
       "      <td>558.0</td>\n",
       "      <td>838.0</td>\n",
       "      <td>1115.0</td>\n",
       "    </tr>\n",
       "    <tr>\n",
       "      <th>DayOfWeek</th>\n",
       "      <td>1017209.0</td>\n",
       "      <td>3.998341</td>\n",
       "      <td>1.997391</td>\n",
       "      <td>1.0</td>\n",
       "      <td>2.0</td>\n",
       "      <td>4.0</td>\n",
       "      <td>6.0</td>\n",
       "      <td>7.0</td>\n",
       "    </tr>\n",
       "    <tr>\n",
       "      <th>Sales</th>\n",
       "      <td>1017209.0</td>\n",
       "      <td>5773.818972</td>\n",
       "      <td>3849.926175</td>\n",
       "      <td>0.0</td>\n",
       "      <td>3727.0</td>\n",
       "      <td>5744.0</td>\n",
       "      <td>7856.0</td>\n",
       "      <td>41551.0</td>\n",
       "    </tr>\n",
       "    <tr>\n",
       "      <th>Customers</th>\n",
       "      <td>1017209.0</td>\n",
       "      <td>633.145946</td>\n",
       "      <td>464.411734</td>\n",
       "      <td>0.0</td>\n",
       "      <td>405.0</td>\n",
       "      <td>609.0</td>\n",
       "      <td>837.0</td>\n",
       "      <td>7388.0</td>\n",
       "    </tr>\n",
       "    <tr>\n",
       "      <th>Open</th>\n",
       "      <td>1017209.0</td>\n",
       "      <td>0.830107</td>\n",
       "      <td>0.375539</td>\n",
       "      <td>0.0</td>\n",
       "      <td>1.0</td>\n",
       "      <td>1.0</td>\n",
       "      <td>1.0</td>\n",
       "      <td>1.0</td>\n",
       "    </tr>\n",
       "    <tr>\n",
       "      <th>Promo</th>\n",
       "      <td>1017209.0</td>\n",
       "      <td>0.381515</td>\n",
       "      <td>0.485759</td>\n",
       "      <td>0.0</td>\n",
       "      <td>0.0</td>\n",
       "      <td>0.0</td>\n",
       "      <td>1.0</td>\n",
       "      <td>1.0</td>\n",
       "    </tr>\n",
       "    <tr>\n",
       "      <th>SchoolHoliday</th>\n",
       "      <td>1017209.0</td>\n",
       "      <td>0.178647</td>\n",
       "      <td>0.383056</td>\n",
       "      <td>0.0</td>\n",
       "      <td>0.0</td>\n",
       "      <td>0.0</td>\n",
       "      <td>0.0</td>\n",
       "      <td>1.0</td>\n",
       "    </tr>\n",
       "    <tr>\n",
       "      <th>Year</th>\n",
       "      <td>1017209.0</td>\n",
       "      <td>2013.832292</td>\n",
       "      <td>0.777396</td>\n",
       "      <td>2013.0</td>\n",
       "      <td>2013.0</td>\n",
       "      <td>2014.0</td>\n",
       "      <td>2014.0</td>\n",
       "      <td>2015.0</td>\n",
       "    </tr>\n",
       "    <tr>\n",
       "      <th>Month</th>\n",
       "      <td>1017209.0</td>\n",
       "      <td>5.846762</td>\n",
       "      <td>3.326097</td>\n",
       "      <td>1.0</td>\n",
       "      <td>3.0</td>\n",
       "      <td>6.0</td>\n",
       "      <td>8.0</td>\n",
       "      <td>12.0</td>\n",
       "    </tr>\n",
       "    <tr>\n",
       "      <th>DayOfMonth</th>\n",
       "      <td>1017209.0</td>\n",
       "      <td>15.702790</td>\n",
       "      <td>8.787638</td>\n",
       "      <td>1.0</td>\n",
       "      <td>8.0</td>\n",
       "      <td>16.0</td>\n",
       "      <td>23.0</td>\n",
       "      <td>31.0</td>\n",
       "    </tr>\n",
       "    <tr>\n",
       "      <th>WeekOfYear</th>\n",
       "      <td>1017209.0</td>\n",
       "      <td>23.615515</td>\n",
       "      <td>14.433381</td>\n",
       "      <td>1.0</td>\n",
       "      <td>11.0</td>\n",
       "      <td>22.0</td>\n",
       "      <td>35.0</td>\n",
       "      <td>52.0</td>\n",
       "    </tr>\n",
       "    <tr>\n",
       "      <th>weekday</th>\n",
       "      <td>1017209.0</td>\n",
       "      <td>0.715437</td>\n",
       "      <td>0.451206</td>\n",
       "      <td>0.0</td>\n",
       "      <td>0.0</td>\n",
       "      <td>1.0</td>\n",
       "      <td>1.0</td>\n",
       "      <td>1.0</td>\n",
       "    </tr>\n",
       "    <tr>\n",
       "      <th>CompetitionDistance</th>\n",
       "      <td>1017209.0</td>\n",
       "      <td>5613.013481</td>\n",
       "      <td>8498.338271</td>\n",
       "      <td>20.0</td>\n",
       "      <td>710.0</td>\n",
       "      <td>2330.0</td>\n",
       "      <td>6910.0</td>\n",
       "      <td>75860.0</td>\n",
       "    </tr>\n",
       "    <tr>\n",
       "      <th>CompetitionOpenSinceMonth</th>\n",
       "      <td>1017209.0</td>\n",
       "      <td>5.244756</td>\n",
       "      <td>3.928522</td>\n",
       "      <td>1.0</td>\n",
       "      <td>1.0</td>\n",
       "      <td>4.0</td>\n",
       "      <td>9.0</td>\n",
       "      <td>12.0</td>\n",
       "    </tr>\n",
       "    <tr>\n",
       "      <th>CompetitionOpenSinceYear</th>\n",
       "      <td>1017209.0</td>\n",
       "      <td>1974.140034</td>\n",
       "      <td>50.853233</td>\n",
       "      <td>1900.0</td>\n",
       "      <td>1900.0</td>\n",
       "      <td>2006.0</td>\n",
       "      <td>2011.0</td>\n",
       "      <td>2015.0</td>\n",
       "    </tr>\n",
       "    <tr>\n",
       "      <th>Promo2</th>\n",
       "      <td>1017209.0</td>\n",
       "      <td>0.500564</td>\n",
       "      <td>0.500000</td>\n",
       "      <td>0.0</td>\n",
       "      <td>0.0</td>\n",
       "      <td>1.0</td>\n",
       "      <td>1.0</td>\n",
       "      <td>1.0</td>\n",
       "    </tr>\n",
       "    <tr>\n",
       "      <th>Promo2SinceWeek</th>\n",
       "      <td>1017209.0</td>\n",
       "      <td>11.647665</td>\n",
       "      <td>15.323928</td>\n",
       "      <td>0.0</td>\n",
       "      <td>0.0</td>\n",
       "      <td>1.0</td>\n",
       "      <td>22.0</td>\n",
       "      <td>50.0</td>\n",
       "    </tr>\n",
       "    <tr>\n",
       "      <th>Promo2SinceYear</th>\n",
       "      <td>1017209.0</td>\n",
       "      <td>1007.010608</td>\n",
       "      <td>1005.876930</td>\n",
       "      <td>0.0</td>\n",
       "      <td>0.0</td>\n",
       "      <td>2009.0</td>\n",
       "      <td>2012.0</td>\n",
       "      <td>2015.0</td>\n",
       "    </tr>\n",
       "    <tr>\n",
       "      <th>PromoInterval0</th>\n",
       "      <td>1017209.0</td>\n",
       "      <td>0.808776</td>\n",
       "      <td>0.981175</td>\n",
       "      <td>0.0</td>\n",
       "      <td>0.0</td>\n",
       "      <td>1.0</td>\n",
       "      <td>1.0</td>\n",
       "      <td>3.0</td>\n",
       "    </tr>\n",
       "    <tr>\n",
       "      <th>PromoInterval1</th>\n",
       "      <td>1017209.0</td>\n",
       "      <td>2.310467</td>\n",
       "      <td>2.374089</td>\n",
       "      <td>0.0</td>\n",
       "      <td>0.0</td>\n",
       "      <td>4.0</td>\n",
       "      <td>4.0</td>\n",
       "      <td>6.0</td>\n",
       "    </tr>\n",
       "    <tr>\n",
       "      <th>PromoInterval2</th>\n",
       "      <td>1017209.0</td>\n",
       "      <td>3.812159</td>\n",
       "      <td>3.848362</td>\n",
       "      <td>0.0</td>\n",
       "      <td>0.0</td>\n",
       "      <td>7.0</td>\n",
       "      <td>7.0</td>\n",
       "      <td>9.0</td>\n",
       "    </tr>\n",
       "    <tr>\n",
       "      <th>PromoInterval3</th>\n",
       "      <td>1017209.0</td>\n",
       "      <td>5.313850</td>\n",
       "      <td>5.336992</td>\n",
       "      <td>0.0</td>\n",
       "      <td>0.0</td>\n",
       "      <td>10.0</td>\n",
       "      <td>10.0</td>\n",
       "      <td>12.0</td>\n",
       "    </tr>\n",
       "  </tbody>\n",
       "</table>\n",
       "</div>"
      ],
      "text/plain": [
       "                               count         mean          std     min  \\\n",
       "Store                      1017209.0   558.429727   321.908651     1.0   \n",
       "DayOfWeek                  1017209.0     3.998341     1.997391     1.0   \n",
       "Sales                      1017209.0  5773.818972  3849.926175     0.0   \n",
       "Customers                  1017209.0   633.145946   464.411734     0.0   \n",
       "Open                       1017209.0     0.830107     0.375539     0.0   \n",
       "Promo                      1017209.0     0.381515     0.485759     0.0   \n",
       "SchoolHoliday              1017209.0     0.178647     0.383056     0.0   \n",
       "Year                       1017209.0  2013.832292     0.777396  2013.0   \n",
       "Month                      1017209.0     5.846762     3.326097     1.0   \n",
       "DayOfMonth                 1017209.0    15.702790     8.787638     1.0   \n",
       "WeekOfYear                 1017209.0    23.615515    14.433381     1.0   \n",
       "weekday                    1017209.0     0.715437     0.451206     0.0   \n",
       "CompetitionDistance        1017209.0  5613.013481  8498.338271    20.0   \n",
       "CompetitionOpenSinceMonth  1017209.0     5.244756     3.928522     1.0   \n",
       "CompetitionOpenSinceYear   1017209.0  1974.140034    50.853233  1900.0   \n",
       "Promo2                     1017209.0     0.500564     0.500000     0.0   \n",
       "Promo2SinceWeek            1017209.0    11.647665    15.323928     0.0   \n",
       "Promo2SinceYear            1017209.0  1007.010608  1005.876930     0.0   \n",
       "PromoInterval0             1017209.0     0.808776     0.981175     0.0   \n",
       "PromoInterval1             1017209.0     2.310467     2.374089     0.0   \n",
       "PromoInterval2             1017209.0     3.812159     3.848362     0.0   \n",
       "PromoInterval3             1017209.0     5.313850     5.336992     0.0   \n",
       "\n",
       "                              25%     50%     75%      max  \n",
       "Store                       280.0   558.0   838.0   1115.0  \n",
       "DayOfWeek                     2.0     4.0     6.0      7.0  \n",
       "Sales                      3727.0  5744.0  7856.0  41551.0  \n",
       "Customers                   405.0   609.0   837.0   7388.0  \n",
       "Open                          1.0     1.0     1.0      1.0  \n",
       "Promo                         0.0     0.0     1.0      1.0  \n",
       "SchoolHoliday                 0.0     0.0     0.0      1.0  \n",
       "Year                       2013.0  2014.0  2014.0   2015.0  \n",
       "Month                         3.0     6.0     8.0     12.0  \n",
       "DayOfMonth                    8.0    16.0    23.0     31.0  \n",
       "WeekOfYear                   11.0    22.0    35.0     52.0  \n",
       "weekday                       0.0     1.0     1.0      1.0  \n",
       "CompetitionDistance         710.0  2330.0  6910.0  75860.0  \n",
       "CompetitionOpenSinceMonth     1.0     4.0     9.0     12.0  \n",
       "CompetitionOpenSinceYear   1900.0  2006.0  2011.0   2015.0  \n",
       "Promo2                        0.0     1.0     1.0      1.0  \n",
       "Promo2SinceWeek               0.0     1.0    22.0     50.0  \n",
       "Promo2SinceYear               0.0  2009.0  2012.0   2015.0  \n",
       "PromoInterval0                0.0     1.0     1.0      3.0  \n",
       "PromoInterval1                0.0     4.0     4.0      6.0  \n",
       "PromoInterval2                0.0     7.0     7.0      9.0  \n",
       "PromoInterval3                0.0    10.0    10.0     12.0  "
      ]
     },
     "execution_count": 147,
     "metadata": {},
     "output_type": "execute_result"
    }
   ],
   "source": [
    "\n",
    "df.describe().transpose()"
   ]
  },
  {
   "cell_type": "markdown",
   "id": "8b789a63",
   "metadata": {},
   "source": [
    "### Store Type"
   ]
  },
  {
   "cell_type": "code",
   "execution_count": 148,
   "id": "0fced9b5",
   "metadata": {},
   "outputs": [
    {
     "data": {
      "text/plain": [
       "a    602\n",
       "d    348\n",
       "c    148\n",
       "b     17\n",
       "Name: StoreType, dtype: Int64"
      ]
     },
     "execution_count": 148,
     "metadata": {},
     "output_type": "execute_result"
    }
   ],
   "source": [
    "# unique value counts\n",
    "counts_df = store_df['StoreType'].value_counts()\n",
    "counts_df"
   ]
  },
  {
   "cell_type": "code",
   "execution_count": 189,
   "id": "95585ea9",
   "metadata": {},
   "outputs": [
    {
     "data": {
      "application/vnd.plotly.v1+json": {
       "config": {
        "plotlyServerURL": "https://plot.ly"
       },
       "data": [
        {
         "domain": {
          "x": [
           0,
           1
          ],
          "y": [
           0,
           1
          ]
         },
         "hovertemplate": "StoreType=%{label}<br>count=%{value}<extra></extra>",
         "labels": [
          "a",
          "d",
          "c",
          "b"
         ],
         "legendgroup": "",
         "name": "",
         "showlegend": true,
         "type": "pie",
         "values": [
          602,
          348,
          148,
          17
         ]
        }
       ],
       "layout": {
        "height": 500,
        "legend": {
         "tracegroupgap": 0
        },
        "template": {
         "data": {
          "bar": [
           {
            "error_x": {
             "color": "#2a3f5f"
            },
            "error_y": {
             "color": "#2a3f5f"
            },
            "marker": {
             "line": {
              "color": "#E5ECF6",
              "width": 0.5
             },
             "pattern": {
              "fillmode": "overlay",
              "size": 10,
              "solidity": 0.2
             }
            },
            "type": "bar"
           }
          ],
          "barpolar": [
           {
            "marker": {
             "line": {
              "color": "#E5ECF6",
              "width": 0.5
             },
             "pattern": {
              "fillmode": "overlay",
              "size": 10,
              "solidity": 0.2
             }
            },
            "type": "barpolar"
           }
          ],
          "carpet": [
           {
            "aaxis": {
             "endlinecolor": "#2a3f5f",
             "gridcolor": "white",
             "linecolor": "white",
             "minorgridcolor": "white",
             "startlinecolor": "#2a3f5f"
            },
            "baxis": {
             "endlinecolor": "#2a3f5f",
             "gridcolor": "white",
             "linecolor": "white",
             "minorgridcolor": "white",
             "startlinecolor": "#2a3f5f"
            },
            "type": "carpet"
           }
          ],
          "choropleth": [
           {
            "colorbar": {
             "outlinewidth": 0,
             "ticks": ""
            },
            "type": "choropleth"
           }
          ],
          "contour": [
           {
            "colorbar": {
             "outlinewidth": 0,
             "ticks": ""
            },
            "colorscale": [
             [
              0,
              "#0d0887"
             ],
             [
              0.1111111111111111,
              "#46039f"
             ],
             [
              0.2222222222222222,
              "#7201a8"
             ],
             [
              0.3333333333333333,
              "#9c179e"
             ],
             [
              0.4444444444444444,
              "#bd3786"
             ],
             [
              0.5555555555555556,
              "#d8576b"
             ],
             [
              0.6666666666666666,
              "#ed7953"
             ],
             [
              0.7777777777777778,
              "#fb9f3a"
             ],
             [
              0.8888888888888888,
              "#fdca26"
             ],
             [
              1,
              "#f0f921"
             ]
            ],
            "type": "contour"
           }
          ],
          "contourcarpet": [
           {
            "colorbar": {
             "outlinewidth": 0,
             "ticks": ""
            },
            "type": "contourcarpet"
           }
          ],
          "heatmap": [
           {
            "colorbar": {
             "outlinewidth": 0,
             "ticks": ""
            },
            "colorscale": [
             [
              0,
              "#0d0887"
             ],
             [
              0.1111111111111111,
              "#46039f"
             ],
             [
              0.2222222222222222,
              "#7201a8"
             ],
             [
              0.3333333333333333,
              "#9c179e"
             ],
             [
              0.4444444444444444,
              "#bd3786"
             ],
             [
              0.5555555555555556,
              "#d8576b"
             ],
             [
              0.6666666666666666,
              "#ed7953"
             ],
             [
              0.7777777777777778,
              "#fb9f3a"
             ],
             [
              0.8888888888888888,
              "#fdca26"
             ],
             [
              1,
              "#f0f921"
             ]
            ],
            "type": "heatmap"
           }
          ],
          "heatmapgl": [
           {
            "colorbar": {
             "outlinewidth": 0,
             "ticks": ""
            },
            "colorscale": [
             [
              0,
              "#0d0887"
             ],
             [
              0.1111111111111111,
              "#46039f"
             ],
             [
              0.2222222222222222,
              "#7201a8"
             ],
             [
              0.3333333333333333,
              "#9c179e"
             ],
             [
              0.4444444444444444,
              "#bd3786"
             ],
             [
              0.5555555555555556,
              "#d8576b"
             ],
             [
              0.6666666666666666,
              "#ed7953"
             ],
             [
              0.7777777777777778,
              "#fb9f3a"
             ],
             [
              0.8888888888888888,
              "#fdca26"
             ],
             [
              1,
              "#f0f921"
             ]
            ],
            "type": "heatmapgl"
           }
          ],
          "histogram": [
           {
            "marker": {
             "pattern": {
              "fillmode": "overlay",
              "size": 10,
              "solidity": 0.2
             }
            },
            "type": "histogram"
           }
          ],
          "histogram2d": [
           {
            "colorbar": {
             "outlinewidth": 0,
             "ticks": ""
            },
            "colorscale": [
             [
              0,
              "#0d0887"
             ],
             [
              0.1111111111111111,
              "#46039f"
             ],
             [
              0.2222222222222222,
              "#7201a8"
             ],
             [
              0.3333333333333333,
              "#9c179e"
             ],
             [
              0.4444444444444444,
              "#bd3786"
             ],
             [
              0.5555555555555556,
              "#d8576b"
             ],
             [
              0.6666666666666666,
              "#ed7953"
             ],
             [
              0.7777777777777778,
              "#fb9f3a"
             ],
             [
              0.8888888888888888,
              "#fdca26"
             ],
             [
              1,
              "#f0f921"
             ]
            ],
            "type": "histogram2d"
           }
          ],
          "histogram2dcontour": [
           {
            "colorbar": {
             "outlinewidth": 0,
             "ticks": ""
            },
            "colorscale": [
             [
              0,
              "#0d0887"
             ],
             [
              0.1111111111111111,
              "#46039f"
             ],
             [
              0.2222222222222222,
              "#7201a8"
             ],
             [
              0.3333333333333333,
              "#9c179e"
             ],
             [
              0.4444444444444444,
              "#bd3786"
             ],
             [
              0.5555555555555556,
              "#d8576b"
             ],
             [
              0.6666666666666666,
              "#ed7953"
             ],
             [
              0.7777777777777778,
              "#fb9f3a"
             ],
             [
              0.8888888888888888,
              "#fdca26"
             ],
             [
              1,
              "#f0f921"
             ]
            ],
            "type": "histogram2dcontour"
           }
          ],
          "mesh3d": [
           {
            "colorbar": {
             "outlinewidth": 0,
             "ticks": ""
            },
            "type": "mesh3d"
           }
          ],
          "parcoords": [
           {
            "line": {
             "colorbar": {
              "outlinewidth": 0,
              "ticks": ""
             }
            },
            "type": "parcoords"
           }
          ],
          "pie": [
           {
            "automargin": true,
            "type": "pie"
           }
          ],
          "scatter": [
           {
            "fillpattern": {
             "fillmode": "overlay",
             "size": 10,
             "solidity": 0.2
            },
            "type": "scatter"
           }
          ],
          "scatter3d": [
           {
            "line": {
             "colorbar": {
              "outlinewidth": 0,
              "ticks": ""
             }
            },
            "marker": {
             "colorbar": {
              "outlinewidth": 0,
              "ticks": ""
             }
            },
            "type": "scatter3d"
           }
          ],
          "scattercarpet": [
           {
            "marker": {
             "colorbar": {
              "outlinewidth": 0,
              "ticks": ""
             }
            },
            "type": "scattercarpet"
           }
          ],
          "scattergeo": [
           {
            "marker": {
             "colorbar": {
              "outlinewidth": 0,
              "ticks": ""
             }
            },
            "type": "scattergeo"
           }
          ],
          "scattergl": [
           {
            "marker": {
             "colorbar": {
              "outlinewidth": 0,
              "ticks": ""
             }
            },
            "type": "scattergl"
           }
          ],
          "scattermapbox": [
           {
            "marker": {
             "colorbar": {
              "outlinewidth": 0,
              "ticks": ""
             }
            },
            "type": "scattermapbox"
           }
          ],
          "scatterpolar": [
           {
            "marker": {
             "colorbar": {
              "outlinewidth": 0,
              "ticks": ""
             }
            },
            "type": "scatterpolar"
           }
          ],
          "scatterpolargl": [
           {
            "marker": {
             "colorbar": {
              "outlinewidth": 0,
              "ticks": ""
             }
            },
            "type": "scatterpolargl"
           }
          ],
          "scatterternary": [
           {
            "marker": {
             "colorbar": {
              "outlinewidth": 0,
              "ticks": ""
             }
            },
            "type": "scatterternary"
           }
          ],
          "surface": [
           {
            "colorbar": {
             "outlinewidth": 0,
             "ticks": ""
            },
            "colorscale": [
             [
              0,
              "#0d0887"
             ],
             [
              0.1111111111111111,
              "#46039f"
             ],
             [
              0.2222222222222222,
              "#7201a8"
             ],
             [
              0.3333333333333333,
              "#9c179e"
             ],
             [
              0.4444444444444444,
              "#bd3786"
             ],
             [
              0.5555555555555556,
              "#d8576b"
             ],
             [
              0.6666666666666666,
              "#ed7953"
             ],
             [
              0.7777777777777778,
              "#fb9f3a"
             ],
             [
              0.8888888888888888,
              "#fdca26"
             ],
             [
              1,
              "#f0f921"
             ]
            ],
            "type": "surface"
           }
          ],
          "table": [
           {
            "cells": {
             "fill": {
              "color": "#EBF0F8"
             },
             "line": {
              "color": "white"
             }
            },
            "header": {
             "fill": {
              "color": "#C8D4E3"
             },
             "line": {
              "color": "white"
             }
            },
            "type": "table"
           }
          ]
         },
         "layout": {
          "annotationdefaults": {
           "arrowcolor": "#2a3f5f",
           "arrowhead": 0,
           "arrowwidth": 1
          },
          "autotypenumbers": "strict",
          "coloraxis": {
           "colorbar": {
            "outlinewidth": 0,
            "ticks": ""
           }
          },
          "colorscale": {
           "diverging": [
            [
             0,
             "#8e0152"
            ],
            [
             0.1,
             "#c51b7d"
            ],
            [
             0.2,
             "#de77ae"
            ],
            [
             0.3,
             "#f1b6da"
            ],
            [
             0.4,
             "#fde0ef"
            ],
            [
             0.5,
             "#f7f7f7"
            ],
            [
             0.6,
             "#e6f5d0"
            ],
            [
             0.7,
             "#b8e186"
            ],
            [
             0.8,
             "#7fbc41"
            ],
            [
             0.9,
             "#4d9221"
            ],
            [
             1,
             "#276419"
            ]
           ],
           "sequential": [
            [
             0,
             "#0d0887"
            ],
            [
             0.1111111111111111,
             "#46039f"
            ],
            [
             0.2222222222222222,
             "#7201a8"
            ],
            [
             0.3333333333333333,
             "#9c179e"
            ],
            [
             0.4444444444444444,
             "#bd3786"
            ],
            [
             0.5555555555555556,
             "#d8576b"
            ],
            [
             0.6666666666666666,
             "#ed7953"
            ],
            [
             0.7777777777777778,
             "#fb9f3a"
            ],
            [
             0.8888888888888888,
             "#fdca26"
            ],
            [
             1,
             "#f0f921"
            ]
           ],
           "sequentialminus": [
            [
             0,
             "#0d0887"
            ],
            [
             0.1111111111111111,
             "#46039f"
            ],
            [
             0.2222222222222222,
             "#7201a8"
            ],
            [
             0.3333333333333333,
             "#9c179e"
            ],
            [
             0.4444444444444444,
             "#bd3786"
            ],
            [
             0.5555555555555556,
             "#d8576b"
            ],
            [
             0.6666666666666666,
             "#ed7953"
            ],
            [
             0.7777777777777778,
             "#fb9f3a"
            ],
            [
             0.8888888888888888,
             "#fdca26"
            ],
            [
             1,
             "#f0f921"
            ]
           ]
          },
          "colorway": [
           "#636efa",
           "#EF553B",
           "#00cc96",
           "#ab63fa",
           "#FFA15A",
           "#19d3f3",
           "#FF6692",
           "#B6E880",
           "#FF97FF",
           "#FECB52"
          ],
          "font": {
           "color": "#2a3f5f"
          },
          "geo": {
           "bgcolor": "white",
           "lakecolor": "white",
           "landcolor": "#E5ECF6",
           "showlakes": true,
           "showland": true,
           "subunitcolor": "white"
          },
          "hoverlabel": {
           "align": "left"
          },
          "hovermode": "closest",
          "mapbox": {
           "style": "light"
          },
          "paper_bgcolor": "white",
          "plot_bgcolor": "#E5ECF6",
          "polar": {
           "angularaxis": {
            "gridcolor": "white",
            "linecolor": "white",
            "ticks": ""
           },
           "bgcolor": "#E5ECF6",
           "radialaxis": {
            "gridcolor": "white",
            "linecolor": "white",
            "ticks": ""
           }
          },
          "scene": {
           "xaxis": {
            "backgroundcolor": "#E5ECF6",
            "gridcolor": "white",
            "gridwidth": 2,
            "linecolor": "white",
            "showbackground": true,
            "ticks": "",
            "zerolinecolor": "white"
           },
           "yaxis": {
            "backgroundcolor": "#E5ECF6",
            "gridcolor": "white",
            "gridwidth": 2,
            "linecolor": "white",
            "showbackground": true,
            "ticks": "",
            "zerolinecolor": "white"
           },
           "zaxis": {
            "backgroundcolor": "#E5ECF6",
            "gridcolor": "white",
            "gridwidth": 2,
            "linecolor": "white",
            "showbackground": true,
            "ticks": "",
            "zerolinecolor": "white"
           }
          },
          "shapedefaults": {
           "line": {
            "color": "#2a3f5f"
           }
          },
          "ternary": {
           "aaxis": {
            "gridcolor": "white",
            "linecolor": "white",
            "ticks": ""
           },
           "baxis": {
            "gridcolor": "white",
            "linecolor": "white",
            "ticks": ""
           },
           "bgcolor": "#E5ECF6",
           "caxis": {
            "gridcolor": "white",
            "linecolor": "white",
            "ticks": ""
           }
          },
          "title": {
           "x": 0.05
          },
          "xaxis": {
           "automargin": true,
           "gridcolor": "white",
           "linecolor": "white",
           "ticks": "",
           "title": {
            "standoff": 15
           },
           "zerolinecolor": "white",
           "zerolinewidth": 2
          },
          "yaxis": {
           "automargin": true,
           "gridcolor": "white",
           "linecolor": "white",
           "ticks": "",
           "title": {
            "standoff": 15
           },
           "zerolinecolor": "white",
           "zerolinewidth": 2
          }
         }
        },
        "title": {
         "text": "Distribution of StoreType"
        },
        "width": 800
       }
      },
      "text/html": [
       "<div>                            <div id=\"38f8f9db-8809-4c59-9ce8-91b797999119\" class=\"plotly-graph-div\" style=\"height:500px; width:800px;\"></div>            <script type=\"text/javascript\">                require([\"plotly\"], function(Plotly) {                    window.PLOTLYENV=window.PLOTLYENV || {};                                    if (document.getElementById(\"38f8f9db-8809-4c59-9ce8-91b797999119\")) {                    Plotly.newPlot(                        \"38f8f9db-8809-4c59-9ce8-91b797999119\",                        [{\"domain\":{\"x\":[0.0,1.0],\"y\":[0.0,1.0]},\"hovertemplate\":\"StoreType=%{label}<br>count=%{value}<extra></extra>\",\"labels\":[\"a\",\"d\",\"c\",\"b\"],\"legendgroup\":\"\",\"name\":\"\",\"showlegend\":true,\"values\":[602,348,148,17],\"type\":\"pie\"}],                        {\"template\":{\"data\":{\"histogram2dcontour\":[{\"type\":\"histogram2dcontour\",\"colorbar\":{\"outlinewidth\":0,\"ticks\":\"\"},\"colorscale\":[[0.0,\"#0d0887\"],[0.1111111111111111,\"#46039f\"],[0.2222222222222222,\"#7201a8\"],[0.3333333333333333,\"#9c179e\"],[0.4444444444444444,\"#bd3786\"],[0.5555555555555556,\"#d8576b\"],[0.6666666666666666,\"#ed7953\"],[0.7777777777777778,\"#fb9f3a\"],[0.8888888888888888,\"#fdca26\"],[1.0,\"#f0f921\"]]}],\"choropleth\":[{\"type\":\"choropleth\",\"colorbar\":{\"outlinewidth\":0,\"ticks\":\"\"}}],\"histogram2d\":[{\"type\":\"histogram2d\",\"colorbar\":{\"outlinewidth\":0,\"ticks\":\"\"},\"colorscale\":[[0.0,\"#0d0887\"],[0.1111111111111111,\"#46039f\"],[0.2222222222222222,\"#7201a8\"],[0.3333333333333333,\"#9c179e\"],[0.4444444444444444,\"#bd3786\"],[0.5555555555555556,\"#d8576b\"],[0.6666666666666666,\"#ed7953\"],[0.7777777777777778,\"#fb9f3a\"],[0.8888888888888888,\"#fdca26\"],[1.0,\"#f0f921\"]]}],\"heatmap\":[{\"type\":\"heatmap\",\"colorbar\":{\"outlinewidth\":0,\"ticks\":\"\"},\"colorscale\":[[0.0,\"#0d0887\"],[0.1111111111111111,\"#46039f\"],[0.2222222222222222,\"#7201a8\"],[0.3333333333333333,\"#9c179e\"],[0.4444444444444444,\"#bd3786\"],[0.5555555555555556,\"#d8576b\"],[0.6666666666666666,\"#ed7953\"],[0.7777777777777778,\"#fb9f3a\"],[0.8888888888888888,\"#fdca26\"],[1.0,\"#f0f921\"]]}],\"heatmapgl\":[{\"type\":\"heatmapgl\",\"colorbar\":{\"outlinewidth\":0,\"ticks\":\"\"},\"colorscale\":[[0.0,\"#0d0887\"],[0.1111111111111111,\"#46039f\"],[0.2222222222222222,\"#7201a8\"],[0.3333333333333333,\"#9c179e\"],[0.4444444444444444,\"#bd3786\"],[0.5555555555555556,\"#d8576b\"],[0.6666666666666666,\"#ed7953\"],[0.7777777777777778,\"#fb9f3a\"],[0.8888888888888888,\"#fdca26\"],[1.0,\"#f0f921\"]]}],\"contourcarpet\":[{\"type\":\"contourcarpet\",\"colorbar\":{\"outlinewidth\":0,\"ticks\":\"\"}}],\"contour\":[{\"type\":\"contour\",\"colorbar\":{\"outlinewidth\":0,\"ticks\":\"\"},\"colorscale\":[[0.0,\"#0d0887\"],[0.1111111111111111,\"#46039f\"],[0.2222222222222222,\"#7201a8\"],[0.3333333333333333,\"#9c179e\"],[0.4444444444444444,\"#bd3786\"],[0.5555555555555556,\"#d8576b\"],[0.6666666666666666,\"#ed7953\"],[0.7777777777777778,\"#fb9f3a\"],[0.8888888888888888,\"#fdca26\"],[1.0,\"#f0f921\"]]}],\"surface\":[{\"type\":\"surface\",\"colorbar\":{\"outlinewidth\":0,\"ticks\":\"\"},\"colorscale\":[[0.0,\"#0d0887\"],[0.1111111111111111,\"#46039f\"],[0.2222222222222222,\"#7201a8\"],[0.3333333333333333,\"#9c179e\"],[0.4444444444444444,\"#bd3786\"],[0.5555555555555556,\"#d8576b\"],[0.6666666666666666,\"#ed7953\"],[0.7777777777777778,\"#fb9f3a\"],[0.8888888888888888,\"#fdca26\"],[1.0,\"#f0f921\"]]}],\"mesh3d\":[{\"type\":\"mesh3d\",\"colorbar\":{\"outlinewidth\":0,\"ticks\":\"\"}}],\"scatter\":[{\"fillpattern\":{\"fillmode\":\"overlay\",\"size\":10,\"solidity\":0.2},\"type\":\"scatter\"}],\"parcoords\":[{\"type\":\"parcoords\",\"line\":{\"colorbar\":{\"outlinewidth\":0,\"ticks\":\"\"}}}],\"scatterpolargl\":[{\"type\":\"scatterpolargl\",\"marker\":{\"colorbar\":{\"outlinewidth\":0,\"ticks\":\"\"}}}],\"bar\":[{\"error_x\":{\"color\":\"#2a3f5f\"},\"error_y\":{\"color\":\"#2a3f5f\"},\"marker\":{\"line\":{\"color\":\"#E5ECF6\",\"width\":0.5},\"pattern\":{\"fillmode\":\"overlay\",\"size\":10,\"solidity\":0.2}},\"type\":\"bar\"}],\"scattergeo\":[{\"type\":\"scattergeo\",\"marker\":{\"colorbar\":{\"outlinewidth\":0,\"ticks\":\"\"}}}],\"scatterpolar\":[{\"type\":\"scatterpolar\",\"marker\":{\"colorbar\":{\"outlinewidth\":0,\"ticks\":\"\"}}}],\"histogram\":[{\"marker\":{\"pattern\":{\"fillmode\":\"overlay\",\"size\":10,\"solidity\":0.2}},\"type\":\"histogram\"}],\"scattergl\":[{\"type\":\"scattergl\",\"marker\":{\"colorbar\":{\"outlinewidth\":0,\"ticks\":\"\"}}}],\"scatter3d\":[{\"type\":\"scatter3d\",\"line\":{\"colorbar\":{\"outlinewidth\":0,\"ticks\":\"\"}},\"marker\":{\"colorbar\":{\"outlinewidth\":0,\"ticks\":\"\"}}}],\"scattermapbox\":[{\"type\":\"scattermapbox\",\"marker\":{\"colorbar\":{\"outlinewidth\":0,\"ticks\":\"\"}}}],\"scatterternary\":[{\"type\":\"scatterternary\",\"marker\":{\"colorbar\":{\"outlinewidth\":0,\"ticks\":\"\"}}}],\"scattercarpet\":[{\"type\":\"scattercarpet\",\"marker\":{\"colorbar\":{\"outlinewidth\":0,\"ticks\":\"\"}}}],\"carpet\":[{\"aaxis\":{\"endlinecolor\":\"#2a3f5f\",\"gridcolor\":\"white\",\"linecolor\":\"white\",\"minorgridcolor\":\"white\",\"startlinecolor\":\"#2a3f5f\"},\"baxis\":{\"endlinecolor\":\"#2a3f5f\",\"gridcolor\":\"white\",\"linecolor\":\"white\",\"minorgridcolor\":\"white\",\"startlinecolor\":\"#2a3f5f\"},\"type\":\"carpet\"}],\"table\":[{\"cells\":{\"fill\":{\"color\":\"#EBF0F8\"},\"line\":{\"color\":\"white\"}},\"header\":{\"fill\":{\"color\":\"#C8D4E3\"},\"line\":{\"color\":\"white\"}},\"type\":\"table\"}],\"barpolar\":[{\"marker\":{\"line\":{\"color\":\"#E5ECF6\",\"width\":0.5},\"pattern\":{\"fillmode\":\"overlay\",\"size\":10,\"solidity\":0.2}},\"type\":\"barpolar\"}],\"pie\":[{\"automargin\":true,\"type\":\"pie\"}]},\"layout\":{\"autotypenumbers\":\"strict\",\"colorway\":[\"#636efa\",\"#EF553B\",\"#00cc96\",\"#ab63fa\",\"#FFA15A\",\"#19d3f3\",\"#FF6692\",\"#B6E880\",\"#FF97FF\",\"#FECB52\"],\"font\":{\"color\":\"#2a3f5f\"},\"hovermode\":\"closest\",\"hoverlabel\":{\"align\":\"left\"},\"paper_bgcolor\":\"white\",\"plot_bgcolor\":\"#E5ECF6\",\"polar\":{\"bgcolor\":\"#E5ECF6\",\"angularaxis\":{\"gridcolor\":\"white\",\"linecolor\":\"white\",\"ticks\":\"\"},\"radialaxis\":{\"gridcolor\":\"white\",\"linecolor\":\"white\",\"ticks\":\"\"}},\"ternary\":{\"bgcolor\":\"#E5ECF6\",\"aaxis\":{\"gridcolor\":\"white\",\"linecolor\":\"white\",\"ticks\":\"\"},\"baxis\":{\"gridcolor\":\"white\",\"linecolor\":\"white\",\"ticks\":\"\"},\"caxis\":{\"gridcolor\":\"white\",\"linecolor\":\"white\",\"ticks\":\"\"}},\"coloraxis\":{\"colorbar\":{\"outlinewidth\":0,\"ticks\":\"\"}},\"colorscale\":{\"sequential\":[[0.0,\"#0d0887\"],[0.1111111111111111,\"#46039f\"],[0.2222222222222222,\"#7201a8\"],[0.3333333333333333,\"#9c179e\"],[0.4444444444444444,\"#bd3786\"],[0.5555555555555556,\"#d8576b\"],[0.6666666666666666,\"#ed7953\"],[0.7777777777777778,\"#fb9f3a\"],[0.8888888888888888,\"#fdca26\"],[1.0,\"#f0f921\"]],\"sequentialminus\":[[0.0,\"#0d0887\"],[0.1111111111111111,\"#46039f\"],[0.2222222222222222,\"#7201a8\"],[0.3333333333333333,\"#9c179e\"],[0.4444444444444444,\"#bd3786\"],[0.5555555555555556,\"#d8576b\"],[0.6666666666666666,\"#ed7953\"],[0.7777777777777778,\"#fb9f3a\"],[0.8888888888888888,\"#fdca26\"],[1.0,\"#f0f921\"]],\"diverging\":[[0,\"#8e0152\"],[0.1,\"#c51b7d\"],[0.2,\"#de77ae\"],[0.3,\"#f1b6da\"],[0.4,\"#fde0ef\"],[0.5,\"#f7f7f7\"],[0.6,\"#e6f5d0\"],[0.7,\"#b8e186\"],[0.8,\"#7fbc41\"],[0.9,\"#4d9221\"],[1,\"#276419\"]]},\"xaxis\":{\"gridcolor\":\"white\",\"linecolor\":\"white\",\"ticks\":\"\",\"title\":{\"standoff\":15},\"zerolinecolor\":\"white\",\"automargin\":true,\"zerolinewidth\":2},\"yaxis\":{\"gridcolor\":\"white\",\"linecolor\":\"white\",\"ticks\":\"\",\"title\":{\"standoff\":15},\"zerolinecolor\":\"white\",\"automargin\":true,\"zerolinewidth\":2},\"scene\":{\"xaxis\":{\"backgroundcolor\":\"#E5ECF6\",\"gridcolor\":\"white\",\"linecolor\":\"white\",\"showbackground\":true,\"ticks\":\"\",\"zerolinecolor\":\"white\",\"gridwidth\":2},\"yaxis\":{\"backgroundcolor\":\"#E5ECF6\",\"gridcolor\":\"white\",\"linecolor\":\"white\",\"showbackground\":true,\"ticks\":\"\",\"zerolinecolor\":\"white\",\"gridwidth\":2},\"zaxis\":{\"backgroundcolor\":\"#E5ECF6\",\"gridcolor\":\"white\",\"linecolor\":\"white\",\"showbackground\":true,\"ticks\":\"\",\"zerolinecolor\":\"white\",\"gridwidth\":2}},\"shapedefaults\":{\"line\":{\"color\":\"#2a3f5f\"}},\"annotationdefaults\":{\"arrowcolor\":\"#2a3f5f\",\"arrowhead\":0,\"arrowwidth\":1},\"geo\":{\"bgcolor\":\"white\",\"landcolor\":\"#E5ECF6\",\"subunitcolor\":\"white\",\"showland\":true,\"showlakes\":true,\"lakecolor\":\"white\"},\"title\":{\"x\":0.05},\"mapbox\":{\"style\":\"light\"}}},\"legend\":{\"tracegroupgap\":0},\"title\":{\"text\":\"Distribution of StoreType\"},\"height\":500,\"width\":800},                        {\"responsive\": true}                    ).then(function(){\n",
       "                            \n",
       "var gd = document.getElementById('38f8f9db-8809-4c59-9ce8-91b797999119');\n",
       "var x = new MutationObserver(function (mutations, observer) {{\n",
       "        var display = window.getComputedStyle(gd).display;\n",
       "        if (!display || display === 'none') {{\n",
       "            console.log([gd, 'removed!']);\n",
       "            Plotly.purge(gd);\n",
       "            observer.disconnect();\n",
       "        }}\n",
       "}});\n",
       "\n",
       "// Listen for the removal of the full notebook cells\n",
       "var notebookContainer = gd.closest('#notebook-container');\n",
       "if (notebookContainer) {{\n",
       "    x.observe(notebookContainer, {childList: true});\n",
       "}}\n",
       "\n",
       "// Listen for the clearing of the current output cell\n",
       "var outputEl = gd.closest('.output');\n",
       "if (outputEl) {{\n",
       "    x.observe(outputEl, {childList: true});\n",
       "}}\n",
       "\n",
       "                        })                };                });            </script>        </div>"
      ]
     },
     "metadata": {},
     "output_type": "display_data"
    }
   ],
   "source": [
    "plotly_plot_pie(store_df, 'StoreType')"
   ]
  },
  {
   "cell_type": "markdown",
   "id": "ad7239a0",
   "metadata": {},
   "source": [
    "### Assortment"
   ]
  },
  {
   "cell_type": "code",
   "execution_count": 152,
   "id": "bbc28b75",
   "metadata": {},
   "outputs": [
    {
     "data": {
      "text/plain": [
       "a    593\n",
       "c    513\n",
       "b      9\n",
       "Name: Assortment, dtype: Int64"
      ]
     },
     "execution_count": 152,
     "metadata": {},
     "output_type": "execute_result"
    }
   ],
   "source": [
    "# unique value counts\n",
    "counts_df = store_df['Assortment'].value_counts()\n",
    "counts_df"
   ]
  },
  {
   "cell_type": "code",
   "execution_count": 153,
   "id": "3f0de7a9",
   "metadata": {},
   "outputs": [
    {
     "data": {
      "application/vnd.plotly.v1+json": {
       "config": {
        "plotlyServerURL": "https://plot.ly"
       },
       "data": [
        {
         "domain": {
          "x": [
           0,
           1
          ],
          "y": [
           0,
           1
          ]
         },
         "hovertemplate": "Assortment=%{label}<br>count=%{value}<extra></extra>",
         "labels": [
          "a",
          "c",
          "b"
         ],
         "legendgroup": "",
         "name": "",
         "showlegend": true,
         "type": "pie",
         "values": [
          593,
          513,
          9
         ]
        }
       ],
       "layout": {
        "height": 500,
        "legend": {
         "tracegroupgap": 0
        },
        "template": {
         "data": {
          "bar": [
           {
            "error_x": {
             "color": "#2a3f5f"
            },
            "error_y": {
             "color": "#2a3f5f"
            },
            "marker": {
             "line": {
              "color": "#E5ECF6",
              "width": 0.5
             },
             "pattern": {
              "fillmode": "overlay",
              "size": 10,
              "solidity": 0.2
             }
            },
            "type": "bar"
           }
          ],
          "barpolar": [
           {
            "marker": {
             "line": {
              "color": "#E5ECF6",
              "width": 0.5
             },
             "pattern": {
              "fillmode": "overlay",
              "size": 10,
              "solidity": 0.2
             }
            },
            "type": "barpolar"
           }
          ],
          "carpet": [
           {
            "aaxis": {
             "endlinecolor": "#2a3f5f",
             "gridcolor": "white",
             "linecolor": "white",
             "minorgridcolor": "white",
             "startlinecolor": "#2a3f5f"
            },
            "baxis": {
             "endlinecolor": "#2a3f5f",
             "gridcolor": "white",
             "linecolor": "white",
             "minorgridcolor": "white",
             "startlinecolor": "#2a3f5f"
            },
            "type": "carpet"
           }
          ],
          "choropleth": [
           {
            "colorbar": {
             "outlinewidth": 0,
             "ticks": ""
            },
            "type": "choropleth"
           }
          ],
          "contour": [
           {
            "colorbar": {
             "outlinewidth": 0,
             "ticks": ""
            },
            "colorscale": [
             [
              0,
              "#0d0887"
             ],
             [
              0.1111111111111111,
              "#46039f"
             ],
             [
              0.2222222222222222,
              "#7201a8"
             ],
             [
              0.3333333333333333,
              "#9c179e"
             ],
             [
              0.4444444444444444,
              "#bd3786"
             ],
             [
              0.5555555555555556,
              "#d8576b"
             ],
             [
              0.6666666666666666,
              "#ed7953"
             ],
             [
              0.7777777777777778,
              "#fb9f3a"
             ],
             [
              0.8888888888888888,
              "#fdca26"
             ],
             [
              1,
              "#f0f921"
             ]
            ],
            "type": "contour"
           }
          ],
          "contourcarpet": [
           {
            "colorbar": {
             "outlinewidth": 0,
             "ticks": ""
            },
            "type": "contourcarpet"
           }
          ],
          "heatmap": [
           {
            "colorbar": {
             "outlinewidth": 0,
             "ticks": ""
            },
            "colorscale": [
             [
              0,
              "#0d0887"
             ],
             [
              0.1111111111111111,
              "#46039f"
             ],
             [
              0.2222222222222222,
              "#7201a8"
             ],
             [
              0.3333333333333333,
              "#9c179e"
             ],
             [
              0.4444444444444444,
              "#bd3786"
             ],
             [
              0.5555555555555556,
              "#d8576b"
             ],
             [
              0.6666666666666666,
              "#ed7953"
             ],
             [
              0.7777777777777778,
              "#fb9f3a"
             ],
             [
              0.8888888888888888,
              "#fdca26"
             ],
             [
              1,
              "#f0f921"
             ]
            ],
            "type": "heatmap"
           }
          ],
          "heatmapgl": [
           {
            "colorbar": {
             "outlinewidth": 0,
             "ticks": ""
            },
            "colorscale": [
             [
              0,
              "#0d0887"
             ],
             [
              0.1111111111111111,
              "#46039f"
             ],
             [
              0.2222222222222222,
              "#7201a8"
             ],
             [
              0.3333333333333333,
              "#9c179e"
             ],
             [
              0.4444444444444444,
              "#bd3786"
             ],
             [
              0.5555555555555556,
              "#d8576b"
             ],
             [
              0.6666666666666666,
              "#ed7953"
             ],
             [
              0.7777777777777778,
              "#fb9f3a"
             ],
             [
              0.8888888888888888,
              "#fdca26"
             ],
             [
              1,
              "#f0f921"
             ]
            ],
            "type": "heatmapgl"
           }
          ],
          "histogram": [
           {
            "marker": {
             "pattern": {
              "fillmode": "overlay",
              "size": 10,
              "solidity": 0.2
             }
            },
            "type": "histogram"
           }
          ],
          "histogram2d": [
           {
            "colorbar": {
             "outlinewidth": 0,
             "ticks": ""
            },
            "colorscale": [
             [
              0,
              "#0d0887"
             ],
             [
              0.1111111111111111,
              "#46039f"
             ],
             [
              0.2222222222222222,
              "#7201a8"
             ],
             [
              0.3333333333333333,
              "#9c179e"
             ],
             [
              0.4444444444444444,
              "#bd3786"
             ],
             [
              0.5555555555555556,
              "#d8576b"
             ],
             [
              0.6666666666666666,
              "#ed7953"
             ],
             [
              0.7777777777777778,
              "#fb9f3a"
             ],
             [
              0.8888888888888888,
              "#fdca26"
             ],
             [
              1,
              "#f0f921"
             ]
            ],
            "type": "histogram2d"
           }
          ],
          "histogram2dcontour": [
           {
            "colorbar": {
             "outlinewidth": 0,
             "ticks": ""
            },
            "colorscale": [
             [
              0,
              "#0d0887"
             ],
             [
              0.1111111111111111,
              "#46039f"
             ],
             [
              0.2222222222222222,
              "#7201a8"
             ],
             [
              0.3333333333333333,
              "#9c179e"
             ],
             [
              0.4444444444444444,
              "#bd3786"
             ],
             [
              0.5555555555555556,
              "#d8576b"
             ],
             [
              0.6666666666666666,
              "#ed7953"
             ],
             [
              0.7777777777777778,
              "#fb9f3a"
             ],
             [
              0.8888888888888888,
              "#fdca26"
             ],
             [
              1,
              "#f0f921"
             ]
            ],
            "type": "histogram2dcontour"
           }
          ],
          "mesh3d": [
           {
            "colorbar": {
             "outlinewidth": 0,
             "ticks": ""
            },
            "type": "mesh3d"
           }
          ],
          "parcoords": [
           {
            "line": {
             "colorbar": {
              "outlinewidth": 0,
              "ticks": ""
             }
            },
            "type": "parcoords"
           }
          ],
          "pie": [
           {
            "automargin": true,
            "type": "pie"
           }
          ],
          "scatter": [
           {
            "fillpattern": {
             "fillmode": "overlay",
             "size": 10,
             "solidity": 0.2
            },
            "type": "scatter"
           }
          ],
          "scatter3d": [
           {
            "line": {
             "colorbar": {
              "outlinewidth": 0,
              "ticks": ""
             }
            },
            "marker": {
             "colorbar": {
              "outlinewidth": 0,
              "ticks": ""
             }
            },
            "type": "scatter3d"
           }
          ],
          "scattercarpet": [
           {
            "marker": {
             "colorbar": {
              "outlinewidth": 0,
              "ticks": ""
             }
            },
            "type": "scattercarpet"
           }
          ],
          "scattergeo": [
           {
            "marker": {
             "colorbar": {
              "outlinewidth": 0,
              "ticks": ""
             }
            },
            "type": "scattergeo"
           }
          ],
          "scattergl": [
           {
            "marker": {
             "colorbar": {
              "outlinewidth": 0,
              "ticks": ""
             }
            },
            "type": "scattergl"
           }
          ],
          "scattermapbox": [
           {
            "marker": {
             "colorbar": {
              "outlinewidth": 0,
              "ticks": ""
             }
            },
            "type": "scattermapbox"
           }
          ],
          "scatterpolar": [
           {
            "marker": {
             "colorbar": {
              "outlinewidth": 0,
              "ticks": ""
             }
            },
            "type": "scatterpolar"
           }
          ],
          "scatterpolargl": [
           {
            "marker": {
             "colorbar": {
              "outlinewidth": 0,
              "ticks": ""
             }
            },
            "type": "scatterpolargl"
           }
          ],
          "scatterternary": [
           {
            "marker": {
             "colorbar": {
              "outlinewidth": 0,
              "ticks": ""
             }
            },
            "type": "scatterternary"
           }
          ],
          "surface": [
           {
            "colorbar": {
             "outlinewidth": 0,
             "ticks": ""
            },
            "colorscale": [
             [
              0,
              "#0d0887"
             ],
             [
              0.1111111111111111,
              "#46039f"
             ],
             [
              0.2222222222222222,
              "#7201a8"
             ],
             [
              0.3333333333333333,
              "#9c179e"
             ],
             [
              0.4444444444444444,
              "#bd3786"
             ],
             [
              0.5555555555555556,
              "#d8576b"
             ],
             [
              0.6666666666666666,
              "#ed7953"
             ],
             [
              0.7777777777777778,
              "#fb9f3a"
             ],
             [
              0.8888888888888888,
              "#fdca26"
             ],
             [
              1,
              "#f0f921"
             ]
            ],
            "type": "surface"
           }
          ],
          "table": [
           {
            "cells": {
             "fill": {
              "color": "#EBF0F8"
             },
             "line": {
              "color": "white"
             }
            },
            "header": {
             "fill": {
              "color": "#C8D4E3"
             },
             "line": {
              "color": "white"
             }
            },
            "type": "table"
           }
          ]
         },
         "layout": {
          "annotationdefaults": {
           "arrowcolor": "#2a3f5f",
           "arrowhead": 0,
           "arrowwidth": 1
          },
          "autotypenumbers": "strict",
          "coloraxis": {
           "colorbar": {
            "outlinewidth": 0,
            "ticks": ""
           }
          },
          "colorscale": {
           "diverging": [
            [
             0,
             "#8e0152"
            ],
            [
             0.1,
             "#c51b7d"
            ],
            [
             0.2,
             "#de77ae"
            ],
            [
             0.3,
             "#f1b6da"
            ],
            [
             0.4,
             "#fde0ef"
            ],
            [
             0.5,
             "#f7f7f7"
            ],
            [
             0.6,
             "#e6f5d0"
            ],
            [
             0.7,
             "#b8e186"
            ],
            [
             0.8,
             "#7fbc41"
            ],
            [
             0.9,
             "#4d9221"
            ],
            [
             1,
             "#276419"
            ]
           ],
           "sequential": [
            [
             0,
             "#0d0887"
            ],
            [
             0.1111111111111111,
             "#46039f"
            ],
            [
             0.2222222222222222,
             "#7201a8"
            ],
            [
             0.3333333333333333,
             "#9c179e"
            ],
            [
             0.4444444444444444,
             "#bd3786"
            ],
            [
             0.5555555555555556,
             "#d8576b"
            ],
            [
             0.6666666666666666,
             "#ed7953"
            ],
            [
             0.7777777777777778,
             "#fb9f3a"
            ],
            [
             0.8888888888888888,
             "#fdca26"
            ],
            [
             1,
             "#f0f921"
            ]
           ],
           "sequentialminus": [
            [
             0,
             "#0d0887"
            ],
            [
             0.1111111111111111,
             "#46039f"
            ],
            [
             0.2222222222222222,
             "#7201a8"
            ],
            [
             0.3333333333333333,
             "#9c179e"
            ],
            [
             0.4444444444444444,
             "#bd3786"
            ],
            [
             0.5555555555555556,
             "#d8576b"
            ],
            [
             0.6666666666666666,
             "#ed7953"
            ],
            [
             0.7777777777777778,
             "#fb9f3a"
            ],
            [
             0.8888888888888888,
             "#fdca26"
            ],
            [
             1,
             "#f0f921"
            ]
           ]
          },
          "colorway": [
           "#636efa",
           "#EF553B",
           "#00cc96",
           "#ab63fa",
           "#FFA15A",
           "#19d3f3",
           "#FF6692",
           "#B6E880",
           "#FF97FF",
           "#FECB52"
          ],
          "font": {
           "color": "#2a3f5f"
          },
          "geo": {
           "bgcolor": "white",
           "lakecolor": "white",
           "landcolor": "#E5ECF6",
           "showlakes": true,
           "showland": true,
           "subunitcolor": "white"
          },
          "hoverlabel": {
           "align": "left"
          },
          "hovermode": "closest",
          "mapbox": {
           "style": "light"
          },
          "paper_bgcolor": "white",
          "plot_bgcolor": "#E5ECF6",
          "polar": {
           "angularaxis": {
            "gridcolor": "white",
            "linecolor": "white",
            "ticks": ""
           },
           "bgcolor": "#E5ECF6",
           "radialaxis": {
            "gridcolor": "white",
            "linecolor": "white",
            "ticks": ""
           }
          },
          "scene": {
           "xaxis": {
            "backgroundcolor": "#E5ECF6",
            "gridcolor": "white",
            "gridwidth": 2,
            "linecolor": "white",
            "showbackground": true,
            "ticks": "",
            "zerolinecolor": "white"
           },
           "yaxis": {
            "backgroundcolor": "#E5ECF6",
            "gridcolor": "white",
            "gridwidth": 2,
            "linecolor": "white",
            "showbackground": true,
            "ticks": "",
            "zerolinecolor": "white"
           },
           "zaxis": {
            "backgroundcolor": "#E5ECF6",
            "gridcolor": "white",
            "gridwidth": 2,
            "linecolor": "white",
            "showbackground": true,
            "ticks": "",
            "zerolinecolor": "white"
           }
          },
          "shapedefaults": {
           "line": {
            "color": "#2a3f5f"
           }
          },
          "ternary": {
           "aaxis": {
            "gridcolor": "white",
            "linecolor": "white",
            "ticks": ""
           },
           "baxis": {
            "gridcolor": "white",
            "linecolor": "white",
            "ticks": ""
           },
           "bgcolor": "#E5ECF6",
           "caxis": {
            "gridcolor": "white",
            "linecolor": "white",
            "ticks": ""
           }
          },
          "title": {
           "x": 0.05
          },
          "xaxis": {
           "automargin": true,
           "gridcolor": "white",
           "linecolor": "white",
           "ticks": "",
           "title": {
            "standoff": 15
           },
           "zerolinecolor": "white",
           "zerolinewidth": 2
          },
          "yaxis": {
           "automargin": true,
           "gridcolor": "white",
           "linecolor": "white",
           "ticks": "",
           "title": {
            "standoff": 15
           },
           "zerolinecolor": "white",
           "zerolinewidth": 2
          }
         }
        },
        "title": {
         "text": "Distribution of Assortment"
        },
        "width": 800
       }
      },
      "text/html": [
       "<div>                            <div id=\"53adee31-3681-4f6f-9e96-f1927a189163\" class=\"plotly-graph-div\" style=\"height:500px; width:800px;\"></div>            <script type=\"text/javascript\">                require([\"plotly\"], function(Plotly) {                    window.PLOTLYENV=window.PLOTLYENV || {};                                    if (document.getElementById(\"53adee31-3681-4f6f-9e96-f1927a189163\")) {                    Plotly.newPlot(                        \"53adee31-3681-4f6f-9e96-f1927a189163\",                        [{\"domain\":{\"x\":[0.0,1.0],\"y\":[0.0,1.0]},\"hovertemplate\":\"Assortment=%{label}<br>count=%{value}<extra></extra>\",\"labels\":[\"a\",\"c\",\"b\"],\"legendgroup\":\"\",\"name\":\"\",\"showlegend\":true,\"values\":[593,513,9],\"type\":\"pie\"}],                        {\"template\":{\"data\":{\"histogram2dcontour\":[{\"type\":\"histogram2dcontour\",\"colorbar\":{\"outlinewidth\":0,\"ticks\":\"\"},\"colorscale\":[[0.0,\"#0d0887\"],[0.1111111111111111,\"#46039f\"],[0.2222222222222222,\"#7201a8\"],[0.3333333333333333,\"#9c179e\"],[0.4444444444444444,\"#bd3786\"],[0.5555555555555556,\"#d8576b\"],[0.6666666666666666,\"#ed7953\"],[0.7777777777777778,\"#fb9f3a\"],[0.8888888888888888,\"#fdca26\"],[1.0,\"#f0f921\"]]}],\"choropleth\":[{\"type\":\"choropleth\",\"colorbar\":{\"outlinewidth\":0,\"ticks\":\"\"}}],\"histogram2d\":[{\"type\":\"histogram2d\",\"colorbar\":{\"outlinewidth\":0,\"ticks\":\"\"},\"colorscale\":[[0.0,\"#0d0887\"],[0.1111111111111111,\"#46039f\"],[0.2222222222222222,\"#7201a8\"],[0.3333333333333333,\"#9c179e\"],[0.4444444444444444,\"#bd3786\"],[0.5555555555555556,\"#d8576b\"],[0.6666666666666666,\"#ed7953\"],[0.7777777777777778,\"#fb9f3a\"],[0.8888888888888888,\"#fdca26\"],[1.0,\"#f0f921\"]]}],\"heatmap\":[{\"type\":\"heatmap\",\"colorbar\":{\"outlinewidth\":0,\"ticks\":\"\"},\"colorscale\":[[0.0,\"#0d0887\"],[0.1111111111111111,\"#46039f\"],[0.2222222222222222,\"#7201a8\"],[0.3333333333333333,\"#9c179e\"],[0.4444444444444444,\"#bd3786\"],[0.5555555555555556,\"#d8576b\"],[0.6666666666666666,\"#ed7953\"],[0.7777777777777778,\"#fb9f3a\"],[0.8888888888888888,\"#fdca26\"],[1.0,\"#f0f921\"]]}],\"heatmapgl\":[{\"type\":\"heatmapgl\",\"colorbar\":{\"outlinewidth\":0,\"ticks\":\"\"},\"colorscale\":[[0.0,\"#0d0887\"],[0.1111111111111111,\"#46039f\"],[0.2222222222222222,\"#7201a8\"],[0.3333333333333333,\"#9c179e\"],[0.4444444444444444,\"#bd3786\"],[0.5555555555555556,\"#d8576b\"],[0.6666666666666666,\"#ed7953\"],[0.7777777777777778,\"#fb9f3a\"],[0.8888888888888888,\"#fdca26\"],[1.0,\"#f0f921\"]]}],\"contourcarpet\":[{\"type\":\"contourcarpet\",\"colorbar\":{\"outlinewidth\":0,\"ticks\":\"\"}}],\"contour\":[{\"type\":\"contour\",\"colorbar\":{\"outlinewidth\":0,\"ticks\":\"\"},\"colorscale\":[[0.0,\"#0d0887\"],[0.1111111111111111,\"#46039f\"],[0.2222222222222222,\"#7201a8\"],[0.3333333333333333,\"#9c179e\"],[0.4444444444444444,\"#bd3786\"],[0.5555555555555556,\"#d8576b\"],[0.6666666666666666,\"#ed7953\"],[0.7777777777777778,\"#fb9f3a\"],[0.8888888888888888,\"#fdca26\"],[1.0,\"#f0f921\"]]}],\"surface\":[{\"type\":\"surface\",\"colorbar\":{\"outlinewidth\":0,\"ticks\":\"\"},\"colorscale\":[[0.0,\"#0d0887\"],[0.1111111111111111,\"#46039f\"],[0.2222222222222222,\"#7201a8\"],[0.3333333333333333,\"#9c179e\"],[0.4444444444444444,\"#bd3786\"],[0.5555555555555556,\"#d8576b\"],[0.6666666666666666,\"#ed7953\"],[0.7777777777777778,\"#fb9f3a\"],[0.8888888888888888,\"#fdca26\"],[1.0,\"#f0f921\"]]}],\"mesh3d\":[{\"type\":\"mesh3d\",\"colorbar\":{\"outlinewidth\":0,\"ticks\":\"\"}}],\"scatter\":[{\"fillpattern\":{\"fillmode\":\"overlay\",\"size\":10,\"solidity\":0.2},\"type\":\"scatter\"}],\"parcoords\":[{\"type\":\"parcoords\",\"line\":{\"colorbar\":{\"outlinewidth\":0,\"ticks\":\"\"}}}],\"scatterpolargl\":[{\"type\":\"scatterpolargl\",\"marker\":{\"colorbar\":{\"outlinewidth\":0,\"ticks\":\"\"}}}],\"bar\":[{\"error_x\":{\"color\":\"#2a3f5f\"},\"error_y\":{\"color\":\"#2a3f5f\"},\"marker\":{\"line\":{\"color\":\"#E5ECF6\",\"width\":0.5},\"pattern\":{\"fillmode\":\"overlay\",\"size\":10,\"solidity\":0.2}},\"type\":\"bar\"}],\"scattergeo\":[{\"type\":\"scattergeo\",\"marker\":{\"colorbar\":{\"outlinewidth\":0,\"ticks\":\"\"}}}],\"scatterpolar\":[{\"type\":\"scatterpolar\",\"marker\":{\"colorbar\":{\"outlinewidth\":0,\"ticks\":\"\"}}}],\"histogram\":[{\"marker\":{\"pattern\":{\"fillmode\":\"overlay\",\"size\":10,\"solidity\":0.2}},\"type\":\"histogram\"}],\"scattergl\":[{\"type\":\"scattergl\",\"marker\":{\"colorbar\":{\"outlinewidth\":0,\"ticks\":\"\"}}}],\"scatter3d\":[{\"type\":\"scatter3d\",\"line\":{\"colorbar\":{\"outlinewidth\":0,\"ticks\":\"\"}},\"marker\":{\"colorbar\":{\"outlinewidth\":0,\"ticks\":\"\"}}}],\"scattermapbox\":[{\"type\":\"scattermapbox\",\"marker\":{\"colorbar\":{\"outlinewidth\":0,\"ticks\":\"\"}}}],\"scatterternary\":[{\"type\":\"scatterternary\",\"marker\":{\"colorbar\":{\"outlinewidth\":0,\"ticks\":\"\"}}}],\"scattercarpet\":[{\"type\":\"scattercarpet\",\"marker\":{\"colorbar\":{\"outlinewidth\":0,\"ticks\":\"\"}}}],\"carpet\":[{\"aaxis\":{\"endlinecolor\":\"#2a3f5f\",\"gridcolor\":\"white\",\"linecolor\":\"white\",\"minorgridcolor\":\"white\",\"startlinecolor\":\"#2a3f5f\"},\"baxis\":{\"endlinecolor\":\"#2a3f5f\",\"gridcolor\":\"white\",\"linecolor\":\"white\",\"minorgridcolor\":\"white\",\"startlinecolor\":\"#2a3f5f\"},\"type\":\"carpet\"}],\"table\":[{\"cells\":{\"fill\":{\"color\":\"#EBF0F8\"},\"line\":{\"color\":\"white\"}},\"header\":{\"fill\":{\"color\":\"#C8D4E3\"},\"line\":{\"color\":\"white\"}},\"type\":\"table\"}],\"barpolar\":[{\"marker\":{\"line\":{\"color\":\"#E5ECF6\",\"width\":0.5},\"pattern\":{\"fillmode\":\"overlay\",\"size\":10,\"solidity\":0.2}},\"type\":\"barpolar\"}],\"pie\":[{\"automargin\":true,\"type\":\"pie\"}]},\"layout\":{\"autotypenumbers\":\"strict\",\"colorway\":[\"#636efa\",\"#EF553B\",\"#00cc96\",\"#ab63fa\",\"#FFA15A\",\"#19d3f3\",\"#FF6692\",\"#B6E880\",\"#FF97FF\",\"#FECB52\"],\"font\":{\"color\":\"#2a3f5f\"},\"hovermode\":\"closest\",\"hoverlabel\":{\"align\":\"left\"},\"paper_bgcolor\":\"white\",\"plot_bgcolor\":\"#E5ECF6\",\"polar\":{\"bgcolor\":\"#E5ECF6\",\"angularaxis\":{\"gridcolor\":\"white\",\"linecolor\":\"white\",\"ticks\":\"\"},\"radialaxis\":{\"gridcolor\":\"white\",\"linecolor\":\"white\",\"ticks\":\"\"}},\"ternary\":{\"bgcolor\":\"#E5ECF6\",\"aaxis\":{\"gridcolor\":\"white\",\"linecolor\":\"white\",\"ticks\":\"\"},\"baxis\":{\"gridcolor\":\"white\",\"linecolor\":\"white\",\"ticks\":\"\"},\"caxis\":{\"gridcolor\":\"white\",\"linecolor\":\"white\",\"ticks\":\"\"}},\"coloraxis\":{\"colorbar\":{\"outlinewidth\":0,\"ticks\":\"\"}},\"colorscale\":{\"sequential\":[[0.0,\"#0d0887\"],[0.1111111111111111,\"#46039f\"],[0.2222222222222222,\"#7201a8\"],[0.3333333333333333,\"#9c179e\"],[0.4444444444444444,\"#bd3786\"],[0.5555555555555556,\"#d8576b\"],[0.6666666666666666,\"#ed7953\"],[0.7777777777777778,\"#fb9f3a\"],[0.8888888888888888,\"#fdca26\"],[1.0,\"#f0f921\"]],\"sequentialminus\":[[0.0,\"#0d0887\"],[0.1111111111111111,\"#46039f\"],[0.2222222222222222,\"#7201a8\"],[0.3333333333333333,\"#9c179e\"],[0.4444444444444444,\"#bd3786\"],[0.5555555555555556,\"#d8576b\"],[0.6666666666666666,\"#ed7953\"],[0.7777777777777778,\"#fb9f3a\"],[0.8888888888888888,\"#fdca26\"],[1.0,\"#f0f921\"]],\"diverging\":[[0,\"#8e0152\"],[0.1,\"#c51b7d\"],[0.2,\"#de77ae\"],[0.3,\"#f1b6da\"],[0.4,\"#fde0ef\"],[0.5,\"#f7f7f7\"],[0.6,\"#e6f5d0\"],[0.7,\"#b8e186\"],[0.8,\"#7fbc41\"],[0.9,\"#4d9221\"],[1,\"#276419\"]]},\"xaxis\":{\"gridcolor\":\"white\",\"linecolor\":\"white\",\"ticks\":\"\",\"title\":{\"standoff\":15},\"zerolinecolor\":\"white\",\"automargin\":true,\"zerolinewidth\":2},\"yaxis\":{\"gridcolor\":\"white\",\"linecolor\":\"white\",\"ticks\":\"\",\"title\":{\"standoff\":15},\"zerolinecolor\":\"white\",\"automargin\":true,\"zerolinewidth\":2},\"scene\":{\"xaxis\":{\"backgroundcolor\":\"#E5ECF6\",\"gridcolor\":\"white\",\"linecolor\":\"white\",\"showbackground\":true,\"ticks\":\"\",\"zerolinecolor\":\"white\",\"gridwidth\":2},\"yaxis\":{\"backgroundcolor\":\"#E5ECF6\",\"gridcolor\":\"white\",\"linecolor\":\"white\",\"showbackground\":true,\"ticks\":\"\",\"zerolinecolor\":\"white\",\"gridwidth\":2},\"zaxis\":{\"backgroundcolor\":\"#E5ECF6\",\"gridcolor\":\"white\",\"linecolor\":\"white\",\"showbackground\":true,\"ticks\":\"\",\"zerolinecolor\":\"white\",\"gridwidth\":2}},\"shapedefaults\":{\"line\":{\"color\":\"#2a3f5f\"}},\"annotationdefaults\":{\"arrowcolor\":\"#2a3f5f\",\"arrowhead\":0,\"arrowwidth\":1},\"geo\":{\"bgcolor\":\"white\",\"landcolor\":\"#E5ECF6\",\"subunitcolor\":\"white\",\"showland\":true,\"showlakes\":true,\"lakecolor\":\"white\"},\"title\":{\"x\":0.05},\"mapbox\":{\"style\":\"light\"}}},\"legend\":{\"tracegroupgap\":0},\"title\":{\"text\":\"Distribution of Assortment\"},\"height\":500,\"width\":800},                        {\"responsive\": true}                    ).then(function(){\n",
       "                            \n",
       "var gd = document.getElementById('53adee31-3681-4f6f-9e96-f1927a189163');\n",
       "var x = new MutationObserver(function (mutations, observer) {{\n",
       "        var display = window.getComputedStyle(gd).display;\n",
       "        if (!display || display === 'none') {{\n",
       "            console.log([gd, 'removed!']);\n",
       "            Plotly.purge(gd);\n",
       "            observer.disconnect();\n",
       "        }}\n",
       "}});\n",
       "\n",
       "// Listen for the removal of the full notebook cells\n",
       "var notebookContainer = gd.closest('#notebook-container');\n",
       "if (notebookContainer) {{\n",
       "    x.observe(notebookContainer, {childList: true});\n",
       "}}\n",
       "\n",
       "// Listen for the clearing of the current output cell\n",
       "var outputEl = gd.closest('.output');\n",
       "if (outputEl) {{\n",
       "    x.observe(outputEl, {childList: true});\n",
       "}}\n",
       "\n",
       "                        })                };                });            </script>        </div>"
      ]
     },
     "metadata": {},
     "output_type": "display_data"
    }
   ],
   "source": [
    "plotly_plot_pie(store_df, 'Assortment')"
   ]
  },
  {
   "cell_type": "code",
   "execution_count": 154,
   "id": "ceed0804",
   "metadata": {},
   "outputs": [
    {
     "data": {
      "application/vnd.plotly.v1+json": {
       "config": {
        "plotlyServerURL": "https://plot.ly"
       },
       "data": [
        {
         "alignmentgroup": "True",
         "bingroup": "x",
         "hovertemplate": "CompetitionDistance=%{x}<br>count=%{y}<extra></extra>",
         "legendgroup": "",
         "marker": {
          "color": "cornflowerblue",
          "pattern": {
           "shape": ""
          }
         },
         "name": "",
         "offsetgroup": "",
         "orientation": "v",
         "showlegend": false,
         "type": "histogram",
         "x": [
          1270,
          570,
          14130,
          620,
          29910,
          310,
          24000,
          7520,
          2030,
          3160,
          960,
          1070,
          310,
          1300,
          4110,
          3270,
          50,
          13840,
          3240,
          2340,
          550,
          1040,
          4060,
          4590,
          430,
          2300,
          60,
          1200,
          2170,
          40,
          9800,
          2910,
          1320,
          2240,
          7660,
          540,
          4230,
          1090,
          260,
          180,
          1180,
          290,
          4880,
          540,
          9710,
          1200,
          270,
          1060,
          18010,
          6260,
          10570,
          450,
          30360,
          7170,
          720,
          6620,
          420,
          7340,
          2840,
          5540,
          350,
          2050,
          3700,
          22560,
          13840,
          7660,
          410,
          250,
          1130,
          4840,
          17500,
          2200,
          1650,
          330,
          22440,
          19960,
          1090,
          3510,
          3320,
          7910,
          2370,
          22390,
          2710,
          11810,
          1870,
          480,
          560,
          10690,
          2380,
          330,
          2410,
          240,
          16690,
          14620,
          1890,
          8780,
          8980,
          15140,
          2030,
          17930,
          2440,
          150,
          5210,
          390,
          6190,
          1390,
          1930,
          2190,
          3300,
          46590,
          7890,
          1630,
          20930,
          4510,
          5740,
          680,
          3450,
          3580,
          2100,
          2290,
          3570,
          58260,
          16760,
          1410,
          760,
          3370,
          1350,
          2000,
          2460,
          900,
          920,
          1040,
          270,
          1200,
          5190,
          2200,
          1730,
          25360,
          1700,
          1090,
          1540,
          1090,
          2930,
          16570,
          280,
          8050,
          8540,
          2090,
          2610,
          31830,
          4360,
          1780,
          16240,
          16420,
          3050,
          2020,
          2950,
          11840,
          8530,
          17110,
          2970,
          5340,
          1480,
          1160,
          3720,
          100,
          140,
          12540,
          980,
          1070,
          2640,
          110,
          350,
          13090,
          4130,
          3770,
          1250,
          1710,
          480,
          5800,
          12610,
          1390,
          9670,
          3560,
          1860,
          290,
          19360,
          850,
          5760,
          1470,
          1100,
          2770,
          520,
          16970,
          220,
          3850,
          4210,
          290,
          6360,
          1650,
          20260,
          5140,
          490,
          5630,
          110,
          380,
          6870,
          300,
          11680,
          970,
          350,
          15050,
          4030,
          8650,
          150,
          190,
          3150,
          640,
          1640,
          1000,
          13530,
          2170,
          2920,
          7930,
          10180,
          450,
          2370,
          10800,
          17410,
          6680,
          3840,
          13570,
          1890,
          4370,
          5710,
          1000,
          1420,
          320,
          610,
          1110,
          780,
          6880,
          310,
          710,
          1310,
          4660,
          70,
          340,
          18010,
          3520,
          340,
          22330,
          250,
          330,
          4630,
          80,
          420,
          27190,
          210,
          540,
          15340,
          1180,
          1140,
          180,
          4580,
          360,
          2460,
          4520,
          60,
          1450,
          420,
          16180,
          8480,
          3640,
          300,
          2960,
          7840,
          9260,
          2320,
          18640,
          6970,
          1220,
          2260,
          1290,
          2410,
          1460,
          2740,
          800,
          6540,
          4150,
          75860,
          1100,
          140,
          3150,
          210,
          9580,
          2300,
          19840,
          38630,
          120,
          4510,
          2190,
          15430,
          1950,
          2470,
          5100,
          18660,
          1070,
          8740,
          2290,
          680,
          11300,
          14160,
          3560,
          38710,
          9000,
          3140,
          32330,
          570,
          210,
          8140,
          17500,
          8400,
          13140,
          350,
          10070,
          1390,
          3130,
          1310,
          370,
          670,
          1840,
          3720,
          4040,
          90,
          190,
          10600,
          1590,
          2280,
          8080,
          190,
          15770,
          18650,
          300,
          120,
          8090,
          9360,
          16490,
          1490,
          8880,
          5290,
          6360,
          900,
          1500,
          9720,
          8970,
          2060,
          2890,
          4370,
          2040,
          4490,
          340,
          250,
          13620,
          2410,
          6470,
          2640,
          1450,
          5870,
          8250,
          1970,
          4880,
          11120,
          1150,
          15710,
          160,
          100,
          2140,
          6630,
          2240,
          1800,
          26130,
          350,
          130,
          4580,
          1460,
          210,
          2260,
          6690,
          1600,
          460,
          2120,
          4820,
          10850,
          3620,
          23130,
          130,
          1540,
          5360,
          70,
          9200,
          5830,
          4970,
          1420,
          1080,
          8240,
          5890,
          1560,
          840,
          40,
          8460,
          4460,
          760,
          6210,
          6910,
          4650,
          840,
          1060,
          1620,
          250,
          3530,
          2880,
          1270,
          1250,
          1460,
          250,
          70,
          2960,
          16350,
          12870,
          4520,
          810,
          30030,
          13020,
          910,
          2300,
          430,
          1110,
          1350,
          3900,
          2530,
          500,
          11400,
          1700,
          240,
          340,
          1510,
          3970,
          120,
          5780,
          2460,
          1850,
          75860,
          26450,
          7660,
          140,
          13140,
          3390,
          250,
          34050,
          1790,
          44320,
          4160,
          520,
          10890,
          3110,
          20390,
          5260,
          710,
          50,
          5300,
          5030,
          50,
          14810,
          140,
          8300,
          770,
          1940,
          320,
          300,
          7470,
          2550,
          2310,
          14300,
          3270,
          2320,
          2180,
          2890,
          14960,
          660,
          4680,
          1740,
          1150,
          1260,
          5470,
          2780,
          1610,
          990,
          450,
          10690,
          1620,
          220,
          13080,
          820,
          350,
          1850,
          9070,
          1280,
          4740,
          8260,
          2060,
          590,
          400,
          1200,
          11260,
          20,
          22490,
          3330,
          2510,
          6900,
          18610,
          7160,
          50,
          40860,
          1870,
          120,
          5830,
          20620,
          12920,
          18160,
          4030,
          1070,
          5950,
          1200,
          3570,
          4700,
          600,
          990,
          770,
          810,
          650,
          7280,
          1080,
          250,
          5020,
          580,
          8990,
          3760,
          2330,
          50,
          2190,
          4260,
          3040,
          1200,
          1560,
          1140,
          250,
          3000,
          3910,
          1910,
          14300,
          1210,
          700,
          6540,
          160,
          3620,
          1010,
          4270,
          1340,
          180,
          2110,
          9230,
          1190,
          4400,
          960,
          50,
          2270,
          12700,
          20970,
          170,
          7250,
          120,
          2640,
          1360,
          440,
          250,
          330,
          15720,
          360,
          4520,
          3340,
          2540,
          33060,
          1790,
          1130,
          290,
          150,
          550,
          580,
          17340,
          8220,
          2710,
          340,
          10950,
          10310,
          2260,
          350,
          18370,
          2070,
          660,
          8080,
          2490,
          250,
          1160,
          730,
          3040,
          8940,
          9910,
          1600,
          5440,
          30,
          75860,
          4080,
          6920,
          1170,
          10740,
          3970,
          2180,
          510,
          1690,
          2870,
          3350,
          11640,
          18610,
          27530,
          720,
          9790,
          10170,
          7780,
          8040,
          610,
          530,
          230,
          4030,
          90,
          620,
          7420,
          2130,
          14570,
          1420,
          200,
          20390,
          7520,
          6930,
          960,
          410,
          80,
          520,
          1590,
          1200,
          2140,
          1070,
          7860,
          1680,
          90,
          2700,
          2870,
          1270,
          17080,
          2060,
          2070,
          240,
          15170,
          2640,
          2100,
          1410,
          1740,
          3250,
          4140,
          170,
          620,
          150,
          2850,
          680,
          650,
          20050,
          2770,
          18760,
          15040,
          100,
          3030,
          40,
          450,
          460,
          550,
          430,
          3780,
          1790,
          180,
          830,
          1450,
          8550,
          80,
          1910,
          4140,
          7830,
          2900,
          11470,
          500,
          1500,
          17110,
          4870,
          220,
          12070,
          14810,
          3200,
          310,
          1100,
          8190,
          15320,
          3590,
          50,
          5650,
          5900,
          17540,
          40540,
          2050,
          13990,
          8980,
          1190,
          15270,
          35280,
          860,
          220,
          1920,
          1650,
          100,
          5980,
          2770,
          6400,
          11900,
          4380,
          6710,
          1370,
          17650,
          4330,
          45740,
          2380,
          3410,
          8670,
          650,
          970,
          540,
          380,
          13130,
          50,
          3450,
          19780,
          110,
          560,
          2390,
          1280,
          32240,
          26490,
          25430,
          9820,
          13080,
          2630,
          840,
          100,
          20640,
          1850,
          200,
          640,
          6970,
          700,
          8250,
          340,
          16990,
          18160,
          630,
          5390,
          15490,
          560,
          970,
          290,
          3210,
          1530,
          9770,
          9070,
          5950,
          17280,
          2710,
          5090,
          510,
          7180,
          2090,
          9560,
          2700,
          2020,
          48330,
          910,
          1760,
          2100,
          24770,
          260,
          3870,
          18620,
          12770,
          9640,
          410,
          2590,
          1560,
          24530,
          590,
          460,
          140,
          490,
          720,
          1650,
          1700,
          410,
          16210,
          17570,
          380,
          7980,
          250,
          3290,
          110,
          6320,
          800,
          5070,
          3290,
          3470,
          2890,
          2720,
          14600,
          6890,
          240,
          1070,
          27650,
          1200,
          60,
          2030,
          7860,
          8860,
          190,
          370,
          5000,
          1120,
          2330,
          940,
          14040,
          4770,
          3440,
          3020,
          6270,
          3370,
          21770,
          5980,
          740,
          2840,
          21370,
          1020,
          2640,
          9680,
          21810,
          1360,
          230,
          780,
          10620,
          3860,
          2040,
          3210,
          5070,
          21790,
          29190,
          1100,
          75860,
          4570,
          180,
          30,
          3200,
          7550,
          480,
          12430,
          19700,
          4450,
          18670,
          4450,
          350,
          19370,
          130,
          190,
          4150,
          170,
          3290,
          18540,
          2590,
          3920,
          3170,
          310,
          7290,
          570,
          90,
          90,
          250,
          1980,
          1680,
          12480,
          16490,
          3100,
          280,
          2640,
          650,
          90,
          7240,
          18710,
          2620,
          850,
          840,
          2110,
          280,
          6420,
          470,
          5150,
          480,
          1090,
          4820,
          70,
          1480,
          15700,
          6270,
          5460,
          22350,
          580,
          2810,
          2820,
          1340,
          6470,
          1200,
          6860,
          18020,
          1670,
          12480,
          2220,
          460,
          1430,
          870,
          8460,
          710,
          6300,
          19830,
          390,
          1690,
          2330,
          1420,
          440,
          1060,
          8990,
          9430,
          260,
          23620,
          270,
          110,
          760,
          3560,
          1190,
          600,
          910,
          1140,
          14960,
          330,
          150,
          9630,
          4180,
          520,
          3890,
          2270,
          4420,
          2620,
          21930,
          40,
          440,
          490,
          620,
          1690,
          30,
          1640,
          20930,
          1010,
          2480,
          3460,
          2290,
          6560,
          2870,
          5840,
          780,
          15140,
          2230,
          19640,
          1130,
          170,
          970,
          6480,
          3890,
          4180,
          30,
          230,
          4610,
          490,
          6330,
          630,
          210,
          9910,
          550,
          110,
          140,
          2740,
          40,
          1080,
          1520,
          3740,
          1990,
          720,
          450,
          190,
          150,
          1590,
          36410,
          590,
          270,
          7680,
          13750,
          27150,
          9560,
          150,
          17290,
          70,
          4030,
          1600,
          3440,
          420,
          240,
          26990,
          29070,
          3750,
          1860,
          370,
          13170,
          200,
          5080,
          1710,
          13190,
          1980,
          5350,
          3230,
          180,
          3380,
          3430,
          8110,
          190,
          6250,
          420,
          1290,
          3350,
          12020,
          5010,
          18050,
          400,
          820,
          5380,
          1710,
          3330,
          1410,
          90,
          3750,
          670,
          16680,
          2410,
          400,
          440,
          11540,
          190,
          4030,
          180,
          2210,
          4300,
          5220,
          330,
          9990,
          300,
          10450,
          2380,
          690,
          1130,
          720,
          1830,
          200,
          540,
          4060,
          850,
          1340,
          260,
          330,
          5330,
          1400,
          540,
          3490,
          900,
          1900,
          1880,
          9260,
          870,
          5350
         ],
         "xaxis": "x",
         "yaxis": "y"
        },
        {
         "alignmentgroup": "True",
         "hovertemplate": "CompetitionDistance=%{x}<extra></extra>",
         "legendgroup": "",
         "marker": {
          "color": "cornflowerblue"
         },
         "name": "",
         "notched": true,
         "offsetgroup": "",
         "showlegend": false,
         "type": "box",
         "x": [
          1270,
          570,
          14130,
          620,
          29910,
          310,
          24000,
          7520,
          2030,
          3160,
          960,
          1070,
          310,
          1300,
          4110,
          3270,
          50,
          13840,
          3240,
          2340,
          550,
          1040,
          4060,
          4590,
          430,
          2300,
          60,
          1200,
          2170,
          40,
          9800,
          2910,
          1320,
          2240,
          7660,
          540,
          4230,
          1090,
          260,
          180,
          1180,
          290,
          4880,
          540,
          9710,
          1200,
          270,
          1060,
          18010,
          6260,
          10570,
          450,
          30360,
          7170,
          720,
          6620,
          420,
          7340,
          2840,
          5540,
          350,
          2050,
          3700,
          22560,
          13840,
          7660,
          410,
          250,
          1130,
          4840,
          17500,
          2200,
          1650,
          330,
          22440,
          19960,
          1090,
          3510,
          3320,
          7910,
          2370,
          22390,
          2710,
          11810,
          1870,
          480,
          560,
          10690,
          2380,
          330,
          2410,
          240,
          16690,
          14620,
          1890,
          8780,
          8980,
          15140,
          2030,
          17930,
          2440,
          150,
          5210,
          390,
          6190,
          1390,
          1930,
          2190,
          3300,
          46590,
          7890,
          1630,
          20930,
          4510,
          5740,
          680,
          3450,
          3580,
          2100,
          2290,
          3570,
          58260,
          16760,
          1410,
          760,
          3370,
          1350,
          2000,
          2460,
          900,
          920,
          1040,
          270,
          1200,
          5190,
          2200,
          1730,
          25360,
          1700,
          1090,
          1540,
          1090,
          2930,
          16570,
          280,
          8050,
          8540,
          2090,
          2610,
          31830,
          4360,
          1780,
          16240,
          16420,
          3050,
          2020,
          2950,
          11840,
          8530,
          17110,
          2970,
          5340,
          1480,
          1160,
          3720,
          100,
          140,
          12540,
          980,
          1070,
          2640,
          110,
          350,
          13090,
          4130,
          3770,
          1250,
          1710,
          480,
          5800,
          12610,
          1390,
          9670,
          3560,
          1860,
          290,
          19360,
          850,
          5760,
          1470,
          1100,
          2770,
          520,
          16970,
          220,
          3850,
          4210,
          290,
          6360,
          1650,
          20260,
          5140,
          490,
          5630,
          110,
          380,
          6870,
          300,
          11680,
          970,
          350,
          15050,
          4030,
          8650,
          150,
          190,
          3150,
          640,
          1640,
          1000,
          13530,
          2170,
          2920,
          7930,
          10180,
          450,
          2370,
          10800,
          17410,
          6680,
          3840,
          13570,
          1890,
          4370,
          5710,
          1000,
          1420,
          320,
          610,
          1110,
          780,
          6880,
          310,
          710,
          1310,
          4660,
          70,
          340,
          18010,
          3520,
          340,
          22330,
          250,
          330,
          4630,
          80,
          420,
          27190,
          210,
          540,
          15340,
          1180,
          1140,
          180,
          4580,
          360,
          2460,
          4520,
          60,
          1450,
          420,
          16180,
          8480,
          3640,
          300,
          2960,
          7840,
          9260,
          2320,
          18640,
          6970,
          1220,
          2260,
          1290,
          2410,
          1460,
          2740,
          800,
          6540,
          4150,
          75860,
          1100,
          140,
          3150,
          210,
          9580,
          2300,
          19840,
          38630,
          120,
          4510,
          2190,
          15430,
          1950,
          2470,
          5100,
          18660,
          1070,
          8740,
          2290,
          680,
          11300,
          14160,
          3560,
          38710,
          9000,
          3140,
          32330,
          570,
          210,
          8140,
          17500,
          8400,
          13140,
          350,
          10070,
          1390,
          3130,
          1310,
          370,
          670,
          1840,
          3720,
          4040,
          90,
          190,
          10600,
          1590,
          2280,
          8080,
          190,
          15770,
          18650,
          300,
          120,
          8090,
          9360,
          16490,
          1490,
          8880,
          5290,
          6360,
          900,
          1500,
          9720,
          8970,
          2060,
          2890,
          4370,
          2040,
          4490,
          340,
          250,
          13620,
          2410,
          6470,
          2640,
          1450,
          5870,
          8250,
          1970,
          4880,
          11120,
          1150,
          15710,
          160,
          100,
          2140,
          6630,
          2240,
          1800,
          26130,
          350,
          130,
          4580,
          1460,
          210,
          2260,
          6690,
          1600,
          460,
          2120,
          4820,
          10850,
          3620,
          23130,
          130,
          1540,
          5360,
          70,
          9200,
          5830,
          4970,
          1420,
          1080,
          8240,
          5890,
          1560,
          840,
          40,
          8460,
          4460,
          760,
          6210,
          6910,
          4650,
          840,
          1060,
          1620,
          250,
          3530,
          2880,
          1270,
          1250,
          1460,
          250,
          70,
          2960,
          16350,
          12870,
          4520,
          810,
          30030,
          13020,
          910,
          2300,
          430,
          1110,
          1350,
          3900,
          2530,
          500,
          11400,
          1700,
          240,
          340,
          1510,
          3970,
          120,
          5780,
          2460,
          1850,
          75860,
          26450,
          7660,
          140,
          13140,
          3390,
          250,
          34050,
          1790,
          44320,
          4160,
          520,
          10890,
          3110,
          20390,
          5260,
          710,
          50,
          5300,
          5030,
          50,
          14810,
          140,
          8300,
          770,
          1940,
          320,
          300,
          7470,
          2550,
          2310,
          14300,
          3270,
          2320,
          2180,
          2890,
          14960,
          660,
          4680,
          1740,
          1150,
          1260,
          5470,
          2780,
          1610,
          990,
          450,
          10690,
          1620,
          220,
          13080,
          820,
          350,
          1850,
          9070,
          1280,
          4740,
          8260,
          2060,
          590,
          400,
          1200,
          11260,
          20,
          22490,
          3330,
          2510,
          6900,
          18610,
          7160,
          50,
          40860,
          1870,
          120,
          5830,
          20620,
          12920,
          18160,
          4030,
          1070,
          5950,
          1200,
          3570,
          4700,
          600,
          990,
          770,
          810,
          650,
          7280,
          1080,
          250,
          5020,
          580,
          8990,
          3760,
          2330,
          50,
          2190,
          4260,
          3040,
          1200,
          1560,
          1140,
          250,
          3000,
          3910,
          1910,
          14300,
          1210,
          700,
          6540,
          160,
          3620,
          1010,
          4270,
          1340,
          180,
          2110,
          9230,
          1190,
          4400,
          960,
          50,
          2270,
          12700,
          20970,
          170,
          7250,
          120,
          2640,
          1360,
          440,
          250,
          330,
          15720,
          360,
          4520,
          3340,
          2540,
          33060,
          1790,
          1130,
          290,
          150,
          550,
          580,
          17340,
          8220,
          2710,
          340,
          10950,
          10310,
          2260,
          350,
          18370,
          2070,
          660,
          8080,
          2490,
          250,
          1160,
          730,
          3040,
          8940,
          9910,
          1600,
          5440,
          30,
          75860,
          4080,
          6920,
          1170,
          10740,
          3970,
          2180,
          510,
          1690,
          2870,
          3350,
          11640,
          18610,
          27530,
          720,
          9790,
          10170,
          7780,
          8040,
          610,
          530,
          230,
          4030,
          90,
          620,
          7420,
          2130,
          14570,
          1420,
          200,
          20390,
          7520,
          6930,
          960,
          410,
          80,
          520,
          1590,
          1200,
          2140,
          1070,
          7860,
          1680,
          90,
          2700,
          2870,
          1270,
          17080,
          2060,
          2070,
          240,
          15170,
          2640,
          2100,
          1410,
          1740,
          3250,
          4140,
          170,
          620,
          150,
          2850,
          680,
          650,
          20050,
          2770,
          18760,
          15040,
          100,
          3030,
          40,
          450,
          460,
          550,
          430,
          3780,
          1790,
          180,
          830,
          1450,
          8550,
          80,
          1910,
          4140,
          7830,
          2900,
          11470,
          500,
          1500,
          17110,
          4870,
          220,
          12070,
          14810,
          3200,
          310,
          1100,
          8190,
          15320,
          3590,
          50,
          5650,
          5900,
          17540,
          40540,
          2050,
          13990,
          8980,
          1190,
          15270,
          35280,
          860,
          220,
          1920,
          1650,
          100,
          5980,
          2770,
          6400,
          11900,
          4380,
          6710,
          1370,
          17650,
          4330,
          45740,
          2380,
          3410,
          8670,
          650,
          970,
          540,
          380,
          13130,
          50,
          3450,
          19780,
          110,
          560,
          2390,
          1280,
          32240,
          26490,
          25430,
          9820,
          13080,
          2630,
          840,
          100,
          20640,
          1850,
          200,
          640,
          6970,
          700,
          8250,
          340,
          16990,
          18160,
          630,
          5390,
          15490,
          560,
          970,
          290,
          3210,
          1530,
          9770,
          9070,
          5950,
          17280,
          2710,
          5090,
          510,
          7180,
          2090,
          9560,
          2700,
          2020,
          48330,
          910,
          1760,
          2100,
          24770,
          260,
          3870,
          18620,
          12770,
          9640,
          410,
          2590,
          1560,
          24530,
          590,
          460,
          140,
          490,
          720,
          1650,
          1700,
          410,
          16210,
          17570,
          380,
          7980,
          250,
          3290,
          110,
          6320,
          800,
          5070,
          3290,
          3470,
          2890,
          2720,
          14600,
          6890,
          240,
          1070,
          27650,
          1200,
          60,
          2030,
          7860,
          8860,
          190,
          370,
          5000,
          1120,
          2330,
          940,
          14040,
          4770,
          3440,
          3020,
          6270,
          3370,
          21770,
          5980,
          740,
          2840,
          21370,
          1020,
          2640,
          9680,
          21810,
          1360,
          230,
          780,
          10620,
          3860,
          2040,
          3210,
          5070,
          21790,
          29190,
          1100,
          75860,
          4570,
          180,
          30,
          3200,
          7550,
          480,
          12430,
          19700,
          4450,
          18670,
          4450,
          350,
          19370,
          130,
          190,
          4150,
          170,
          3290,
          18540,
          2590,
          3920,
          3170,
          310,
          7290,
          570,
          90,
          90,
          250,
          1980,
          1680,
          12480,
          16490,
          3100,
          280,
          2640,
          650,
          90,
          7240,
          18710,
          2620,
          850,
          840,
          2110,
          280,
          6420,
          470,
          5150,
          480,
          1090,
          4820,
          70,
          1480,
          15700,
          6270,
          5460,
          22350,
          580,
          2810,
          2820,
          1340,
          6470,
          1200,
          6860,
          18020,
          1670,
          12480,
          2220,
          460,
          1430,
          870,
          8460,
          710,
          6300,
          19830,
          390,
          1690,
          2330,
          1420,
          440,
          1060,
          8990,
          9430,
          260,
          23620,
          270,
          110,
          760,
          3560,
          1190,
          600,
          910,
          1140,
          14960,
          330,
          150,
          9630,
          4180,
          520,
          3890,
          2270,
          4420,
          2620,
          21930,
          40,
          440,
          490,
          620,
          1690,
          30,
          1640,
          20930,
          1010,
          2480,
          3460,
          2290,
          6560,
          2870,
          5840,
          780,
          15140,
          2230,
          19640,
          1130,
          170,
          970,
          6480,
          3890,
          4180,
          30,
          230,
          4610,
          490,
          6330,
          630,
          210,
          9910,
          550,
          110,
          140,
          2740,
          40,
          1080,
          1520,
          3740,
          1990,
          720,
          450,
          190,
          150,
          1590,
          36410,
          590,
          270,
          7680,
          13750,
          27150,
          9560,
          150,
          17290,
          70,
          4030,
          1600,
          3440,
          420,
          240,
          26990,
          29070,
          3750,
          1860,
          370,
          13170,
          200,
          5080,
          1710,
          13190,
          1980,
          5350,
          3230,
          180,
          3380,
          3430,
          8110,
          190,
          6250,
          420,
          1290,
          3350,
          12020,
          5010,
          18050,
          400,
          820,
          5380,
          1710,
          3330,
          1410,
          90,
          3750,
          670,
          16680,
          2410,
          400,
          440,
          11540,
          190,
          4030,
          180,
          2210,
          4300,
          5220,
          330,
          9990,
          300,
          10450,
          2380,
          690,
          1130,
          720,
          1830,
          200,
          540,
          4060,
          850,
          1340,
          260,
          330,
          5330,
          1400,
          540,
          3490,
          900,
          1900,
          1880,
          9260,
          870,
          5350
         ],
         "xaxis": "x2",
         "yaxis": "y2"
        }
       ],
       "layout": {
        "bargap": 0.01,
        "barmode": "relative",
        "legend": {
         "tracegroupgap": 0
        },
        "template": {
         "data": {
          "bar": [
           {
            "error_x": {
             "color": "#2a3f5f"
            },
            "error_y": {
             "color": "#2a3f5f"
            },
            "marker": {
             "line": {
              "color": "#E5ECF6",
              "width": 0.5
             },
             "pattern": {
              "fillmode": "overlay",
              "size": 10,
              "solidity": 0.2
             }
            },
            "type": "bar"
           }
          ],
          "barpolar": [
           {
            "marker": {
             "line": {
              "color": "#E5ECF6",
              "width": 0.5
             },
             "pattern": {
              "fillmode": "overlay",
              "size": 10,
              "solidity": 0.2
             }
            },
            "type": "barpolar"
           }
          ],
          "carpet": [
           {
            "aaxis": {
             "endlinecolor": "#2a3f5f",
             "gridcolor": "white",
             "linecolor": "white",
             "minorgridcolor": "white",
             "startlinecolor": "#2a3f5f"
            },
            "baxis": {
             "endlinecolor": "#2a3f5f",
             "gridcolor": "white",
             "linecolor": "white",
             "minorgridcolor": "white",
             "startlinecolor": "#2a3f5f"
            },
            "type": "carpet"
           }
          ],
          "choropleth": [
           {
            "colorbar": {
             "outlinewidth": 0,
             "ticks": ""
            },
            "type": "choropleth"
           }
          ],
          "contour": [
           {
            "colorbar": {
             "outlinewidth": 0,
             "ticks": ""
            },
            "colorscale": [
             [
              0,
              "#0d0887"
             ],
             [
              0.1111111111111111,
              "#46039f"
             ],
             [
              0.2222222222222222,
              "#7201a8"
             ],
             [
              0.3333333333333333,
              "#9c179e"
             ],
             [
              0.4444444444444444,
              "#bd3786"
             ],
             [
              0.5555555555555556,
              "#d8576b"
             ],
             [
              0.6666666666666666,
              "#ed7953"
             ],
             [
              0.7777777777777778,
              "#fb9f3a"
             ],
             [
              0.8888888888888888,
              "#fdca26"
             ],
             [
              1,
              "#f0f921"
             ]
            ],
            "type": "contour"
           }
          ],
          "contourcarpet": [
           {
            "colorbar": {
             "outlinewidth": 0,
             "ticks": ""
            },
            "type": "contourcarpet"
           }
          ],
          "heatmap": [
           {
            "colorbar": {
             "outlinewidth": 0,
             "ticks": ""
            },
            "colorscale": [
             [
              0,
              "#0d0887"
             ],
             [
              0.1111111111111111,
              "#46039f"
             ],
             [
              0.2222222222222222,
              "#7201a8"
             ],
             [
              0.3333333333333333,
              "#9c179e"
             ],
             [
              0.4444444444444444,
              "#bd3786"
             ],
             [
              0.5555555555555556,
              "#d8576b"
             ],
             [
              0.6666666666666666,
              "#ed7953"
             ],
             [
              0.7777777777777778,
              "#fb9f3a"
             ],
             [
              0.8888888888888888,
              "#fdca26"
             ],
             [
              1,
              "#f0f921"
             ]
            ],
            "type": "heatmap"
           }
          ],
          "heatmapgl": [
           {
            "colorbar": {
             "outlinewidth": 0,
             "ticks": ""
            },
            "colorscale": [
             [
              0,
              "#0d0887"
             ],
             [
              0.1111111111111111,
              "#46039f"
             ],
             [
              0.2222222222222222,
              "#7201a8"
             ],
             [
              0.3333333333333333,
              "#9c179e"
             ],
             [
              0.4444444444444444,
              "#bd3786"
             ],
             [
              0.5555555555555556,
              "#d8576b"
             ],
             [
              0.6666666666666666,
              "#ed7953"
             ],
             [
              0.7777777777777778,
              "#fb9f3a"
             ],
             [
              0.8888888888888888,
              "#fdca26"
             ],
             [
              1,
              "#f0f921"
             ]
            ],
            "type": "heatmapgl"
           }
          ],
          "histogram": [
           {
            "marker": {
             "pattern": {
              "fillmode": "overlay",
              "size": 10,
              "solidity": 0.2
             }
            },
            "type": "histogram"
           }
          ],
          "histogram2d": [
           {
            "colorbar": {
             "outlinewidth": 0,
             "ticks": ""
            },
            "colorscale": [
             [
              0,
              "#0d0887"
             ],
             [
              0.1111111111111111,
              "#46039f"
             ],
             [
              0.2222222222222222,
              "#7201a8"
             ],
             [
              0.3333333333333333,
              "#9c179e"
             ],
             [
              0.4444444444444444,
              "#bd3786"
             ],
             [
              0.5555555555555556,
              "#d8576b"
             ],
             [
              0.6666666666666666,
              "#ed7953"
             ],
             [
              0.7777777777777778,
              "#fb9f3a"
             ],
             [
              0.8888888888888888,
              "#fdca26"
             ],
             [
              1,
              "#f0f921"
             ]
            ],
            "type": "histogram2d"
           }
          ],
          "histogram2dcontour": [
           {
            "colorbar": {
             "outlinewidth": 0,
             "ticks": ""
            },
            "colorscale": [
             [
              0,
              "#0d0887"
             ],
             [
              0.1111111111111111,
              "#46039f"
             ],
             [
              0.2222222222222222,
              "#7201a8"
             ],
             [
              0.3333333333333333,
              "#9c179e"
             ],
             [
              0.4444444444444444,
              "#bd3786"
             ],
             [
              0.5555555555555556,
              "#d8576b"
             ],
             [
              0.6666666666666666,
              "#ed7953"
             ],
             [
              0.7777777777777778,
              "#fb9f3a"
             ],
             [
              0.8888888888888888,
              "#fdca26"
             ],
             [
              1,
              "#f0f921"
             ]
            ],
            "type": "histogram2dcontour"
           }
          ],
          "mesh3d": [
           {
            "colorbar": {
             "outlinewidth": 0,
             "ticks": ""
            },
            "type": "mesh3d"
           }
          ],
          "parcoords": [
           {
            "line": {
             "colorbar": {
              "outlinewidth": 0,
              "ticks": ""
             }
            },
            "type": "parcoords"
           }
          ],
          "pie": [
           {
            "automargin": true,
            "type": "pie"
           }
          ],
          "scatter": [
           {
            "fillpattern": {
             "fillmode": "overlay",
             "size": 10,
             "solidity": 0.2
            },
            "type": "scatter"
           }
          ],
          "scatter3d": [
           {
            "line": {
             "colorbar": {
              "outlinewidth": 0,
              "ticks": ""
             }
            },
            "marker": {
             "colorbar": {
              "outlinewidth": 0,
              "ticks": ""
             }
            },
            "type": "scatter3d"
           }
          ],
          "scattercarpet": [
           {
            "marker": {
             "colorbar": {
              "outlinewidth": 0,
              "ticks": ""
             }
            },
            "type": "scattercarpet"
           }
          ],
          "scattergeo": [
           {
            "marker": {
             "colorbar": {
              "outlinewidth": 0,
              "ticks": ""
             }
            },
            "type": "scattergeo"
           }
          ],
          "scattergl": [
           {
            "marker": {
             "colorbar": {
              "outlinewidth": 0,
              "ticks": ""
             }
            },
            "type": "scattergl"
           }
          ],
          "scattermapbox": [
           {
            "marker": {
             "colorbar": {
              "outlinewidth": 0,
              "ticks": ""
             }
            },
            "type": "scattermapbox"
           }
          ],
          "scatterpolar": [
           {
            "marker": {
             "colorbar": {
              "outlinewidth": 0,
              "ticks": ""
             }
            },
            "type": "scatterpolar"
           }
          ],
          "scatterpolargl": [
           {
            "marker": {
             "colorbar": {
              "outlinewidth": 0,
              "ticks": ""
             }
            },
            "type": "scatterpolargl"
           }
          ],
          "scatterternary": [
           {
            "marker": {
             "colorbar": {
              "outlinewidth": 0,
              "ticks": ""
             }
            },
            "type": "scatterternary"
           }
          ],
          "surface": [
           {
            "colorbar": {
             "outlinewidth": 0,
             "ticks": ""
            },
            "colorscale": [
             [
              0,
              "#0d0887"
             ],
             [
              0.1111111111111111,
              "#46039f"
             ],
             [
              0.2222222222222222,
              "#7201a8"
             ],
             [
              0.3333333333333333,
              "#9c179e"
             ],
             [
              0.4444444444444444,
              "#bd3786"
             ],
             [
              0.5555555555555556,
              "#d8576b"
             ],
             [
              0.6666666666666666,
              "#ed7953"
             ],
             [
              0.7777777777777778,
              "#fb9f3a"
             ],
             [
              0.8888888888888888,
              "#fdca26"
             ],
             [
              1,
              "#f0f921"
             ]
            ],
            "type": "surface"
           }
          ],
          "table": [
           {
            "cells": {
             "fill": {
              "color": "#EBF0F8"
             },
             "line": {
              "color": "white"
             }
            },
            "header": {
             "fill": {
              "color": "#C8D4E3"
             },
             "line": {
              "color": "white"
             }
            },
            "type": "table"
           }
          ]
         },
         "layout": {
          "annotationdefaults": {
           "arrowcolor": "#2a3f5f",
           "arrowhead": 0,
           "arrowwidth": 1
          },
          "autotypenumbers": "strict",
          "coloraxis": {
           "colorbar": {
            "outlinewidth": 0,
            "ticks": ""
           }
          },
          "colorscale": {
           "diverging": [
            [
             0,
             "#8e0152"
            ],
            [
             0.1,
             "#c51b7d"
            ],
            [
             0.2,
             "#de77ae"
            ],
            [
             0.3,
             "#f1b6da"
            ],
            [
             0.4,
             "#fde0ef"
            ],
            [
             0.5,
             "#f7f7f7"
            ],
            [
             0.6,
             "#e6f5d0"
            ],
            [
             0.7,
             "#b8e186"
            ],
            [
             0.8,
             "#7fbc41"
            ],
            [
             0.9,
             "#4d9221"
            ],
            [
             1,
             "#276419"
            ]
           ],
           "sequential": [
            [
             0,
             "#0d0887"
            ],
            [
             0.1111111111111111,
             "#46039f"
            ],
            [
             0.2222222222222222,
             "#7201a8"
            ],
            [
             0.3333333333333333,
             "#9c179e"
            ],
            [
             0.4444444444444444,
             "#bd3786"
            ],
            [
             0.5555555555555556,
             "#d8576b"
            ],
            [
             0.6666666666666666,
             "#ed7953"
            ],
            [
             0.7777777777777778,
             "#fb9f3a"
            ],
            [
             0.8888888888888888,
             "#fdca26"
            ],
            [
             1,
             "#f0f921"
            ]
           ],
           "sequentialminus": [
            [
             0,
             "#0d0887"
            ],
            [
             0.1111111111111111,
             "#46039f"
            ],
            [
             0.2222222222222222,
             "#7201a8"
            ],
            [
             0.3333333333333333,
             "#9c179e"
            ],
            [
             0.4444444444444444,
             "#bd3786"
            ],
            [
             0.5555555555555556,
             "#d8576b"
            ],
            [
             0.6666666666666666,
             "#ed7953"
            ],
            [
             0.7777777777777778,
             "#fb9f3a"
            ],
            [
             0.8888888888888888,
             "#fdca26"
            ],
            [
             1,
             "#f0f921"
            ]
           ]
          },
          "colorway": [
           "#636efa",
           "#EF553B",
           "#00cc96",
           "#ab63fa",
           "#FFA15A",
           "#19d3f3",
           "#FF6692",
           "#B6E880",
           "#FF97FF",
           "#FECB52"
          ],
          "font": {
           "color": "#2a3f5f"
          },
          "geo": {
           "bgcolor": "white",
           "lakecolor": "white",
           "landcolor": "#E5ECF6",
           "showlakes": true,
           "showland": true,
           "subunitcolor": "white"
          },
          "hoverlabel": {
           "align": "left"
          },
          "hovermode": "closest",
          "mapbox": {
           "style": "light"
          },
          "paper_bgcolor": "white",
          "plot_bgcolor": "#E5ECF6",
          "polar": {
           "angularaxis": {
            "gridcolor": "white",
            "linecolor": "white",
            "ticks": ""
           },
           "bgcolor": "#E5ECF6",
           "radialaxis": {
            "gridcolor": "white",
            "linecolor": "white",
            "ticks": ""
           }
          },
          "scene": {
           "xaxis": {
            "backgroundcolor": "#E5ECF6",
            "gridcolor": "white",
            "gridwidth": 2,
            "linecolor": "white",
            "showbackground": true,
            "ticks": "",
            "zerolinecolor": "white"
           },
           "yaxis": {
            "backgroundcolor": "#E5ECF6",
            "gridcolor": "white",
            "gridwidth": 2,
            "linecolor": "white",
            "showbackground": true,
            "ticks": "",
            "zerolinecolor": "white"
           },
           "zaxis": {
            "backgroundcolor": "#E5ECF6",
            "gridcolor": "white",
            "gridwidth": 2,
            "linecolor": "white",
            "showbackground": true,
            "ticks": "",
            "zerolinecolor": "white"
           }
          },
          "shapedefaults": {
           "line": {
            "color": "#2a3f5f"
           }
          },
          "ternary": {
           "aaxis": {
            "gridcolor": "white",
            "linecolor": "white",
            "ticks": ""
           },
           "baxis": {
            "gridcolor": "white",
            "linecolor": "white",
            "ticks": ""
           },
           "bgcolor": "#E5ECF6",
           "caxis": {
            "gridcolor": "white",
            "linecolor": "white",
            "ticks": ""
           }
          },
          "title": {
           "x": 0.05
          },
          "xaxis": {
           "automargin": true,
           "gridcolor": "white",
           "linecolor": "white",
           "ticks": "",
           "title": {
            "standoff": 15
           },
           "zerolinecolor": "white",
           "zerolinewidth": 2
          },
          "yaxis": {
           "automargin": true,
           "gridcolor": "white",
           "linecolor": "white",
           "ticks": "",
           "title": {
            "standoff": 15
           },
           "zerolinecolor": "white",
           "zerolinewidth": 2
          }
         }
        },
        "title": {
         "text": "Distribution of CompetitionDistance"
        },
        "xaxis": {
         "anchor": "y",
         "domain": [
          0,
          1
         ],
         "title": {
          "text": "CompetitionDistance"
         }
        },
        "xaxis2": {
         "anchor": "y2",
         "domain": [
          0,
          1
         ],
         "matches": "x",
         "showgrid": true,
         "showticklabels": false
        },
        "yaxis": {
         "anchor": "x",
         "domain": [
          0,
          0.8316
         ],
         "title": {
          "text": "count"
         }
        },
        "yaxis2": {
         "anchor": "x2",
         "domain": [
          0.8416,
          1
         ],
         "matches": "y2",
         "showgrid": false,
         "showline": false,
         "showticklabels": false,
         "ticks": ""
        }
       }
      },
      "text/html": [
       "<div>                            <div id=\"29157c55-3e51-4f28-8d9d-a65383241f4b\" class=\"plotly-graph-div\" style=\"height:525px; width:100%;\"></div>            <script type=\"text/javascript\">                require([\"plotly\"], function(Plotly) {                    window.PLOTLYENV=window.PLOTLYENV || {};                                    if (document.getElementById(\"29157c55-3e51-4f28-8d9d-a65383241f4b\")) {                    Plotly.newPlot(                        \"29157c55-3e51-4f28-8d9d-a65383241f4b\",                        [{\"alignmentgroup\":\"True\",\"bingroup\":\"x\",\"hovertemplate\":\"CompetitionDistance=%{x}<br>count=%{y}<extra></extra>\",\"legendgroup\":\"\",\"marker\":{\"color\":\"cornflowerblue\",\"pattern\":{\"shape\":\"\"}},\"name\":\"\",\"offsetgroup\":\"\",\"orientation\":\"v\",\"showlegend\":false,\"x\":[1270.0,570.0,14130.0,620.0,29910.0,310.0,24000.0,7520.0,2030.0,3160.0,960.0,1070.0,310.0,1300.0,4110.0,3270.0,50.0,13840.0,3240.0,2340.0,550.0,1040.0,4060.0,4590.0,430.0,2300.0,60.0,1200.0,2170.0,40.0,9800.0,2910.0,1320.0,2240.0,7660.0,540.0,4230.0,1090.0,260.0,180.0,1180.0,290.0,4880.0,540.0,9710.0,1200.0,270.0,1060.0,18010.0,6260.0,10570.0,450.0,30360.0,7170.0,720.0,6620.0,420.0,7340.0,2840.0,5540.0,350.0,2050.0,3700.0,22560.0,13840.0,7660.0,410.0,250.0,1130.0,4840.0,17500.0,2200.0,1650.0,330.0,22440.0,19960.0,1090.0,3510.0,3320.0,7910.0,2370.0,22390.0,2710.0,11810.0,1870.0,480.0,560.0,10690.0,2380.0,330.0,2410.0,240.0,16690.0,14620.0,1890.0,8780.0,8980.0,15140.0,2030.0,17930.0,2440.0,150.0,5210.0,390.0,6190.0,1390.0,1930.0,2190.0,3300.0,46590.0,7890.0,1630.0,20930.0,4510.0,5740.0,680.0,3450.0,3580.0,2100.0,2290.0,3570.0,58260.0,16760.0,1410.0,760.0,3370.0,1350.0,2000.0,2460.0,900.0,920.0,1040.0,270.0,1200.0,5190.0,2200.0,1730.0,25360.0,1700.0,1090.0,1540.0,1090.0,2930.0,16570.0,280.0,8050.0,8540.0,2090.0,2610.0,31830.0,4360.0,1780.0,16240.0,16420.0,3050.0,2020.0,2950.0,11840.0,8530.0,17110.0,2970.0,5340.0,1480.0,1160.0,3720.0,100.0,140.0,12540.0,980.0,1070.0,2640.0,110.0,350.0,13090.0,4130.0,3770.0,1250.0,1710.0,480.0,5800.0,12610.0,1390.0,9670.0,3560.0,1860.0,290.0,19360.0,850.0,5760.0,1470.0,1100.0,2770.0,520.0,16970.0,220.0,3850.0,4210.0,290.0,6360.0,1650.0,20260.0,5140.0,490.0,5630.0,110.0,380.0,6870.0,300.0,11680.0,970.0,350.0,15050.0,4030.0,8650.0,150.0,190.0,3150.0,640.0,1640.0,1000.0,13530.0,2170.0,2920.0,7930.0,10180.0,450.0,2370.0,10800.0,17410.0,6680.0,3840.0,13570.0,1890.0,4370.0,5710.0,1000.0,1420.0,320.0,610.0,1110.0,780.0,6880.0,310.0,710.0,1310.0,4660.0,70.0,340.0,18010.0,3520.0,340.0,22330.0,250.0,330.0,4630.0,80.0,420.0,27190.0,210.0,540.0,15340.0,1180.0,1140.0,180.0,4580.0,360.0,2460.0,4520.0,60.0,1450.0,420.0,16180.0,8480.0,3640.0,300.0,2960.0,7840.0,9260.0,2320.0,18640.0,6970.0,1220.0,2260.0,1290.0,2410.0,1460.0,2740.0,800.0,6540.0,4150.0,75860.0,1100.0,140.0,3150.0,210.0,9580.0,2300.0,19840.0,38630.0,120.0,4510.0,2190.0,15430.0,1950.0,2470.0,5100.0,18660.0,1070.0,8740.0,2290.0,680.0,11300.0,14160.0,3560.0,38710.0,9000.0,3140.0,32330.0,570.0,210.0,8140.0,17500.0,8400.0,13140.0,350.0,10070.0,1390.0,3130.0,1310.0,370.0,670.0,1840.0,3720.0,4040.0,90.0,190.0,10600.0,1590.0,2280.0,8080.0,190.0,15770.0,18650.0,300.0,120.0,8090.0,9360.0,16490.0,1490.0,8880.0,5290.0,6360.0,900.0,1500.0,9720.0,8970.0,2060.0,2890.0,4370.0,2040.0,4490.0,340.0,250.0,13620.0,2410.0,6470.0,2640.0,1450.0,5870.0,8250.0,1970.0,4880.0,11120.0,1150.0,15710.0,160.0,100.0,2140.0,6630.0,2240.0,1800.0,26130.0,350.0,130.0,4580.0,1460.0,210.0,2260.0,6690.0,1600.0,460.0,2120.0,4820.0,10850.0,3620.0,23130.0,130.0,1540.0,5360.0,70.0,9200.0,5830.0,4970.0,1420.0,1080.0,8240.0,5890.0,1560.0,840.0,40.0,8460.0,4460.0,760.0,6210.0,6910.0,4650.0,840.0,1060.0,1620.0,250.0,3530.0,2880.0,1270.0,1250.0,1460.0,250.0,70.0,2960.0,16350.0,12870.0,4520.0,810.0,30030.0,13020.0,910.0,2300.0,430.0,1110.0,1350.0,3900.0,2530.0,500.0,11400.0,1700.0,240.0,340.0,1510.0,3970.0,120.0,5780.0,2460.0,1850.0,75860.0,26450.0,7660.0,140.0,13140.0,3390.0,250.0,34050.0,1790.0,44320.0,4160.0,520.0,10890.0,3110.0,20390.0,5260.0,710.0,50.0,5300.0,5030.0,50.0,14810.0,140.0,8300.0,770.0,1940.0,320.0,300.0,7470.0,2550.0,2310.0,14300.0,3270.0,2320.0,2180.0,2890.0,14960.0,660.0,4680.0,1740.0,1150.0,1260.0,5470.0,2780.0,1610.0,990.0,450.0,10690.0,1620.0,220.0,13080.0,820.0,350.0,1850.0,9070.0,1280.0,4740.0,8260.0,2060.0,590.0,400.0,1200.0,11260.0,20.0,22490.0,3330.0,2510.0,6900.0,18610.0,7160.0,50.0,40860.0,1870.0,120.0,5830.0,20620.0,12920.0,18160.0,4030.0,1070.0,5950.0,1200.0,3570.0,4700.0,600.0,990.0,770.0,810.0,650.0,7280.0,1080.0,250.0,5020.0,580.0,8990.0,3760.0,2330.0,50.0,2190.0,4260.0,3040.0,1200.0,1560.0,1140.0,250.0,3000.0,3910.0,1910.0,14300.0,1210.0,700.0,6540.0,160.0,3620.0,1010.0,4270.0,1340.0,180.0,2110.0,9230.0,1190.0,4400.0,960.0,50.0,2270.0,12700.0,20970.0,170.0,7250.0,120.0,2640.0,1360.0,440.0,250.0,330.0,15720.0,360.0,4520.0,3340.0,2540.0,33060.0,1790.0,1130.0,290.0,150.0,550.0,580.0,17340.0,8220.0,2710.0,340.0,10950.0,10310.0,2260.0,350.0,18370.0,2070.0,660.0,8080.0,2490.0,250.0,1160.0,730.0,3040.0,8940.0,9910.0,1600.0,5440.0,30.0,75860.0,4080.0,6920.0,1170.0,10740.0,3970.0,2180.0,510.0,1690.0,2870.0,3350.0,11640.0,18610.0,27530.0,720.0,9790.0,10170.0,7780.0,8040.0,610.0,530.0,230.0,4030.0,90.0,620.0,7420.0,2130.0,14570.0,1420.0,200.0,20390.0,7520.0,6930.0,960.0,410.0,80.0,520.0,1590.0,1200.0,2140.0,1070.0,7860.0,1680.0,90.0,2700.0,2870.0,1270.0,17080.0,2060.0,2070.0,240.0,15170.0,2640.0,2100.0,1410.0,1740.0,3250.0,4140.0,170.0,620.0,150.0,2850.0,680.0,650.0,20050.0,2770.0,18760.0,15040.0,100.0,3030.0,40.0,450.0,460.0,550.0,430.0,3780.0,1790.0,180.0,830.0,1450.0,8550.0,80.0,1910.0,4140.0,7830.0,2900.0,11470.0,500.0,1500.0,17110.0,4870.0,220.0,12070.0,14810.0,3200.0,310.0,1100.0,8190.0,15320.0,3590.0,50.0,5650.0,5900.0,17540.0,40540.0,2050.0,13990.0,8980.0,1190.0,15270.0,35280.0,860.0,220.0,1920.0,1650.0,100.0,5980.0,2770.0,6400.0,11900.0,4380.0,6710.0,1370.0,17650.0,4330.0,45740.0,2380.0,3410.0,8670.0,650.0,970.0,540.0,380.0,13130.0,50.0,3450.0,19780.0,110.0,560.0,2390.0,1280.0,32240.0,26490.0,25430.0,9820.0,13080.0,2630.0,840.0,100.0,20640.0,1850.0,200.0,640.0,6970.0,700.0,8250.0,340.0,16990.0,18160.0,630.0,5390.0,15490.0,560.0,970.0,290.0,3210.0,1530.0,9770.0,9070.0,5950.0,17280.0,2710.0,5090.0,510.0,7180.0,2090.0,9560.0,2700.0,2020.0,48330.0,910.0,1760.0,2100.0,24770.0,260.0,3870.0,18620.0,12770.0,9640.0,410.0,2590.0,1560.0,24530.0,590.0,460.0,140.0,490.0,720.0,1650.0,1700.0,410.0,16210.0,17570.0,380.0,7980.0,250.0,3290.0,110.0,6320.0,800.0,5070.0,3290.0,3470.0,2890.0,2720.0,14600.0,6890.0,240.0,1070.0,27650.0,1200.0,60.0,2030.0,7860.0,8860.0,190.0,370.0,5000.0,1120.0,2330.0,940.0,14040.0,4770.0,3440.0,3020.0,6270.0,3370.0,21770.0,5980.0,740.0,2840.0,21370.0,1020.0,2640.0,9680.0,21810.0,1360.0,230.0,780.0,10620.0,3860.0,2040.0,3210.0,5070.0,21790.0,29190.0,1100.0,75860.0,4570.0,180.0,30.0,3200.0,7550.0,480.0,12430.0,19700.0,4450.0,18670.0,4450.0,350.0,19370.0,130.0,190.0,4150.0,170.0,3290.0,18540.0,2590.0,3920.0,3170.0,310.0,7290.0,570.0,90.0,90.0,250.0,1980.0,1680.0,12480.0,16490.0,3100.0,280.0,2640.0,650.0,90.0,7240.0,18710.0,2620.0,850.0,840.0,2110.0,280.0,6420.0,470.0,5150.0,480.0,1090.0,4820.0,70.0,1480.0,15700.0,6270.0,5460.0,22350.0,580.0,2810.0,2820.0,1340.0,6470.0,1200.0,6860.0,18020.0,1670.0,12480.0,2220.0,460.0,1430.0,870.0,8460.0,710.0,6300.0,19830.0,390.0,1690.0,2330.0,1420.0,440.0,1060.0,8990.0,9430.0,260.0,23620.0,270.0,110.0,760.0,3560.0,1190.0,600.0,910.0,1140.0,14960.0,330.0,150.0,9630.0,4180.0,520.0,3890.0,2270.0,4420.0,2620.0,21930.0,40.0,440.0,490.0,620.0,1690.0,30.0,1640.0,20930.0,1010.0,2480.0,3460.0,2290.0,6560.0,2870.0,5840.0,780.0,15140.0,2230.0,19640.0,1130.0,170.0,970.0,6480.0,3890.0,4180.0,30.0,230.0,4610.0,490.0,6330.0,630.0,210.0,9910.0,550.0,110.0,140.0,2740.0,40.0,1080.0,1520.0,3740.0,1990.0,720.0,450.0,190.0,150.0,1590.0,36410.0,590.0,270.0,7680.0,13750.0,27150.0,9560.0,150.0,17290.0,70.0,4030.0,1600.0,3440.0,420.0,240.0,26990.0,29070.0,3750.0,1860.0,370.0,13170.0,200.0,5080.0,1710.0,13190.0,1980.0,5350.0,3230.0,180.0,3380.0,3430.0,8110.0,190.0,6250.0,420.0,1290.0,3350.0,12020.0,5010.0,18050.0,400.0,820.0,5380.0,1710.0,3330.0,1410.0,90.0,3750.0,670.0,16680.0,2410.0,400.0,440.0,11540.0,190.0,4030.0,180.0,2210.0,4300.0,5220.0,330.0,9990.0,300.0,10450.0,2380.0,690.0,1130.0,720.0,1830.0,200.0,540.0,4060.0,850.0,1340.0,260.0,330.0,5330.0,1400.0,540.0,3490.0,900.0,1900.0,1880.0,9260.0,870.0,5350.0],\"xaxis\":\"x\",\"yaxis\":\"y\",\"type\":\"histogram\"},{\"alignmentgroup\":\"True\",\"hovertemplate\":\"CompetitionDistance=%{x}<extra></extra>\",\"legendgroup\":\"\",\"marker\":{\"color\":\"cornflowerblue\"},\"name\":\"\",\"notched\":true,\"offsetgroup\":\"\",\"showlegend\":false,\"x\":[1270.0,570.0,14130.0,620.0,29910.0,310.0,24000.0,7520.0,2030.0,3160.0,960.0,1070.0,310.0,1300.0,4110.0,3270.0,50.0,13840.0,3240.0,2340.0,550.0,1040.0,4060.0,4590.0,430.0,2300.0,60.0,1200.0,2170.0,40.0,9800.0,2910.0,1320.0,2240.0,7660.0,540.0,4230.0,1090.0,260.0,180.0,1180.0,290.0,4880.0,540.0,9710.0,1200.0,270.0,1060.0,18010.0,6260.0,10570.0,450.0,30360.0,7170.0,720.0,6620.0,420.0,7340.0,2840.0,5540.0,350.0,2050.0,3700.0,22560.0,13840.0,7660.0,410.0,250.0,1130.0,4840.0,17500.0,2200.0,1650.0,330.0,22440.0,19960.0,1090.0,3510.0,3320.0,7910.0,2370.0,22390.0,2710.0,11810.0,1870.0,480.0,560.0,10690.0,2380.0,330.0,2410.0,240.0,16690.0,14620.0,1890.0,8780.0,8980.0,15140.0,2030.0,17930.0,2440.0,150.0,5210.0,390.0,6190.0,1390.0,1930.0,2190.0,3300.0,46590.0,7890.0,1630.0,20930.0,4510.0,5740.0,680.0,3450.0,3580.0,2100.0,2290.0,3570.0,58260.0,16760.0,1410.0,760.0,3370.0,1350.0,2000.0,2460.0,900.0,920.0,1040.0,270.0,1200.0,5190.0,2200.0,1730.0,25360.0,1700.0,1090.0,1540.0,1090.0,2930.0,16570.0,280.0,8050.0,8540.0,2090.0,2610.0,31830.0,4360.0,1780.0,16240.0,16420.0,3050.0,2020.0,2950.0,11840.0,8530.0,17110.0,2970.0,5340.0,1480.0,1160.0,3720.0,100.0,140.0,12540.0,980.0,1070.0,2640.0,110.0,350.0,13090.0,4130.0,3770.0,1250.0,1710.0,480.0,5800.0,12610.0,1390.0,9670.0,3560.0,1860.0,290.0,19360.0,850.0,5760.0,1470.0,1100.0,2770.0,520.0,16970.0,220.0,3850.0,4210.0,290.0,6360.0,1650.0,20260.0,5140.0,490.0,5630.0,110.0,380.0,6870.0,300.0,11680.0,970.0,350.0,15050.0,4030.0,8650.0,150.0,190.0,3150.0,640.0,1640.0,1000.0,13530.0,2170.0,2920.0,7930.0,10180.0,450.0,2370.0,10800.0,17410.0,6680.0,3840.0,13570.0,1890.0,4370.0,5710.0,1000.0,1420.0,320.0,610.0,1110.0,780.0,6880.0,310.0,710.0,1310.0,4660.0,70.0,340.0,18010.0,3520.0,340.0,22330.0,250.0,330.0,4630.0,80.0,420.0,27190.0,210.0,540.0,15340.0,1180.0,1140.0,180.0,4580.0,360.0,2460.0,4520.0,60.0,1450.0,420.0,16180.0,8480.0,3640.0,300.0,2960.0,7840.0,9260.0,2320.0,18640.0,6970.0,1220.0,2260.0,1290.0,2410.0,1460.0,2740.0,800.0,6540.0,4150.0,75860.0,1100.0,140.0,3150.0,210.0,9580.0,2300.0,19840.0,38630.0,120.0,4510.0,2190.0,15430.0,1950.0,2470.0,5100.0,18660.0,1070.0,8740.0,2290.0,680.0,11300.0,14160.0,3560.0,38710.0,9000.0,3140.0,32330.0,570.0,210.0,8140.0,17500.0,8400.0,13140.0,350.0,10070.0,1390.0,3130.0,1310.0,370.0,670.0,1840.0,3720.0,4040.0,90.0,190.0,10600.0,1590.0,2280.0,8080.0,190.0,15770.0,18650.0,300.0,120.0,8090.0,9360.0,16490.0,1490.0,8880.0,5290.0,6360.0,900.0,1500.0,9720.0,8970.0,2060.0,2890.0,4370.0,2040.0,4490.0,340.0,250.0,13620.0,2410.0,6470.0,2640.0,1450.0,5870.0,8250.0,1970.0,4880.0,11120.0,1150.0,15710.0,160.0,100.0,2140.0,6630.0,2240.0,1800.0,26130.0,350.0,130.0,4580.0,1460.0,210.0,2260.0,6690.0,1600.0,460.0,2120.0,4820.0,10850.0,3620.0,23130.0,130.0,1540.0,5360.0,70.0,9200.0,5830.0,4970.0,1420.0,1080.0,8240.0,5890.0,1560.0,840.0,40.0,8460.0,4460.0,760.0,6210.0,6910.0,4650.0,840.0,1060.0,1620.0,250.0,3530.0,2880.0,1270.0,1250.0,1460.0,250.0,70.0,2960.0,16350.0,12870.0,4520.0,810.0,30030.0,13020.0,910.0,2300.0,430.0,1110.0,1350.0,3900.0,2530.0,500.0,11400.0,1700.0,240.0,340.0,1510.0,3970.0,120.0,5780.0,2460.0,1850.0,75860.0,26450.0,7660.0,140.0,13140.0,3390.0,250.0,34050.0,1790.0,44320.0,4160.0,520.0,10890.0,3110.0,20390.0,5260.0,710.0,50.0,5300.0,5030.0,50.0,14810.0,140.0,8300.0,770.0,1940.0,320.0,300.0,7470.0,2550.0,2310.0,14300.0,3270.0,2320.0,2180.0,2890.0,14960.0,660.0,4680.0,1740.0,1150.0,1260.0,5470.0,2780.0,1610.0,990.0,450.0,10690.0,1620.0,220.0,13080.0,820.0,350.0,1850.0,9070.0,1280.0,4740.0,8260.0,2060.0,590.0,400.0,1200.0,11260.0,20.0,22490.0,3330.0,2510.0,6900.0,18610.0,7160.0,50.0,40860.0,1870.0,120.0,5830.0,20620.0,12920.0,18160.0,4030.0,1070.0,5950.0,1200.0,3570.0,4700.0,600.0,990.0,770.0,810.0,650.0,7280.0,1080.0,250.0,5020.0,580.0,8990.0,3760.0,2330.0,50.0,2190.0,4260.0,3040.0,1200.0,1560.0,1140.0,250.0,3000.0,3910.0,1910.0,14300.0,1210.0,700.0,6540.0,160.0,3620.0,1010.0,4270.0,1340.0,180.0,2110.0,9230.0,1190.0,4400.0,960.0,50.0,2270.0,12700.0,20970.0,170.0,7250.0,120.0,2640.0,1360.0,440.0,250.0,330.0,15720.0,360.0,4520.0,3340.0,2540.0,33060.0,1790.0,1130.0,290.0,150.0,550.0,580.0,17340.0,8220.0,2710.0,340.0,10950.0,10310.0,2260.0,350.0,18370.0,2070.0,660.0,8080.0,2490.0,250.0,1160.0,730.0,3040.0,8940.0,9910.0,1600.0,5440.0,30.0,75860.0,4080.0,6920.0,1170.0,10740.0,3970.0,2180.0,510.0,1690.0,2870.0,3350.0,11640.0,18610.0,27530.0,720.0,9790.0,10170.0,7780.0,8040.0,610.0,530.0,230.0,4030.0,90.0,620.0,7420.0,2130.0,14570.0,1420.0,200.0,20390.0,7520.0,6930.0,960.0,410.0,80.0,520.0,1590.0,1200.0,2140.0,1070.0,7860.0,1680.0,90.0,2700.0,2870.0,1270.0,17080.0,2060.0,2070.0,240.0,15170.0,2640.0,2100.0,1410.0,1740.0,3250.0,4140.0,170.0,620.0,150.0,2850.0,680.0,650.0,20050.0,2770.0,18760.0,15040.0,100.0,3030.0,40.0,450.0,460.0,550.0,430.0,3780.0,1790.0,180.0,830.0,1450.0,8550.0,80.0,1910.0,4140.0,7830.0,2900.0,11470.0,500.0,1500.0,17110.0,4870.0,220.0,12070.0,14810.0,3200.0,310.0,1100.0,8190.0,15320.0,3590.0,50.0,5650.0,5900.0,17540.0,40540.0,2050.0,13990.0,8980.0,1190.0,15270.0,35280.0,860.0,220.0,1920.0,1650.0,100.0,5980.0,2770.0,6400.0,11900.0,4380.0,6710.0,1370.0,17650.0,4330.0,45740.0,2380.0,3410.0,8670.0,650.0,970.0,540.0,380.0,13130.0,50.0,3450.0,19780.0,110.0,560.0,2390.0,1280.0,32240.0,26490.0,25430.0,9820.0,13080.0,2630.0,840.0,100.0,20640.0,1850.0,200.0,640.0,6970.0,700.0,8250.0,340.0,16990.0,18160.0,630.0,5390.0,15490.0,560.0,970.0,290.0,3210.0,1530.0,9770.0,9070.0,5950.0,17280.0,2710.0,5090.0,510.0,7180.0,2090.0,9560.0,2700.0,2020.0,48330.0,910.0,1760.0,2100.0,24770.0,260.0,3870.0,18620.0,12770.0,9640.0,410.0,2590.0,1560.0,24530.0,590.0,460.0,140.0,490.0,720.0,1650.0,1700.0,410.0,16210.0,17570.0,380.0,7980.0,250.0,3290.0,110.0,6320.0,800.0,5070.0,3290.0,3470.0,2890.0,2720.0,14600.0,6890.0,240.0,1070.0,27650.0,1200.0,60.0,2030.0,7860.0,8860.0,190.0,370.0,5000.0,1120.0,2330.0,940.0,14040.0,4770.0,3440.0,3020.0,6270.0,3370.0,21770.0,5980.0,740.0,2840.0,21370.0,1020.0,2640.0,9680.0,21810.0,1360.0,230.0,780.0,10620.0,3860.0,2040.0,3210.0,5070.0,21790.0,29190.0,1100.0,75860.0,4570.0,180.0,30.0,3200.0,7550.0,480.0,12430.0,19700.0,4450.0,18670.0,4450.0,350.0,19370.0,130.0,190.0,4150.0,170.0,3290.0,18540.0,2590.0,3920.0,3170.0,310.0,7290.0,570.0,90.0,90.0,250.0,1980.0,1680.0,12480.0,16490.0,3100.0,280.0,2640.0,650.0,90.0,7240.0,18710.0,2620.0,850.0,840.0,2110.0,280.0,6420.0,470.0,5150.0,480.0,1090.0,4820.0,70.0,1480.0,15700.0,6270.0,5460.0,22350.0,580.0,2810.0,2820.0,1340.0,6470.0,1200.0,6860.0,18020.0,1670.0,12480.0,2220.0,460.0,1430.0,870.0,8460.0,710.0,6300.0,19830.0,390.0,1690.0,2330.0,1420.0,440.0,1060.0,8990.0,9430.0,260.0,23620.0,270.0,110.0,760.0,3560.0,1190.0,600.0,910.0,1140.0,14960.0,330.0,150.0,9630.0,4180.0,520.0,3890.0,2270.0,4420.0,2620.0,21930.0,40.0,440.0,490.0,620.0,1690.0,30.0,1640.0,20930.0,1010.0,2480.0,3460.0,2290.0,6560.0,2870.0,5840.0,780.0,15140.0,2230.0,19640.0,1130.0,170.0,970.0,6480.0,3890.0,4180.0,30.0,230.0,4610.0,490.0,6330.0,630.0,210.0,9910.0,550.0,110.0,140.0,2740.0,40.0,1080.0,1520.0,3740.0,1990.0,720.0,450.0,190.0,150.0,1590.0,36410.0,590.0,270.0,7680.0,13750.0,27150.0,9560.0,150.0,17290.0,70.0,4030.0,1600.0,3440.0,420.0,240.0,26990.0,29070.0,3750.0,1860.0,370.0,13170.0,200.0,5080.0,1710.0,13190.0,1980.0,5350.0,3230.0,180.0,3380.0,3430.0,8110.0,190.0,6250.0,420.0,1290.0,3350.0,12020.0,5010.0,18050.0,400.0,820.0,5380.0,1710.0,3330.0,1410.0,90.0,3750.0,670.0,16680.0,2410.0,400.0,440.0,11540.0,190.0,4030.0,180.0,2210.0,4300.0,5220.0,330.0,9990.0,300.0,10450.0,2380.0,690.0,1130.0,720.0,1830.0,200.0,540.0,4060.0,850.0,1340.0,260.0,330.0,5330.0,1400.0,540.0,3490.0,900.0,1900.0,1880.0,9260.0,870.0,5350.0],\"xaxis\":\"x2\",\"yaxis\":\"y2\",\"type\":\"box\"}],                        {\"template\":{\"data\":{\"histogram2dcontour\":[{\"type\":\"histogram2dcontour\",\"colorbar\":{\"outlinewidth\":0,\"ticks\":\"\"},\"colorscale\":[[0.0,\"#0d0887\"],[0.1111111111111111,\"#46039f\"],[0.2222222222222222,\"#7201a8\"],[0.3333333333333333,\"#9c179e\"],[0.4444444444444444,\"#bd3786\"],[0.5555555555555556,\"#d8576b\"],[0.6666666666666666,\"#ed7953\"],[0.7777777777777778,\"#fb9f3a\"],[0.8888888888888888,\"#fdca26\"],[1.0,\"#f0f921\"]]}],\"choropleth\":[{\"type\":\"choropleth\",\"colorbar\":{\"outlinewidth\":0,\"ticks\":\"\"}}],\"histogram2d\":[{\"type\":\"histogram2d\",\"colorbar\":{\"outlinewidth\":0,\"ticks\":\"\"},\"colorscale\":[[0.0,\"#0d0887\"],[0.1111111111111111,\"#46039f\"],[0.2222222222222222,\"#7201a8\"],[0.3333333333333333,\"#9c179e\"],[0.4444444444444444,\"#bd3786\"],[0.5555555555555556,\"#d8576b\"],[0.6666666666666666,\"#ed7953\"],[0.7777777777777778,\"#fb9f3a\"],[0.8888888888888888,\"#fdca26\"],[1.0,\"#f0f921\"]]}],\"heatmap\":[{\"type\":\"heatmap\",\"colorbar\":{\"outlinewidth\":0,\"ticks\":\"\"},\"colorscale\":[[0.0,\"#0d0887\"],[0.1111111111111111,\"#46039f\"],[0.2222222222222222,\"#7201a8\"],[0.3333333333333333,\"#9c179e\"],[0.4444444444444444,\"#bd3786\"],[0.5555555555555556,\"#d8576b\"],[0.6666666666666666,\"#ed7953\"],[0.7777777777777778,\"#fb9f3a\"],[0.8888888888888888,\"#fdca26\"],[1.0,\"#f0f921\"]]}],\"heatmapgl\":[{\"type\":\"heatmapgl\",\"colorbar\":{\"outlinewidth\":0,\"ticks\":\"\"},\"colorscale\":[[0.0,\"#0d0887\"],[0.1111111111111111,\"#46039f\"],[0.2222222222222222,\"#7201a8\"],[0.3333333333333333,\"#9c179e\"],[0.4444444444444444,\"#bd3786\"],[0.5555555555555556,\"#d8576b\"],[0.6666666666666666,\"#ed7953\"],[0.7777777777777778,\"#fb9f3a\"],[0.8888888888888888,\"#fdca26\"],[1.0,\"#f0f921\"]]}],\"contourcarpet\":[{\"type\":\"contourcarpet\",\"colorbar\":{\"outlinewidth\":0,\"ticks\":\"\"}}],\"contour\":[{\"type\":\"contour\",\"colorbar\":{\"outlinewidth\":0,\"ticks\":\"\"},\"colorscale\":[[0.0,\"#0d0887\"],[0.1111111111111111,\"#46039f\"],[0.2222222222222222,\"#7201a8\"],[0.3333333333333333,\"#9c179e\"],[0.4444444444444444,\"#bd3786\"],[0.5555555555555556,\"#d8576b\"],[0.6666666666666666,\"#ed7953\"],[0.7777777777777778,\"#fb9f3a\"],[0.8888888888888888,\"#fdca26\"],[1.0,\"#f0f921\"]]}],\"surface\":[{\"type\":\"surface\",\"colorbar\":{\"outlinewidth\":0,\"ticks\":\"\"},\"colorscale\":[[0.0,\"#0d0887\"],[0.1111111111111111,\"#46039f\"],[0.2222222222222222,\"#7201a8\"],[0.3333333333333333,\"#9c179e\"],[0.4444444444444444,\"#bd3786\"],[0.5555555555555556,\"#d8576b\"],[0.6666666666666666,\"#ed7953\"],[0.7777777777777778,\"#fb9f3a\"],[0.8888888888888888,\"#fdca26\"],[1.0,\"#f0f921\"]]}],\"mesh3d\":[{\"type\":\"mesh3d\",\"colorbar\":{\"outlinewidth\":0,\"ticks\":\"\"}}],\"scatter\":[{\"fillpattern\":{\"fillmode\":\"overlay\",\"size\":10,\"solidity\":0.2},\"type\":\"scatter\"}],\"parcoords\":[{\"type\":\"parcoords\",\"line\":{\"colorbar\":{\"outlinewidth\":0,\"ticks\":\"\"}}}],\"scatterpolargl\":[{\"type\":\"scatterpolargl\",\"marker\":{\"colorbar\":{\"outlinewidth\":0,\"ticks\":\"\"}}}],\"bar\":[{\"error_x\":{\"color\":\"#2a3f5f\"},\"error_y\":{\"color\":\"#2a3f5f\"},\"marker\":{\"line\":{\"color\":\"#E5ECF6\",\"width\":0.5},\"pattern\":{\"fillmode\":\"overlay\",\"size\":10,\"solidity\":0.2}},\"type\":\"bar\"}],\"scattergeo\":[{\"type\":\"scattergeo\",\"marker\":{\"colorbar\":{\"outlinewidth\":0,\"ticks\":\"\"}}}],\"scatterpolar\":[{\"type\":\"scatterpolar\",\"marker\":{\"colorbar\":{\"outlinewidth\":0,\"ticks\":\"\"}}}],\"histogram\":[{\"marker\":{\"pattern\":{\"fillmode\":\"overlay\",\"size\":10,\"solidity\":0.2}},\"type\":\"histogram\"}],\"scattergl\":[{\"type\":\"scattergl\",\"marker\":{\"colorbar\":{\"outlinewidth\":0,\"ticks\":\"\"}}}],\"scatter3d\":[{\"type\":\"scatter3d\",\"line\":{\"colorbar\":{\"outlinewidth\":0,\"ticks\":\"\"}},\"marker\":{\"colorbar\":{\"outlinewidth\":0,\"ticks\":\"\"}}}],\"scattermapbox\":[{\"type\":\"scattermapbox\",\"marker\":{\"colorbar\":{\"outlinewidth\":0,\"ticks\":\"\"}}}],\"scatterternary\":[{\"type\":\"scatterternary\",\"marker\":{\"colorbar\":{\"outlinewidth\":0,\"ticks\":\"\"}}}],\"scattercarpet\":[{\"type\":\"scattercarpet\",\"marker\":{\"colorbar\":{\"outlinewidth\":0,\"ticks\":\"\"}}}],\"carpet\":[{\"aaxis\":{\"endlinecolor\":\"#2a3f5f\",\"gridcolor\":\"white\",\"linecolor\":\"white\",\"minorgridcolor\":\"white\",\"startlinecolor\":\"#2a3f5f\"},\"baxis\":{\"endlinecolor\":\"#2a3f5f\",\"gridcolor\":\"white\",\"linecolor\":\"white\",\"minorgridcolor\":\"white\",\"startlinecolor\":\"#2a3f5f\"},\"type\":\"carpet\"}],\"table\":[{\"cells\":{\"fill\":{\"color\":\"#EBF0F8\"},\"line\":{\"color\":\"white\"}},\"header\":{\"fill\":{\"color\":\"#C8D4E3\"},\"line\":{\"color\":\"white\"}},\"type\":\"table\"}],\"barpolar\":[{\"marker\":{\"line\":{\"color\":\"#E5ECF6\",\"width\":0.5},\"pattern\":{\"fillmode\":\"overlay\",\"size\":10,\"solidity\":0.2}},\"type\":\"barpolar\"}],\"pie\":[{\"automargin\":true,\"type\":\"pie\"}]},\"layout\":{\"autotypenumbers\":\"strict\",\"colorway\":[\"#636efa\",\"#EF553B\",\"#00cc96\",\"#ab63fa\",\"#FFA15A\",\"#19d3f3\",\"#FF6692\",\"#B6E880\",\"#FF97FF\",\"#FECB52\"],\"font\":{\"color\":\"#2a3f5f\"},\"hovermode\":\"closest\",\"hoverlabel\":{\"align\":\"left\"},\"paper_bgcolor\":\"white\",\"plot_bgcolor\":\"#E5ECF6\",\"polar\":{\"bgcolor\":\"#E5ECF6\",\"angularaxis\":{\"gridcolor\":\"white\",\"linecolor\":\"white\",\"ticks\":\"\"},\"radialaxis\":{\"gridcolor\":\"white\",\"linecolor\":\"white\",\"ticks\":\"\"}},\"ternary\":{\"bgcolor\":\"#E5ECF6\",\"aaxis\":{\"gridcolor\":\"white\",\"linecolor\":\"white\",\"ticks\":\"\"},\"baxis\":{\"gridcolor\":\"white\",\"linecolor\":\"white\",\"ticks\":\"\"},\"caxis\":{\"gridcolor\":\"white\",\"linecolor\":\"white\",\"ticks\":\"\"}},\"coloraxis\":{\"colorbar\":{\"outlinewidth\":0,\"ticks\":\"\"}},\"colorscale\":{\"sequential\":[[0.0,\"#0d0887\"],[0.1111111111111111,\"#46039f\"],[0.2222222222222222,\"#7201a8\"],[0.3333333333333333,\"#9c179e\"],[0.4444444444444444,\"#bd3786\"],[0.5555555555555556,\"#d8576b\"],[0.6666666666666666,\"#ed7953\"],[0.7777777777777778,\"#fb9f3a\"],[0.8888888888888888,\"#fdca26\"],[1.0,\"#f0f921\"]],\"sequentialminus\":[[0.0,\"#0d0887\"],[0.1111111111111111,\"#46039f\"],[0.2222222222222222,\"#7201a8\"],[0.3333333333333333,\"#9c179e\"],[0.4444444444444444,\"#bd3786\"],[0.5555555555555556,\"#d8576b\"],[0.6666666666666666,\"#ed7953\"],[0.7777777777777778,\"#fb9f3a\"],[0.8888888888888888,\"#fdca26\"],[1.0,\"#f0f921\"]],\"diverging\":[[0,\"#8e0152\"],[0.1,\"#c51b7d\"],[0.2,\"#de77ae\"],[0.3,\"#f1b6da\"],[0.4,\"#fde0ef\"],[0.5,\"#f7f7f7\"],[0.6,\"#e6f5d0\"],[0.7,\"#b8e186\"],[0.8,\"#7fbc41\"],[0.9,\"#4d9221\"],[1,\"#276419\"]]},\"xaxis\":{\"gridcolor\":\"white\",\"linecolor\":\"white\",\"ticks\":\"\",\"title\":{\"standoff\":15},\"zerolinecolor\":\"white\",\"automargin\":true,\"zerolinewidth\":2},\"yaxis\":{\"gridcolor\":\"white\",\"linecolor\":\"white\",\"ticks\":\"\",\"title\":{\"standoff\":15},\"zerolinecolor\":\"white\",\"automargin\":true,\"zerolinewidth\":2},\"scene\":{\"xaxis\":{\"backgroundcolor\":\"#E5ECF6\",\"gridcolor\":\"white\",\"linecolor\":\"white\",\"showbackground\":true,\"ticks\":\"\",\"zerolinecolor\":\"white\",\"gridwidth\":2},\"yaxis\":{\"backgroundcolor\":\"#E5ECF6\",\"gridcolor\":\"white\",\"linecolor\":\"white\",\"showbackground\":true,\"ticks\":\"\",\"zerolinecolor\":\"white\",\"gridwidth\":2},\"zaxis\":{\"backgroundcolor\":\"#E5ECF6\",\"gridcolor\":\"white\",\"linecolor\":\"white\",\"showbackground\":true,\"ticks\":\"\",\"zerolinecolor\":\"white\",\"gridwidth\":2}},\"shapedefaults\":{\"line\":{\"color\":\"#2a3f5f\"}},\"annotationdefaults\":{\"arrowcolor\":\"#2a3f5f\",\"arrowhead\":0,\"arrowwidth\":1},\"geo\":{\"bgcolor\":\"white\",\"landcolor\":\"#E5ECF6\",\"subunitcolor\":\"white\",\"showland\":true,\"showlakes\":true,\"lakecolor\":\"white\"},\"title\":{\"x\":0.05},\"mapbox\":{\"style\":\"light\"}}},\"xaxis\":{\"anchor\":\"y\",\"domain\":[0.0,1.0],\"title\":{\"text\":\"CompetitionDistance\"}},\"yaxis\":{\"anchor\":\"x\",\"domain\":[0.0,0.8316],\"title\":{\"text\":\"count\"}},\"xaxis2\":{\"anchor\":\"y2\",\"domain\":[0.0,1.0],\"matches\":\"x\",\"showticklabels\":false,\"showgrid\":true},\"yaxis2\":{\"anchor\":\"x2\",\"domain\":[0.8416,1.0],\"matches\":\"y2\",\"showticklabels\":false,\"showline\":false,\"ticks\":\"\",\"showgrid\":false},\"legend\":{\"tracegroupgap\":0},\"title\":{\"text\":\"Distribution of CompetitionDistance\"},\"barmode\":\"relative\",\"bargap\":0.01},                        {\"responsive\": true}                    ).then(function(){\n",
       "                            \n",
       "var gd = document.getElementById('29157c55-3e51-4f28-8d9d-a65383241f4b');\n",
       "var x = new MutationObserver(function (mutations, observer) {{\n",
       "        var display = window.getComputedStyle(gd).display;\n",
       "        if (!display || display === 'none') {{\n",
       "            console.log([gd, 'removed!']);\n",
       "            Plotly.purge(gd);\n",
       "            observer.disconnect();\n",
       "        }}\n",
       "}});\n",
       "\n",
       "// Listen for the removal of the full notebook cells\n",
       "var notebookContainer = gd.closest('#notebook-container');\n",
       "if (notebookContainer) {{\n",
       "    x.observe(notebookContainer, {childList: true});\n",
       "}}\n",
       "\n",
       "// Listen for the clearing of the current output cell\n",
       "var outputEl = gd.closest('.output');\n",
       "if (outputEl) {{\n",
       "    x.observe(outputEl, {childList: true});\n",
       "}}\n",
       "\n",
       "                        })                };                });            </script>        </div>"
      ]
     },
     "metadata": {},
     "output_type": "display_data"
    }
   ],
   "source": [
    "plotly_plot_hist(store_df, 'CompetitionDistance')"
   ]
  },
  {
   "cell_type": "code",
   "execution_count": 155,
   "id": "59c9388c",
   "metadata": {},
   "outputs": [
    {
     "data": {
      "text/plain": [
       "1    571\n",
       "0    544\n",
       "Name: Promo2, dtype: int64"
      ]
     },
     "execution_count": 155,
     "metadata": {},
     "output_type": "execute_result"
    }
   ],
   "source": [
    "# unique value counts\n",
    "counts_df = store_df['Promo2'].value_counts()\n",
    "counts_df"
   ]
  },
  {
   "cell_type": "markdown",
   "id": "eb782b7f",
   "metadata": {},
   "source": [
    "### Day Of Week"
   ]
  },
  {
   "cell_type": "code",
   "execution_count": 183,
   "id": "325fb35a",
   "metadata": {},
   "outputs": [
    {
     "data": {
      "image/png": "[encoded data removed]",
      "text/plain": [
       "<Figure size 864x504 with 1 Axes>"
      ]
     },
     "metadata": {
      "needs_background": "light"
     },
     "output_type": "display_data"
    }
   ],
   "source": [
    "plot_count(train_df, 'DayOfWeek')"
   ]
  },
  {
   "cell_type": "markdown",
   "id": "2589f460",
   "metadata": {},
   "source": [
    "### Sales"
   ]
  },
  {
   "cell_type": "code",
   "execution_count": 158,
   "id": "5c63588f",
   "metadata": {},
   "outputs": [
    {
     "data": {
      "image/png": "[encoded data removed]",
      "text/plain": [
       "<Figure size 864x432 with 1 Axes>"
      ]
     },
     "metadata": {
      "needs_background": "light"
     },
     "output_type": "display_data"
    }
   ],
   "source": [
    "plot_hist(train_df, 'Sales')"
   ]
  },
  {
   "cell_type": "markdown",
   "id": "294fdadf",
   "metadata": {},
   "source": [
    "### Customers"
   ]
  },
  {
   "cell_type": "code",
   "execution_count": 160,
   "id": "8953adc0",
   "metadata": {},
   "outputs": [
    {
     "data": {
      "image/png": "[encoded data removed]",
      "text/plain": [
       "<Figure size 864x432 with 1 Axes>"
      ]
     },
     "metadata": {
      "needs_background": "light"
     },
     "output_type": "display_data"
    }
   ],
   "source": [
    "plot_hist(train_df, 'Customers')"
   ]
  },
  {
   "cell_type": "markdown",
   "id": "2c3299be",
   "metadata": {},
   "source": [
    "### Open"
   ]
  },
  {
   "cell_type": "code",
   "execution_count": 161,
   "id": "a3d44ba2",
   "metadata": {},
   "outputs": [
    {
     "data": {
      "image/png": "[encoded data removed]",
      "text/plain": [
       "<Figure size 864x504 with 1 Axes>"
      ]
     },
     "metadata": {
      "needs_background": "light"
     },
     "output_type": "display_data"
    }
   ],
   "source": [
    "plot_count(train_df, 'Open')"
   ]
  },
  {
   "cell_type": "markdown",
   "id": "c557a968",
   "metadata": {},
   "source": [
    "### Promo"
   ]
  },
  {
   "cell_type": "code",
   "execution_count": 162,
   "id": "96de59dd",
   "metadata": {},
   "outputs": [
    {
     "data": {
      "image/png": "[encoded data removed]",
      "text/plain": [
       "<Figure size 864x504 with 1 Axes>"
      ]
     },
     "metadata": {
      "needs_background": "light"
     },
     "output_type": "display_data"
    }
   ],
   "source": [
    "plot_count(train_df, 'Promo')"
   ]
  },
  {
   "cell_type": "code",
   "execution_count": 163,
   "id": "f67ba171",
   "metadata": {},
   "outputs": [
    {
     "data": {
      "text/plain": [
       "0    986159\n",
       "a     20260\n",
       "b      6690\n",
       "c      4100\n",
       "Name: StateHoliday, dtype: Int64"
      ]
     },
     "execution_count": 163,
     "metadata": {},
     "output_type": "execute_result"
    }
   ],
   "source": [
    "# unique value counts\n",
    "counts_df = train_df['StateHoliday'].value_counts()\n",
    "counts_df"
   ]
  },
  {
   "cell_type": "code",
   "execution_count": 164,
   "id": "9aa7b671",
   "metadata": {},
   "outputs": [
    {
     "data": {
      "text/plain": [
       "0    835488\n",
       "1    181721\n",
       "Name: SchoolHoliday, dtype: int64"
      ]
     },
     "execution_count": 164,
     "metadata": {},
     "output_type": "execute_result"
    }
   ],
   "source": [
    "# unique value counts\n",
    "counts_df = train_df['SchoolHoliday'].value_counts()\n",
    "counts_df\n"
   ]
  },
  {
   "cell_type": "markdown",
   "id": "1d0594e2",
   "metadata": {},
   "source": [
    "# Bivariate Analysis"
   ]
  },
  {
   "cell_type": "markdown",
   "id": "27b9ad1b",
   "metadata": {},
   "source": [
    "#### State holidays and Sales"
   ]
  },
  {
   "cell_type": "code",
   "execution_count": 170,
   "id": "6c757785",
   "metadata": {},
   "outputs": [
    {
     "data": {
      "image/png": "[encoded data removed]",
      "text/plain": [
       "<Figure size 864x288 with 2 Axes>"
      ]
     },
     "metadata": {
      "needs_background": "light"
     },
     "output_type": "display_data"
    }
   ],
   "source": [
    "fig, (axis1,axis2) = plt.subplots(1,2,figsize=(12,4))\n",
    "\n",
    "# holidays and no_holidays\n",
    "sns.barplot(x='StateHoliday', y='Sales', data=train_df, ax=axis1).set_title('Comparison of sales during StateHolidays and ordinary days')\n",
    "\n",
    "# holidays only\n",
    "mask = (train_df[\"StateHoliday\"] != \"0\") & (train_df[\"Sales\"] > 0)\n",
    "sns.barplot(x='StateHoliday', y='Sales', data=train_df[mask], ax=axis2).set_title('Sales during Stateholidays')\n",
    "plt.show()"
   ]
  },
  {
   "cell_type": "markdown",
   "id": "98eab2f3",
   "metadata": {},
   "source": [
    "#### School Holidays with Sales and Customers"
   ]
  },
  {
   "cell_type": "code",
   "execution_count": 171,
   "id": "7f5453c8",
   "metadata": {},
   "outputs": [
    {
     "data": {
      "image/png": "[encoded data removed]",
      "text/plain": [
       "<Figure size 864x288 with 2 Axes>"
      ]
     },
     "metadata": {
      "needs_background": "light"
     },
     "output_type": "display_data"
    }
   ],
   "source": [
    "fig, (axis1,axis2) = plt.subplots(1,2,figsize=(12,4))\n",
    "\n",
    "sns.barplot(x='SchoolHoliday', y='Sales', data=train_df, ax=axis1).set_title('Comparison of sales vs StateHoliday')\n",
    "sns.barplot(x='SchoolHoliday', y='Customers', data=train_df, ax=axis2).set_title('Comparison of customers vs StateHoliday')\n",
    "plt.show()"
   ]
  },
  {
   "cell_type": "markdown",
   "id": "89d9a02a",
   "metadata": {},
   "source": [
    "#### Store type with sales and customers"
   ]
  },
  {
   "cell_type": "code",
   "execution_count": 178,
   "id": "40c96457",
   "metadata": {},
   "outputs": [
    {
     "data": {
      "image/png": "[encoded data removed]",
      "text/plain": [
       "<Figure size 1080x288 with 2 Axes>"
      ]
     },
     "metadata": {
      "needs_background": "light"
     },
     "output_type": "display_data"
    }
   ],
   "source": [
    "fig, (axis1,axis2) = plt.subplots(1,2,figsize=(15,4))\n",
    "sns.barplot(x='StoreType', y='Sales', data=df, ax=axis1, palette = 'Set3', order=['a','b','c', 'd']).set_title('Sales across different StoreType')\n",
    "sns.barplot(x='StoreType', y='Customers', data=df, ax=axis2, palette = 'Set3', order=['a','b','c', 'd']).set_title('No. of customers across diffrent StoreType')\n",
    "plt.show()"
   ]
  },
  {
   "cell_type": "markdown",
   "id": "8b7ab8c2",
   "metadata": {},
   "source": [
    "#### Assortment with Sales and customers"
   ]
  },
  {
   "cell_type": "code",
   "execution_count": 179,
   "id": "6b9008d1",
   "metadata": {
    "scrolled": true
   },
   "outputs": [
    {
     "data": {
      "image/png": "[encoded data removed]",
      "text/plain": [
       "<Figure size 1080x288 with 2 Axes>"
      ]
     },
     "metadata": {
      "needs_background": "light"
     },
     "output_type": "display_data"
    }
   ],
   "source": [
    "fig, (axis1,axis2) = plt.subplots(1,2,figsize=(15,4))\n",
    "\n",
    "sns.barplot(x='Assortment', y='Sales', data=df, palette = 'husl', order=['a','b','c'], ax=axis1).set_title('Sales across different assortment types')\n",
    "sns.barplot(x='Assortment', y='Customers', data=df, palette = 'husl', order=['a','b','c'], ax=axis2).set_title('Customers across different assortment types')\n",
    "plt.show()"
   ]
  },
  {
   "cell_type": "markdown",
   "id": "393b2ea5",
   "metadata": {},
   "source": [
    "#### Day of week with sales and customers"
   ]
  },
  {
   "cell_type": "code",
   "execution_count": 180,
   "id": "a79c4a2e",
   "metadata": {},
   "outputs": [
    {
     "data": {
      "image/png": "[encoded data removed]",
      "text/plain": [
       "<Figure size 1080x288 with 2 Axes>"
      ]
     },
     "metadata": {
      "needs_background": "light"
     },
     "output_type": "display_data"
    }
   ],
   "source": [
    "fig, (axis1,axis2) = plt.subplots(1,2,figsize=(15,4))\n",
    "sns.barplot(x='DayOfWeek', y='Sales', data=train_df, palette = 'RdBu_r', ax=axis1).set_title('Sales across different days of the week ')\n",
    "sns.barplot(x='DayOfWeek', y='Customers', data=train_df, palette = 'RdBu_r', ax=axis2).set_title('Customers across different days of the week ')\n",
    "plt.show()"
   ]
  },
  {
   "cell_type": "markdown",
   "id": "9e978cb1",
   "metadata": {},
   "source": [
    "#### Promo with sales and customers"
   ]
  },
  {
   "cell_type": "code",
   "execution_count": 193,
   "id": "acb99ce2",
   "metadata": {},
   "outputs": [
    {
     "data": {
      "image/png": "[encoded data removed]",
      "text/plain": [
       "<Figure size 1080x288 with 2 Axes>"
      ]
     },
     "metadata": {
      "needs_background": "light"
     },
     "output_type": "display_data"
    }
   ],
   "source": [
    "fig, (axis1,axis2) = plt.subplots(1,2,figsize=(15,4))\n",
    "\n",
    "sns.barplot(x='Promo', y='Sales', data=train_df, palette = 'Set1', ax=axis1).set_title('Sales across different Promo')\n",
    "sns.barplot(x='Promo', y='Customers', data=train_df, ax=axis2,  palette = 'Set1').set_title('Customers across different Promo')\n",
    "plt.show()"
   ]
  },
  {
   "cell_type": "markdown",
   "id": "e7b05f53",
   "metadata": {},
   "source": [
    "#### Promo2 with Sales and Customers"
   ]
  },
  {
   "cell_type": "code",
   "execution_count": 192,
   "id": "589e86b5",
   "metadata": {},
   "outputs": [
    {
     "data": {
      "image/png": "[encoded data removed]",
      "text/plain": [
       "<Figure size 1080x288 with 2 Axes>"
      ]
     },
     "metadata": {
      "needs_background": "light"
     },
     "output_type": "display_data"
    }
   ],
   "source": [
    "flatui = [ \"#34495e\", \"#2ecc71\"]\n",
    "fig, (axis1,axis2) = plt.subplots(1,2,figsize=(15,4))\n",
    "\n",
    "sns.barplot(x='Promo2', y='Sales', data=df, ax=axis1, palette = flatui).set_title('Sales across different Promo2')\n",
    "sns.barplot(x='Promo2', y='Customers', data=df, ax=axis2, palette = flatui).set_title('Customers across different Promo2')\n",
    "plt.show()"
   ]
  },
  {
   "cell_type": "markdown",
   "id": "d01e706d",
   "metadata": {},
   "source": [
    "#### Promo interval with sales and customers"
   ]
  },
  {
   "cell_type": "code",
   "execution_count": 194,
   "id": "8a23f31c",
   "metadata": {},
   "outputs": [
    {
     "data": {
      "image/png": "[encoded data removed]",
      "text/plain": [
       "<Figure size 1080x288 with 2 Axes>"
      ]
     },
     "metadata": {
      "needs_background": "light"
     },
     "output_type": "display_data"
    }
   ],
   "source": [
    "flatui = [\"#9b59b6\", \"#3498db\", \"#95a5a6\", \"#e74c3c\", \"#34495e\", \"#2ecc71\"]\n",
    "fig, (axis1,axis2) = plt.subplots(1,2,figsize=(15,4))\n",
    "\n",
    "# values with promo2 only\n",
    "mask = (df[\"Promo2\"] != 0)\n",
    "\n",
    "sns.barplot(x='PromoInterval', y='Sales', data=df[mask], ax=axis1, palette = flatui).set_title('Sales across different promo intervals')\n",
    "sns.barplot(x='PromoInterval', y='Customers', data=df[mask], ax=axis2, palette = flatui).set_title('Customers across different promo intervals')\n",
    "plt.show()"
   ]
  },
  {
   "cell_type": "code",
   "execution_count": 195,
   "id": "62e1bea7",
   "metadata": {},
   "outputs": [
    {
     "data": {
      "image/png": "[encoded data removed]",
      "text/plain": [
       "<Figure size 432x288 with 1 Axes>"
      ]
     },
     "metadata": {
      "needs_background": "light"
     },
     "output_type": "display_data"
    }
   ],
   "source": [
    "sns.barplot(x='Month', y='Sales', data=df)\n",
    "plt.show()"
   ]
  },
  {
   "cell_type": "code",
   "execution_count": 196,
   "id": "56d18ef0",
   "metadata": {},
   "outputs": [
    {
     "data": {
      "image/png": "[encoded data removed]",
      "text/plain": [
       "<Figure size 576x504 with 1 Axes>"
      ]
     },
     "metadata": {
      "needs_background": "light"
     },
     "output_type": "display_data"
    }
   ],
   "source": [
    "a = df.groupby('Store').agg({\n",
    "    'CompetitionDistance': 'mean',\n",
    "    'Sales': 'mean',\n",
    "    'Customers': 'mean'\n",
    "})\n",
    "plt.subplots(figsize = (8, 7))\n",
    "sns.scatterplot(x='CompetitionDistance', y='Sales', data=a)\n",
    "plt.show()"
   ]
  },
  {
   "cell_type": "markdown",
   "id": "ee392242",
   "metadata": {},
   "source": [
    "# Correlation Analysis"
   ]
  },
  {
   "cell_type": "code",
   "execution_count": 197,
   "id": "e6cf68e1",
   "metadata": {},
   "outputs": [
    {
     "data": {
      "image/png": "[encoded data removed]",
      "text/plain": [
       "<Figure size 720x576 with 2 Axes>"
      ]
     },
     "metadata": {},
     "output_type": "display_data"
    }
   ],
   "source": [
    "f_most_correlated = df.corr().nlargest(8,'Sales')['Sales'].index\n",
    "f_correlation = df[f_most_correlated].corr()\n",
    "\n",
    "# Generate a mask for the upper triangle\n",
    "f_mask = np.zeros_like(f_correlation)\n",
    "f_mask[np.triu_indices_from(f_mask)] = True\n",
    "with sns.axes_style(\"white\"):\n",
    "    f_fig, f_ax = plt.subplots(figsize=(10, 8))\n",
    "    f_ax = sns.heatmap(f_correlation, mask=f_mask, vmin=0, vmax=1, square=True,\n",
    "                        annot=True, annot_kws={\"size\": 10}, cmap=\"BuPu\")\n",
    "plt.title('Top 7 features with highest correlation with sales')\n",
    "plt.show()"
   ]
  },
  {
   "cell_type": "markdown",
   "id": "5c8426e0",
   "metadata": {},
   "source": [
    "# Filtering Data and Answering Business Questions\n",
    "\n",
    "##### Distribution of promotion in the training and test datasets"
   ]
  },
  {
   "cell_type": "code",
   "execution_count": 199,
   "id": "72addd85",
   "metadata": {},
   "outputs": [
    {
     "data": {
      "text/html": [
       "<div>\n",
       "<style scoped>\n",
       "    .dataframe tbody tr th:only-of-type {\n",
       "        vertical-align: middle;\n",
       "    }\n",
       "\n",
       "    .dataframe tbody tr th {\n",
       "        vertical-align: top;\n",
       "    }\n",
       "\n",
       "    .dataframe thead th {\n",
       "        text-align: right;\n",
       "    }\n",
       "</style>\n",
       "<table border=\"1\" class=\"dataframe\">\n",
       "  <thead>\n",
       "    <tr style=\"text-align: right;\">\n",
       "      <th></th>\n",
       "      <th>Id</th>\n",
       "      <th>Store</th>\n",
       "      <th>DayOfWeek</th>\n",
       "      <th>Date</th>\n",
       "      <th>Open</th>\n",
       "      <th>Promo</th>\n",
       "      <th>StateHoliday</th>\n",
       "      <th>SchoolHoliday</th>\n",
       "    </tr>\n",
       "  </thead>\n",
       "  <tbody>\n",
       "    <tr>\n",
       "      <th>0</th>\n",
       "      <td>1</td>\n",
       "      <td>1</td>\n",
       "      <td>4</td>\n",
       "      <td>2015-09-17</td>\n",
       "      <td>1.0</td>\n",
       "      <td>1</td>\n",
       "      <td>0</td>\n",
       "      <td>0</td>\n",
       "    </tr>\n",
       "    <tr>\n",
       "      <th>1</th>\n",
       "      <td>2</td>\n",
       "      <td>3</td>\n",
       "      <td>4</td>\n",
       "      <td>2015-09-17</td>\n",
       "      <td>1.0</td>\n",
       "      <td>1</td>\n",
       "      <td>0</td>\n",
       "      <td>0</td>\n",
       "    </tr>\n",
       "    <tr>\n",
       "      <th>2</th>\n",
       "      <td>3</td>\n",
       "      <td>7</td>\n",
       "      <td>4</td>\n",
       "      <td>2015-09-17</td>\n",
       "      <td>1.0</td>\n",
       "      <td>1</td>\n",
       "      <td>0</td>\n",
       "      <td>0</td>\n",
       "    </tr>\n",
       "    <tr>\n",
       "      <th>3</th>\n",
       "      <td>4</td>\n",
       "      <td>8</td>\n",
       "      <td>4</td>\n",
       "      <td>2015-09-17</td>\n",
       "      <td>1.0</td>\n",
       "      <td>1</td>\n",
       "      <td>0</td>\n",
       "      <td>0</td>\n",
       "    </tr>\n",
       "    <tr>\n",
       "      <th>4</th>\n",
       "      <td>5</td>\n",
       "      <td>9</td>\n",
       "      <td>4</td>\n",
       "      <td>2015-09-17</td>\n",
       "      <td>1.0</td>\n",
       "      <td>1</td>\n",
       "      <td>0</td>\n",
       "      <td>0</td>\n",
       "    </tr>\n",
       "    <tr>\n",
       "      <th>5</th>\n",
       "      <td>6</td>\n",
       "      <td>10</td>\n",
       "      <td>4</td>\n",
       "      <td>2015-09-17</td>\n",
       "      <td>1.0</td>\n",
       "      <td>1</td>\n",
       "      <td>0</td>\n",
       "      <td>0</td>\n",
       "    </tr>\n",
       "    <tr>\n",
       "      <th>6</th>\n",
       "      <td>7</td>\n",
       "      <td>11</td>\n",
       "      <td>4</td>\n",
       "      <td>2015-09-17</td>\n",
       "      <td>1.0</td>\n",
       "      <td>1</td>\n",
       "      <td>0</td>\n",
       "      <td>0</td>\n",
       "    </tr>\n",
       "    <tr>\n",
       "      <th>7</th>\n",
       "      <td>8</td>\n",
       "      <td>12</td>\n",
       "      <td>4</td>\n",
       "      <td>2015-09-17</td>\n",
       "      <td>1.0</td>\n",
       "      <td>1</td>\n",
       "      <td>0</td>\n",
       "      <td>0</td>\n",
       "    </tr>\n",
       "    <tr>\n",
       "      <th>8</th>\n",
       "      <td>9</td>\n",
       "      <td>13</td>\n",
       "      <td>4</td>\n",
       "      <td>2015-09-17</td>\n",
       "      <td>1.0</td>\n",
       "      <td>1</td>\n",
       "      <td>0</td>\n",
       "      <td>0</td>\n",
       "    </tr>\n",
       "    <tr>\n",
       "      <th>9</th>\n",
       "      <td>10</td>\n",
       "      <td>14</td>\n",
       "      <td>4</td>\n",
       "      <td>2015-09-17</td>\n",
       "      <td>1.0</td>\n",
       "      <td>1</td>\n",
       "      <td>0</td>\n",
       "      <td>0</td>\n",
       "    </tr>\n",
       "  </tbody>\n",
       "</table>\n",
       "</div>"
      ],
      "text/plain": [
       "   Id  Store  DayOfWeek        Date  Open  Promo StateHoliday  SchoolHoliday\n",
       "0   1      1          4  2015-09-17   1.0      1            0              0\n",
       "1   2      3          4  2015-09-17   1.0      1            0              0\n",
       "2   3      7          4  2015-09-17   1.0      1            0              0\n",
       "3   4      8          4  2015-09-17   1.0      1            0              0\n",
       "4   5      9          4  2015-09-17   1.0      1            0              0\n",
       "5   6     10          4  2015-09-17   1.0      1            0              0\n",
       "6   7     11          4  2015-09-17   1.0      1            0              0\n",
       "7   8     12          4  2015-09-17   1.0      1            0              0\n",
       "8   9     13          4  2015-09-17   1.0      1            0              0\n",
       "9  10     14          4  2015-09-17   1.0      1            0              0"
      ]
     },
     "execution_count": 199,
     "metadata": {},
     "output_type": "execute_result"
    }
   ],
   "source": [
    "# reading test data\n",
    "test_df = pd.read_csv(\"../data/test.csv\")\n",
    "test_df.head(10)"
   ]
  },
  {
   "cell_type": "code",
   "execution_count": 200,
   "id": "4fd8648b",
   "metadata": {},
   "outputs": [
    {
     "data": {
      "image/png": "[encoded data removed]",
      "text/plain": [
       "<Figure size 864x288 with 2 Axes>"
      ]
     },
     "metadata": {
      "needs_background": "light"
     },
     "output_type": "display_data"
    }
   ],
   "source": [
    "fig, ax = plt.subplots(1, 2, sharex=True, figsize=(12, 4))\n",
    "ax[0].set_title(\"Train\")\n",
    "sns.countplot(x='Promo', data=train_df, ax=ax[0])\n",
    "ax[1].set_title(\"Test\")\n",
    "sns.countplot(x='Promo', data=test_df, ax=ax[1])\n",
    "fig.subplots_adjust(wspace=0.5)\n",
    "fig.show()"
   ]
  },
  {
   "cell_type": "markdown",
   "id": "0e5cab75",
   "metadata": {},
   "source": [
    "### Monthly sales trend per store type"
   ]
  },
  {
   "cell_type": "code",
   "execution_count": 201,
   "id": "ce086c80",
   "metadata": {},
   "outputs": [],
   "source": [
    "store_type_a = df[df.StoreType == 'a']\n",
    "store_type_b = df[df.StoreType == 'b']\n",
    "store_type_c = df[df.StoreType == 'c']\n",
    "store_type_d = df[df.StoreType == 'd']"
   ]
  },
  {
   "cell_type": "code",
   "execution_count": 202,
   "id": "594c75e8",
   "metadata": {},
   "outputs": [
    {
     "data": {
      "image/png": "[encoded data removed]",
      "text/plain": [
       "<Figure size 720x648 with 1 Axes>"
      ]
     },
     "metadata": {
      "needs_background": "light"
     },
     "output_type": "display_data"
    }
   ],
   "source": [
    "plt.subplots(figsize = (10, 9))\n",
    "sns.lineplot(x = store_type_a.Month, y = store_type_a.Sales, label=\"Store Type A\")\n",
    "sns.lineplot(x = store_type_b.Month, y = store_type_b.Sales, label=\"Store Type B\")\n",
    "sns.lineplot(x = store_type_c.Month, y = store_type_c.Sales, label=\"Store Type C\")\n",
    "sns.lineplot(x = store_type_d.Month, y = store_type_d.Sales, label=\"Store Type D\")\n",
    "plt.show()"
   ]
  },
  {
   "cell_type": "markdown",
   "id": "4f21c1ec",
   "metadata": {},
   "source": [
    "### Monthly sales per StoreType and Promo"
   ]
  },
  {
   "cell_type": "code",
   "execution_count": 204,
   "id": "f544082c",
   "metadata": {},
   "outputs": [
    {
     "data": {
      "image/png": "[encoded data removed]",
      "text/plain": [
       "<Figure size 1482.38x360 with 4 Axes>"
      ]
     },
     "metadata": {
      "needs_background": "light"
     },
     "output_type": "display_data"
    }
   ],
   "source": [
    "sns.factorplot(data = df, x = 'Month', y = \"Sales\",\n",
    "               col = 'StoreType', # per store type in cols\n",
    "               palette = 'plasma',\n",
    "               hue = 'Promo',\n",
    "               col_order=['a','b','c', 'd'],\n",
    "               title='Promotion impact on sales per store types')\n",
    "plt.show()"
   ]
  },
  {
   "cell_type": "markdown",
   "id": "7b3426a0",
   "metadata": {},
   "source": [
    "### Monthly customers per StoreType and Promo"
   ]
  },
  {
   "cell_type": "code",
   "execution_count": 205,
   "id": "fc0322e0",
   "metadata": {},
   "outputs": [
    {
     "data": {
      "image/png": "[encoded data removed]",
      "text/plain": [
       "<Figure size 1482.38x360 with 4 Axes>"
      ]
     },
     "metadata": {
      "needs_background": "light"
     },
     "output_type": "display_data"
    }
   ],
   "source": [
    "sns.factorplot(data = df, x = 'Month', y = \"Customers\",\n",
    "               col = 'StoreType', # per store type in cols\n",
    "               palette = 'plasma',\n",
    "               hue = 'Promo',\n",
    "               col_order=['a','b','c', 'd'],\n",
    "               title='Promotion impact on sales per store types')\n",
    "plt.show()"
   ]
  },
  {
   "cell_type": "markdown",
   "id": "51806ae6",
   "metadata": {},
   "source": [
    "### Monthly sales per Assortment and Promo"
   ]
  },
  {
   "cell_type": "code",
   "execution_count": 206,
   "id": "39b3747f",
   "metadata": {},
   "outputs": [
    {
     "data": {
      "image/png": "[encoded data removed]",
      "text/plain": [
       "<Figure size 1122.38x360 with 3 Axes>"
      ]
     },
     "metadata": {
      "needs_background": "light"
     },
     "output_type": "display_data"
    }
   ],
   "source": [
    "sns.factorplot(data = df, x = 'Month', y = 'Sales', col='Assortment', hue='Promo', col_order=['a','b','c'])\n",
    "plt.show()"
   ]
  },
  {
   "cell_type": "markdown",
   "id": "eb4ba6d8",
   "metadata": {},
   "source": [
    "### Monthly customers per Assortment and Promo"
   ]
  },
  {
   "cell_type": "code",
   "execution_count": 207,
   "id": "48b7bd7c",
   "metadata": {},
   "outputs": [
    {
     "data": {
      "image/png": "[encoded data removed]",
      "text/plain": [
       "<Figure size 1122.38x360 with 3 Axes>"
      ]
     },
     "metadata": {
      "needs_background": "light"
     },
     "output_type": "display_data"
    }
   ],
   "source": [
    "sns.factorplot(data = df, x = 'Month', y = 'Customers', col='Assortment', hue='Promo', col_order=['a','b','c'])\n",
    "plt.show()"
   ]
  },
  {
   "cell_type": "markdown",
   "id": "5446a676",
   "metadata": {},
   "source": [
    "### Sales of stores open per DayOfWeek and StoreType"
   ]
  },
  {
   "cell_type": "code",
   "execution_count": 208,
   "id": "39a705ba",
   "metadata": {},
   "outputs": [
    {
     "data": {
      "image/png": "[encoded data removed]",
      "text/plain": [
       "<Figure size 1440x360 with 4 Axes>"
      ]
     },
     "metadata": {
      "needs_background": "light"
     },
     "output_type": "display_data"
    }
   ],
   "source": [
    "# stores that are open only\n",
    "mask = (df[\"Open\"] != 0)\n",
    "\n",
    "sns.factorplot(data = df[mask], x = 'DayOfWeek', y = 'Sales', col='StoreType', col_order=['a','b','c', 'd'])\n",
    "plt.show()"
   ]
  },
  {
   "cell_type": "markdown",
   "id": "63d2b3b4",
   "metadata": {},
   "source": [
    "### Customers of stores open per DayOfWeek and Assortment"
   ]
  },
  {
   "cell_type": "code",
   "execution_count": 209,
   "id": "7d468f37",
   "metadata": {},
   "outputs": [
    {
     "data": {
      "image/png": "[encoded data removed]",
      "text/plain": [
       "<Figure size 1080x360 with 3 Axes>"
      ]
     },
     "metadata": {
      "needs_background": "light"
     },
     "output_type": "display_data"
    }
   ],
   "source": [
    "# stores that are open only\n",
    "mask = (df[\"Open\"] != 0)\n",
    "\n",
    "sns.factorplot(data = df[mask], x = 'DayOfWeek', y = 'Customers', col='Assortment', col_order=['a','b','c'])\n",
    "plt.show()"
   ]
  },
  {
   "cell_type": "markdown",
   "id": "f39b452b",
   "metadata": {},
   "source": [
    "### Conclusions of EDA\n",
    "\n",
    "- The most selling and crowded store type is b.\n",
    "- The most selling and crowded assortment is b.\n",
    "- Sales is highly correlated to customers.\n",
    "- For all stores, promotion leads to increase in Sales and Customers. But promotions have low impact on store type b and assortment b when comparing to the other store types and assortments. So promotions should be applied more in the other store types and assortments.\n",
    "- Store type b is the most opened store type on all weekdays and has its highest sales on sundays than the other days.\n",
    "- Assortment a and b are the most opened assortments on all weekdays and have their highest sales on sundays than the other days. The number of cusomers increase dramatically on sundays for assortment a while it is similar with other week days for assortment b."
   ]
  },
  {
   "cell_type": "markdown",
   "id": "a2399f5b",
   "metadata": {},
   "source": []
  }
 ],
 "metadata": {
  "kernelspec": {
   "display_name": "Python 3 (ipykernel)",
   "language": "python",
   "name": "python3"
  },
  "language_info": {
   "codemirror_mode": {
    "name": "ipython",
    "version": 3
   },
   "file_extension": ".py",
   "mimetype": "text/x-python",
   "name": "python",
   "nbconvert_exporter": "python",
   "pygments_lexer": "ipython3",
   "version": "3.9.7"
  }
 },
 "nbformat": 4,
 "nbformat_minor": 5
}
