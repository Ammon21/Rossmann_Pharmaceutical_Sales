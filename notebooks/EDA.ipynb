{
 "cells": [
  {
   "cell_type": "markdown",
   "id": "b8154f74",
   "metadata": {},
   "source": [
    "# Rossmann Pharmaceutical Sales"
   ]
  },
  {
   "cell_type": "markdown",
   "id": "f6d5b870",
   "metadata": {},
   "source": [
    "### Explanatory Data Analysis"
   ]
  },
  {
   "cell_type": "code",
   "execution_count": 5,
   "id": "e0220c4d",
   "metadata": {},
   "outputs": [
    {
     "ename": "ModuleNotFoundError",
     "evalue": "No module named 'dvc'",
     "output_type": "error",
     "traceback": [
      "\u001b[1;31m---------------------------------------------------------------------------\u001b[0m",
      "\u001b[1;31mModuleNotFoundError\u001b[0m                       Traceback (most recent call last)",
      "\u001b[1;32m~\\AppData\\Local\\Temp/ipykernel_1244/4127428325.py\u001b[0m in \u001b[0;36m<module>\u001b[1;34m\u001b[0m\n\u001b[0;32m      6\u001b[0m \u001b[1;32mimport\u001b[0m \u001b[0mseaborn\u001b[0m \u001b[1;32mas\u001b[0m \u001b[0msns\u001b[0m\u001b[1;33m\u001b[0m\u001b[1;33m\u001b[0m\u001b[0m\n\u001b[0;32m      7\u001b[0m \u001b[1;32mimport\u001b[0m \u001b[0mplotly\u001b[0m\u001b[1;33m.\u001b[0m\u001b[0mexpress\u001b[0m \u001b[1;32mas\u001b[0m \u001b[0mpx\u001b[0m\u001b[1;33m\u001b[0m\u001b[1;33m\u001b[0m\u001b[0m\n\u001b[1;32m----> 8\u001b[1;33m \u001b[1;32mimport\u001b[0m \u001b[0mdvc\u001b[0m\u001b[1;33m.\u001b[0m\u001b[0mapi\u001b[0m\u001b[1;33m\u001b[0m\u001b[1;33m\u001b[0m\u001b[0m\n\u001b[0m\u001b[0;32m      9\u001b[0m \u001b[1;33m\u001b[0m\u001b[0m\n\u001b[0;32m     10\u001b[0m \u001b[1;33m\u001b[0m\u001b[0m\n",
      "\u001b[1;31mModuleNotFoundError\u001b[0m: No module named 'dvc'"
     ]
    }
   ],
   "source": [
    "import numpy as np\n",
    "import pandas as pd\n",
    "import sys, os\n",
    "import warnings\n",
    "import matplotlib.pyplot as plt\n",
    "import seaborn as sns\n",
    "import plotly.express as px\n",
    "import dvc.api\n",
    "\n",
    "\n"
   ]
  },
  {
   "cell_type": "code",
   "execution_count": null,
   "id": "c6031cfe",
   "metadata": {},
   "outputs": [],
   "source": [
    "warnings.filterwarnings('ignore')\n",
    "pd.set_option('display.max_columns', 50)\n",
    "\n",
    "sys.path.append(os.path.abspath(os.path.join('../scripts')))\n",
    "from cleaner import *\n",
    "from visualizer import *"
   ]
  },
  {
   "cell_type": "markdown",
   "id": "bd15cd9a",
   "metadata": {},
   "source": [
    "### Reading Data"
   ]
  },
  {
   "cell_type": "code",
   "execution_count": null,
   "id": "37add5f0",
   "metadata": {},
   "outputs": [],
   "source": [
    "# reading the store csv file\n",
    "store_df = pd.read_csv(\"../data/store.csv\")\n",
    "store_df.head(10)\n"
   ]
  },
  {
   "cell_type": "code",
   "execution_count": null,
   "id": "aea54577",
   "metadata": {},
   "outputs": [],
   "source": [
    "# reading the sales training csv file\n",
    "train_df = pd.read_csv(\"../data/train.csv\")\n",
    "train_df.head(10)"
   ]
  },
  {
   "cell_type": "code",
   "execution_count": null,
   "id": "3462e866",
   "metadata": {},
   "outputs": [],
   "source": [
    "# number of elements in the store df\n",
    "store_df.size"
   ]
  },
  {
   "cell_type": "code",
   "execution_count": null,
   "id": "1bf98601",
   "metadata": {},
   "outputs": [],
   "source": [
    "# rows and columns in the df\n",
    "store_df.shape"
   ]
  },
  {
   "cell_type": "code",
   "execution_count": null,
   "id": "74da7c28",
   "metadata": {},
   "outputs": [],
   "source": [
    "store_df.info()"
   ]
  },
  {
   "cell_type": "code",
   "execution_count": null,
   "id": "b81c2827",
   "metadata": {},
   "outputs": [],
   "source": [
    "# number of elements in the train df\n",
    "train_df.size"
   ]
  },
  {
   "cell_type": "code",
   "execution_count": null,
   "id": "e7ba982e",
   "metadata": {},
   "outputs": [],
   "source": [
    "# rows and columns in the df\n",
    "train_df.shape"
   ]
  },
  {
   "cell_type": "code",
   "execution_count": null,
   "id": "410b826d",
   "metadata": {},
   "outputs": [],
   "source": [
    "train_df.info()"
   ]
  },
  {
   "cell_type": "markdown",
   "id": "ec358946",
   "metadata": {},
   "source": [
    "### Missing Values"
   ]
  },
  {
   "cell_type": "code",
   "execution_count": null,
   "id": "0aba1c29",
   "metadata": {},
   "outputs": [],
   "source": [
    "percent_missing_values(store_df)"
   ]
  },
  {
   "cell_type": "code",
   "execution_count": null,
   "id": "07026219",
   "metadata": {},
   "outputs": [],
   "source": [
    "missing_df = missing_values_table(store_df)"
   ]
  },
  {
   "cell_type": "code",
   "execution_count": null,
   "id": "88173bc9",
   "metadata": {},
   "outputs": [],
   "source": [
    "missing_df"
   ]
  },
  {
   "cell_type": "code",
   "execution_count": null,
   "id": "a138987d",
   "metadata": {},
   "outputs": [],
   "source": [
    "max_dist = store_df['CompetitionDistance'].max()\n",
    "max_dist"
   ]
  },
  {
   "cell_type": "code",
   "execution_count": null,
   "id": "2678a4f0",
   "metadata": {},
   "outputs": [],
   "source": [
    "fix_missing_value(store_df, ['CompetitionDistance'], max_dist)"
   ]
  },
  {
   "cell_type": "code",
   "execution_count": null,
   "id": "d18cc91d",
   "metadata": {},
   "outputs": [],
   "source": [
    "# final check for missing values\n",
    "percent_missing_values(store_df)"
   ]
  },
  {
   "cell_type": "code",
   "execution_count": null,
   "id": "fbb40632",
   "metadata": {},
   "outputs": [],
   "source": [
    "min_year = store_df['CompetitionOpenSinceYear'].min()\n",
    "min_year"
   ]
  },
  {
   "cell_type": "code",
   "execution_count": null,
   "id": "cd683ced",
   "metadata": {},
   "outputs": [],
   "source": [
    "# impute the column CompetitionOpenSinceYear with 1900 and the column CompetitionOpenSinceMonth with 1\n",
    "fix_missing_value(store_df, ['CompetitionOpenSinceYear'], min_year)\n",
    "fix_missing_value(store_df, ['CompetitionOpenSinceMonth'], 1)"
   ]
  },
  {
   "cell_type": "code",
   "execution_count": null,
   "id": "d75f90aa",
   "metadata": {},
   "outputs": [],
   "source": [
    "fix_missing_value(store_df, ['Promo2SinceWeek', 'Promo2SinceYear'], 0)"
   ]
  },
  {
   "cell_type": "code",
   "execution_count": null,
   "id": "797c4795",
   "metadata": {},
   "outputs": [],
   "source": [
    "fix_missing_value(store_df, ['PromoInterval'], '0,0,0,0')"
   ]
  },
  {
   "cell_type": "code",
   "execution_count": null,
   "id": "8aa90cda",
   "metadata": {},
   "outputs": [],
   "source": [
    "# final check for missing values\n",
    "percent_missing_values(store_df)"
   ]
  },
  {
   "cell_type": "code",
   "execution_count": null,
   "id": "2a68e91f",
   "metadata": {},
   "outputs": [],
   "source": [
    "percent_missing_values(train_df)"
   ]
  },
  {
   "cell_type": "markdown",
   "id": "d938d77a",
   "metadata": {},
   "source": [
    "## Data Types"
   ]
  },
  {
   "cell_type": "code",
   "execution_count": null,
   "id": "3d0257ad",
   "metadata": {},
   "outputs": [],
   "source": [
    "store_df.dtypes"
   ]
  },
  {
   "cell_type": "code",
   "execution_count": null,
   "id": "f2024ff7",
   "metadata": {},
   "outputs": [],
   "source": [
    "store_df.head()"
   ]
  },
  {
   "cell_type": "markdown",
   "id": "8a6e0562",
   "metadata": {},
   "source": [
    "##### StoreType, Assortment and PromoInterval hold string values. we will change this object types to string."
   ]
  },
  {
   "cell_type": "code",
   "execution_count": null,
   "id": "063f4b27",
   "metadata": {},
   "outputs": [],
   "source": [
    "# get the columns with object data type\n",
    "string_columns = store_df.select_dtypes(include='object').columns.tolist()\n",
    "string_columns"
   ]
  },
  {
   "cell_type": "code",
   "execution_count": null,
   "id": "44cc66bf",
   "metadata": {},
   "outputs": [],
   "source": [
    "convert_to_string(store_df, string_columns)"
   ]
  },
  {
   "cell_type": "code",
   "execution_count": null,
   "id": "26a08a84",
   "metadata": {},
   "outputs": [],
   "source": [
    "convert_to_int(store_df, ['CompetitionOpenSinceMonth',  'CompetitionOpenSinceYear',\n",
    "        'Promo2SinceWeek', 'Promo2SinceYear'])"
   ]
  },
  {
   "cell_type": "code",
   "execution_count": null,
   "id": "5de1cbcd",
   "metadata": {},
   "outputs": [],
   "source": [
    "store_df.dtypes"
   ]
  },
  {
   "cell_type": "code",
   "execution_count": null,
   "id": "b05f4fa5",
   "metadata": {},
   "outputs": [],
   "source": [
    "store_df.head()"
   ]
  },
  {
   "cell_type": "code",
   "execution_count": null,
   "id": "5506afac",
   "metadata": {},
   "outputs": [],
   "source": [
    "train_df['StateHoliday'].value_counts()"
   ]
  },
  {
   "cell_type": "code",
   "execution_count": null,
   "id": "295f81a7",
   "metadata": {},
   "outputs": [],
   "source": [
    "train_df['StateHoliday'].value_counts().index\n"
   ]
  },
  {
   "cell_type": "markdown",
   "id": "a71c4b99",
   "metadata": {},
   "source": [
    "#### Here 0 is represented as an integer and a string. Since there are other string values we will convert the StateHoliday column into string.\n",
    "\n",
    "\n"
   ]
  },
  {
   "cell_type": "code",
   "execution_count": null,
   "id": "ecaaaff4",
   "metadata": {},
   "outputs": [],
   "source": [
    "convert_to_string(train_df, ['StateHoliday'])"
   ]
  },
  {
   "cell_type": "code",
   "execution_count": null,
   "id": "e6dd463b",
   "metadata": {},
   "outputs": [],
   "source": [
    "train_df.dtypes"
   ]
  },
  {
   "cell_type": "code",
   "execution_count": null,
   "id": "862726e9",
   "metadata": {},
   "outputs": [],
   "source": [
    "convert_to_datetime(train_df, ['Date'])"
   ]
  },
  {
   "cell_type": "code",
   "execution_count": null,
   "id": "2cd71973",
   "metadata": {},
   "outputs": [],
   "source": [
    "train_df.dtypes"
   ]
  },
  {
   "cell_type": "markdown",
   "id": "f725e6c9",
   "metadata": {},
   "source": [
    "## Duplicates"
   ]
  },
  {
   "cell_type": "code",
   "execution_count": null,
   "id": "968fb392",
   "metadata": {},
   "outputs": [],
   "source": [
    "# search for duplicate rows and drop them\n",
    "drop_duplicates(store_df)"
   ]
  },
  {
   "cell_type": "code",
   "execution_count": null,
   "id": "81ef8fd0",
   "metadata": {},
   "outputs": [],
   "source": [
    "# search for duplicate rows and drop them\n",
    "drop_duplicates(train_df)"
   ]
  },
  {
   "cell_type": "markdown",
   "id": "5a366c9a",
   "metadata": {},
   "source": [
    "# Feature Engineering"
   ]
  },
  {
   "cell_type": "code",
   "execution_count": null,
   "id": "cc570878",
   "metadata": {},
   "outputs": [],
   "source": [
    "train_df['Year'] = train_df['Date'].apply(lambda x: x.year)\n",
    "train_df['Month'] = train_df['Date'].apply(lambda x: x.month)\n",
    "train_df['DayOfMonth'] = train_df['Date'].apply(lambda x: x.day)\n",
    "train_df['WeekOfYear'] = train_df['Date'].apply(lambda x: x.weekofyear)\n",
    "train_df['weekday'] = train_df['DayOfWeek'].apply(lambda x: 0 if (x in [6, 7]) else 1)"
   ]
  },
  {
   "cell_type": "code",
   "execution_count": null,
   "id": "b73c683d",
   "metadata": {},
   "outputs": [],
   "source": [
    "train_df.info()\n"
   ]
  },
  {
   "cell_type": "code",
   "execution_count": null,
   "id": "6ac52068",
   "metadata": {},
   "outputs": [],
   "source": [
    "train_df.sample(10)"
   ]
  },
  {
   "cell_type": "code",
   "execution_count": null,
   "id": "48f825a8",
   "metadata": {},
   "outputs": [],
   "source": [
    "def getMonth(month_list, index):\n",
    "    months = ['0', 'Jan', 'Feb', 'Mar', 'Apr', 'May', 'Jun', 'Jul', 'Aug', 'Sept', 'Oct', 'Nov', 'Dec']\n",
    "    month_list = month_list.split(',')\n",
    "    month = month_list[index]\n",
    "    return months.index(month)"
   ]
  },
  {
   "cell_type": "code",
   "execution_count": null,
   "id": "32d17af8",
   "metadata": {},
   "outputs": [],
   "source": [
    "# split the PromoInterval column into 4 columns\n",
    "store_df['PromoInterval0'] = store_df.PromoInterval.apply((lambda x: getMonth(x, 0)))\n",
    "store_df['PromoInterval1'] = store_df.PromoInterval.apply((lambda x: getMonth(x, 1)))\n",
    "store_df['PromoInterval2'] = store_df.PromoInterval.apply((lambda x: getMonth(x, 2)))\n",
    "store_df['PromoInterval3'] = store_df.PromoInterval.apply((lambda x: getMonth(x, 3)))"
   ]
  },
  {
   "cell_type": "code",
   "execution_count": null,
   "id": "5260b894",
   "metadata": {},
   "outputs": [],
   "source": [
    "store_df.sample(10)"
   ]
  },
  {
   "cell_type": "code",
   "execution_count": null,
   "id": "c1719698",
   "metadata": {},
   "outputs": [],
   "source": [
    "train_df.to_csv('../data/train.csv')\n",
    "store_df.to_csv('../data/store.csv')\n",
    "#data saved as version 2"
   ]
  },
  {
   "cell_type": "code",
   "execution_count": null,
   "id": "0690602d",
   "metadata": {},
   "outputs": [],
   "source": [
    "# merging store_df and train_df\n",
    "df = pd.merge(train_df, store_df, how='inner', on='Store')\n",
    "df.shape\n",
    "\n",
    "df.to_csv('../data/train.csv')\n",
    "#data saved as version 3"
   ]
  },
  {
   "cell_type": "markdown",
   "id": "95afd203",
   "metadata": {},
   "source": [
    "# Univariate Analysis\n",
    "\n",
    "### Non-Graphical Univariate Analysis"
   ]
  },
  {
   "cell_type": "code",
   "execution_count": null,
   "id": "0c1af64b",
   "metadata": {},
   "outputs": [],
   "source": [
    "'''\n",
    "repo = \"C:\\\\Users\\\\dell\\\\Desktop\\\\Rossmann_Pharmaceutical_Sales\"\n",
    "tpath = \"data/train.csv\"\n",
    "spath = \"data/store.csv\"\n",
    "train_v = \"v2\"\n",
    "store_v = \"v2\"\n",
    "full_v = 'v3'\n",
    "\n",
    "train_url = dvc.api.get_url(path = tpath, repo = repo, rev = train_v)\n",
    "store_url = dvc.api.get_url(path = spath, repo = repo, rev = store_v)\n",
    "full_url = dvc.api.get_url(path = tpath, repo = repo, rev = full_v)\n",
    "\n",
    "train_df = pd.read_csv(train_url)\n",
    "store_df = pd.read_csv(store_url)\n",
    "df = pd.read_csv(full_url)\n",
    "\n",
    "'''"
   ]
  },
  {
   "cell_type": "code",
   "execution_count": null,
   "id": "1e88700c",
   "metadata": {},
   "outputs": [],
   "source": [
    "df.describe().transpose()"
   ]
  },
  {
   "cell_type": "markdown",
   "id": "639d90fd",
   "metadata": {},
   "source": [
    "### Store Type"
   ]
  },
  {
   "cell_type": "code",
   "execution_count": null,
   "id": "7e6afc9a",
   "metadata": {},
   "outputs": [],
   "source": [
    "# unique value counts\n",
    "counts_df = store_df['StoreType'].value_counts()\n",
    "counts_df"
   ]
  },
  {
   "cell_type": "code",
   "execution_count": null,
   "id": "5a05475c",
   "metadata": {},
   "outputs": [],
   "source": [
    "plotly_plot_pie(store_df, 'StoreType')"
   ]
  },
  {
   "cell_type": "markdown",
   "id": "e504d230",
   "metadata": {},
   "source": [
    "### Assortment"
   ]
  },
  {
   "cell_type": "code",
   "execution_count": null,
   "id": "4ee4860c",
   "metadata": {},
   "outputs": [],
   "source": [
    "# unique value counts\n",
    "counts_df = store_df['Assortment'].value_counts()\n",
    "counts_df"
   ]
  },
  {
   "cell_type": "code",
   "execution_count": null,
   "id": "08dda473",
   "metadata": {},
   "outputs": [],
   "source": [
    "plotly_plot_pie(store_df, 'Assortment')"
   ]
  },
  {
   "cell_type": "code",
   "execution_count": null,
   "id": "3ab4966b",
   "metadata": {},
   "outputs": [],
   "source": [
    "plotly_plot_hist(store_df, 'CompetitionDistance')"
   ]
  },
  {
   "cell_type": "code",
   "execution_count": null,
   "id": "762834f5",
   "metadata": {},
   "outputs": [],
   "source": [
    "# unique value counts\n",
    "counts_df = store_df['Promo2'].value_counts()\n",
    "counts_df"
   ]
  },
  {
   "cell_type": "markdown",
   "id": "c311490a",
   "metadata": {},
   "source": [
    "### Day Of Week"
   ]
  },
  {
   "cell_type": "code",
   "execution_count": null,
   "id": "5060085b",
   "metadata": {},
   "outputs": [],
   "source": [
    "plot_count(train_df, 'DayOfWeek')"
   ]
  },
  {
   "cell_type": "markdown",
   "id": "b178c3ac",
   "metadata": {},
   "source": [
    "### Sales"
   ]
  },
  {
   "cell_type": "code",
   "execution_count": null,
   "id": "11306951",
   "metadata": {},
   "outputs": [],
   "source": [
    "plot_hist(train_df, 'Sales')"
   ]
  },
  {
   "cell_type": "markdown",
   "id": "78b7b1d0",
   "metadata": {},
   "source": [
    "### Customers"
   ]
  },
  {
   "cell_type": "code",
   "execution_count": null,
   "id": "89f3d96e",
   "metadata": {},
   "outputs": [],
   "source": [
    "plot_hist(train_df, 'Customers')"
   ]
  },
  {
   "cell_type": "markdown",
   "id": "b1ba8450",
   "metadata": {},
   "source": [
    "### Open"
   ]
  },
  {
   "cell_type": "code",
   "execution_count": null,
   "id": "cb7ee00e",
   "metadata": {},
   "outputs": [],
   "source": [
    "plot_count(train_df, 'Open')"
   ]
  },
  {
   "cell_type": "markdown",
   "id": "584052f7",
   "metadata": {},
   "source": [
    "### Promo"
   ]
  },
  {
   "cell_type": "code",
   "execution_count": null,
   "id": "0d122a86",
   "metadata": {},
   "outputs": [],
   "source": [
    "plot_count(train_df, 'Promo')"
   ]
  },
  {
   "cell_type": "code",
   "execution_count": null,
   "id": "d58a5121",
   "metadata": {},
   "outputs": [],
   "source": [
    "# unique value counts\n",
    "counts_df = train_df['StateHoliday'].value_counts()\n",
    "counts_df"
   ]
  },
  {
   "cell_type": "code",
   "execution_count": null,
   "id": "688d5778",
   "metadata": {},
   "outputs": [],
   "source": [
    "# unique value counts\n",
    "counts_df = train_df['SchoolHoliday'].value_counts()\n",
    "counts_df\n"
   ]
  },
  {
   "cell_type": "markdown",
   "id": "f3c04df0",
   "metadata": {},
   "source": [
    "# Bivariate Analysis"
   ]
  },
  {
   "cell_type": "markdown",
   "id": "caa5b299",
   "metadata": {},
   "source": [
    "#### State holidays and Sales"
   ]
  },
  {
   "cell_type": "code",
   "execution_count": null,
   "id": "e89546c0",
   "metadata": {},
   "outputs": [],
   "source": [
    "fig, (axis1,axis2) = plt.subplots(1,2,figsize=(12,4))\n",
    "\n",
    "# holidays and no_holidays\n",
    "sns.barplot(x='StateHoliday', y='Sales', data=train_df, ax=axis1).set_title('Comparison of sales during StateHolidays and ordinary days')\n",
    "\n",
    "# holidays only\n",
    "mask = (train_df[\"StateHoliday\"] != \"0\") & (train_df[\"Sales\"] > 0)\n",
    "sns.barplot(x='StateHoliday', y='Sales', data=train_df[mask], ax=axis2).set_title('Sales during Stateholidays')\n",
    "plt.show()"
   ]
  },
  {
   "cell_type": "markdown",
   "id": "a7d5f490",
   "metadata": {},
   "source": [
    "#### School Holidays with Sales and Customers"
   ]
  },
  {
   "cell_type": "code",
   "execution_count": null,
   "id": "ff8999a3",
   "metadata": {},
   "outputs": [],
   "source": [
    "fig, (axis1,axis2) = plt.subplots(1,2,figsize=(12,4))\n",
    "\n",
    "sns.barplot(x='SchoolHoliday', y='Sales', data=train_df, ax=axis1).set_title('Comparison of sales vs StateHoliday')\n",
    "sns.barplot(x='SchoolHoliday', y='Customers', data=train_df, ax=axis2).set_title('Comparison of customers vs StateHoliday')\n",
    "plt.show()"
   ]
  },
  {
   "cell_type": "markdown",
   "id": "1074e880",
   "metadata": {},
   "source": [
    "#### Store type with sales and customers"
   ]
  },
  {
   "cell_type": "code",
   "execution_count": null,
   "id": "c3766fb1",
   "metadata": {},
   "outputs": [],
   "source": [
    "fig, (axis1,axis2) = plt.subplots(1,2,figsize=(15,4))\n",
    "sns.barplot(x='StoreType', y='Sales', data=df, ax=axis1, palette = 'Set3', order=['a','b','c', 'd']).set_title('Sales across different StoreType')\n",
    "sns.barplot(x='StoreType', y='Customers', data=df, ax=axis2, palette = 'Set3', order=['a','b','c', 'd']).set_title('No. of customers across diffrent StoreType')\n",
    "plt.show()"
   ]
  },
  {
   "cell_type": "markdown",
   "id": "490a1c8a",
   "metadata": {},
   "source": [
    "#### Assortment with Sales and customers"
   ]
  },
  {
   "cell_type": "code",
   "execution_count": null,
   "id": "58340e1c",
   "metadata": {
    "scrolled": true
   },
   "outputs": [],
   "source": [
    "fig, (axis1,axis2) = plt.subplots(1,2,figsize=(15,4))\n",
    "\n",
    "sns.barplot(x='Assortment', y='Sales', data=df, palette = 'husl', order=['a','b','c'], ax=axis1).set_title('Sales across different assortment types')\n",
    "sns.barplot(x='Assortment', y='Customers', data=df, palette = 'husl', order=['a','b','c'], ax=axis2).set_title('Customers across different assortment types')\n",
    "plt.show()"
   ]
  },
  {
   "cell_type": "markdown",
   "id": "b83716f0",
   "metadata": {},
   "source": [
    "#### Day of week with sales and customers"
   ]
  },
  {
   "cell_type": "code",
   "execution_count": null,
   "id": "6b0a2959",
   "metadata": {},
   "outputs": [],
   "source": [
    "fig, (axis1,axis2) = plt.subplots(1,2,figsize=(15,4))\n",
    "sns.barplot(x='DayOfWeek', y='Sales', data=train_df, palette = 'RdBu_r', ax=axis1).set_title('Sales across different days of the week ')\n",
    "sns.barplot(x='DayOfWeek', y='Customers', data=train_df, palette = 'RdBu_r', ax=axis2).set_title('Customers across different days of the week ')\n",
    "plt.show()"
   ]
  },
  {
   "cell_type": "markdown",
   "id": "7ee63d56",
   "metadata": {},
   "source": [
    "#### Promo with sales and customers"
   ]
  },
  {
   "cell_type": "code",
   "execution_count": null,
   "id": "8bb6284b",
   "metadata": {},
   "outputs": [],
   "source": [
    "fig, (axis1,axis2) = plt.subplots(1,2,figsize=(15,4))\n",
    "\n",
    "sns.barplot(x='Promo', y='Sales', data=train_df, palette = 'Set1', ax=axis1).set_title('Sales across different Promo')\n",
    "sns.barplot(x='Promo', y='Customers', data=train_df, ax=axis2,  palette = 'Set1').set_title('Customers across different Promo')\n",
    "plt.show()"
   ]
  },
  {
   "cell_type": "markdown",
   "id": "0f563ece",
   "metadata": {},
   "source": [
    "#### Promo2 with Sales and Customers"
   ]
  },
  {
   "cell_type": "code",
   "execution_count": null,
   "id": "e441deb2",
   "metadata": {},
   "outputs": [],
   "source": [
    "flatui = [ \"#34495e\", \"#2ecc71\"]\n",
    "fig, (axis1,axis2) = plt.subplots(1,2,figsize=(15,4))\n",
    "\n",
    "sns.barplot(x='Promo2', y='Sales', data=df, ax=axis1, palette = flatui).set_title('Sales across different Promo2')\n",
    "sns.barplot(x='Promo2', y='Customers', data=df, ax=axis2, palette = flatui).set_title('Customers across different Promo2')\n",
    "plt.show()"
   ]
  },
  {
   "cell_type": "markdown",
   "id": "e9279699",
   "metadata": {},
   "source": [
    "#### Promo interval with sales and customers"
   ]
  },
  {
   "cell_type": "code",
   "execution_count": null,
   "id": "fe079872",
   "metadata": {},
   "outputs": [],
   "source": [
    "flatui = [\"#9b59b6\", \"#3498db\", \"#95a5a6\", \"#e74c3c\", \"#34495e\", \"#2ecc71\"]\n",
    "fig, (axis1,axis2) = plt.subplots(1,2,figsize=(15,4))\n",
    "\n",
    "# values with promo2 only\n",
    "mask = (df[\"Promo2\"] != 0)\n",
    "\n",
    "sns.barplot(x='PromoInterval', y='Sales', data=df[mask], ax=axis1, palette = flatui).set_title('Sales across different promo intervals')\n",
    "sns.barplot(x='PromoInterval', y='Customers', data=df[mask], ax=axis2, palette = flatui).set_title('Customers across different promo intervals')\n",
    "plt.show()"
   ]
  },
  {
   "cell_type": "markdown",
   "id": "68ad837a",
   "metadata": {},
   "source": [
    "#### Month and Sales"
   ]
  },
  {
   "cell_type": "code",
   "execution_count": null,
   "id": "2222403d",
   "metadata": {},
   "outputs": [],
   "source": [
    "sns.barplot(x='Month', y='Sales', data=df)\n",
    "plt.show()"
   ]
  },
  {
   "cell_type": "code",
   "execution_count": null,
   "id": "22e709cc",
   "metadata": {},
   "outputs": [],
   "source": [
    "a = df.groupby('Store').agg({\n",
    "    'CompetitionDistance': 'mean',\n",
    "    'Sales': 'mean',\n",
    "    'Customers': 'mean'\n",
    "})\n",
    "plt.subplots(figsize = (8, 7))\n",
    "sns.scatterplot(x='CompetitionDistance', y='Sales', data=a)\n",
    "plt.show()"
   ]
  },
  {
   "cell_type": "markdown",
   "id": "bf4f4254",
   "metadata": {},
   "source": [
    "# Correlation Analysis"
   ]
  },
  {
   "cell_type": "code",
   "execution_count": null,
   "id": "b2d82d8a",
   "metadata": {},
   "outputs": [],
   "source": [
    "f_most_correlated = df.corr().nlargest(8,'Sales')['Sales'].index\n",
    "f_correlation = df[f_most_correlated].corr()\n",
    "\n",
    "# Generate a mask for the upper triangle\n",
    "f_mask = np.zeros_like(f_correlation)\n",
    "f_mask[np.triu_indices_from(f_mask)] = True\n",
    "with sns.axes_style(\"white\"):\n",
    "    f_fig, f_ax = plt.subplots(figsize=(10, 8))\n",
    "    f_ax = sns.heatmap(f_correlation, mask=f_mask, vmin=0, vmax=1, square=True,\n",
    "                        annot=True, annot_kws={\"size\": 10}, cmap=\"BuPu\")\n",
    "plt.title('Top 7 features with highest correlation with sales')\n",
    "plt.show()"
   ]
  },
  {
   "cell_type": "markdown",
   "id": "50aa395d",
   "metadata": {},
   "source": [
    "# Filtering Data and Answering Business Questions\n",
    "\n",
    "##### Distribution of promotion in the training and test datasets"
   ]
  },
  {
   "cell_type": "code",
   "execution_count": null,
   "id": "a1adc6ee",
   "metadata": {},
   "outputs": [],
   "source": [
    "# reading test data\n",
    "test_df = pd.read_csv(\"../data/test.csv\")\n",
    "test_df.head(10)"
   ]
  },
  {
   "cell_type": "code",
   "execution_count": null,
   "id": "4185796f",
   "metadata": {},
   "outputs": [],
   "source": [
    "fig, ax = plt.subplots(1, 2, sharex=True, figsize=(12, 4))\n",
    "ax[0].set_title(\"Train\")\n",
    "sns.countplot(x='Promo', data=train_df, ax=ax[0])\n",
    "ax[1].set_title(\"Test\")\n",
    "sns.countplot(x='Promo', data=test_df, ax=ax[1])\n",
    "fig.subplots_adjust(wspace=0.5)\n",
    "fig.show()"
   ]
  },
  {
   "cell_type": "markdown",
   "id": "198a10a8",
   "metadata": {},
   "source": [
    "### Monthly sales trend per store type"
   ]
  },
  {
   "cell_type": "code",
   "execution_count": null,
   "id": "b65db3cd",
   "metadata": {},
   "outputs": [],
   "source": [
    "store_type_a = df[df.StoreType == 'a']\n",
    "store_type_b = df[df.StoreType == 'b']\n",
    "store_type_c = df[df.StoreType == 'c']\n",
    "store_type_d = df[df.StoreType == 'd']"
   ]
  },
  {
   "cell_type": "code",
   "execution_count": null,
   "id": "0b44f04a",
   "metadata": {},
   "outputs": [],
   "source": [
    "plt.subplots(figsize = (10, 9))\n",
    "sns.lineplot(x = store_type_a.Month, y = store_type_a.Sales, label=\"Store Type A\")\n",
    "sns.lineplot(x = store_type_b.Month, y = store_type_b.Sales, label=\"Store Type B\")\n",
    "sns.lineplot(x = store_type_c.Month, y = store_type_c.Sales, label=\"Store Type C\")\n",
    "sns.lineplot(x = store_type_d.Month, y = store_type_d.Sales, label=\"Store Type D\")\n",
    "plt.show()"
   ]
  },
  {
   "cell_type": "markdown",
   "id": "b73c3615",
   "metadata": {},
   "source": [
    "### Monthly sales per StoreType and Promo"
   ]
  },
  {
   "cell_type": "code",
   "execution_count": null,
   "id": "75f0fa3b",
   "metadata": {},
   "outputs": [],
   "source": [
    "sns.factorplot(data = df, x = 'Month', y = \"Sales\",\n",
    "               col = 'StoreType', # per store type in cols\n",
    "               palette = 'plasma',\n",
    "               hue = 'Promo',\n",
    "               col_order=['a','b','c', 'd'],\n",
    "               title='Promotion impact on sales per store types')\n",
    "plt.show()"
   ]
  },
  {
   "cell_type": "markdown",
   "id": "d25a6d5d",
   "metadata": {},
   "source": [
    "### Monthly customers per StoreType and Promo"
   ]
  },
  {
   "cell_type": "code",
   "execution_count": null,
   "id": "e19e870e",
   "metadata": {},
   "outputs": [],
   "source": [
    "sns.factorplot(data = df, x = 'Month', y = \"Customers\",\n",
    "               col = 'StoreType', # per store type in cols\n",
    "               palette = 'plasma',\n",
    "               hue = 'Promo',\n",
    "               col_order=['a','b','c', 'd'],\n",
    "               title='Promotion impact on sales per store types')\n",
    "plt.show()"
   ]
  },
  {
   "cell_type": "markdown",
   "id": "407c2c9f",
   "metadata": {},
   "source": [
    "### Monthly sales per Assortment and Promo"
   ]
  },
  {
   "cell_type": "code",
   "execution_count": null,
   "id": "9d1127a7",
   "metadata": {},
   "outputs": [],
   "source": [
    "sns.factorplot(data = df, x = 'Month', y = 'Sales', col='Assortment', hue='Promo', col_order=['a','b','c'])\n",
    "plt.show()"
   ]
  },
  {
   "cell_type": "markdown",
   "id": "4089a891",
   "metadata": {},
   "source": [
    "### Monthly customers per Assortment and Promo"
   ]
  },
  {
   "cell_type": "code",
   "execution_count": null,
   "id": "59a8f686",
   "metadata": {},
   "outputs": [],
   "source": [
    "sns.factorplot(data = df, x = 'Month', y = 'Customers', col='Assortment', hue='Promo', col_order=['a','b','c'])\n",
    "plt.show()"
   ]
  },
  {
   "cell_type": "markdown",
   "id": "2dcd13c0",
   "metadata": {},
   "source": [
    "### Sales of stores open per DayOfWeek and StoreType"
   ]
  },
  {
   "cell_type": "code",
   "execution_count": null,
   "id": "20005d02",
   "metadata": {},
   "outputs": [],
   "source": [
    "# stores that are open only\n",
    "mask = (df[\"Open\"] != 0)\n",
    "\n",
    "sns.factorplot(data = df[mask], x = 'DayOfWeek', y = 'Sales', col='StoreType', col_order=['a','b','c', 'd'])\n",
    "plt.show()"
   ]
  },
  {
   "cell_type": "markdown",
   "id": "bc962715",
   "metadata": {},
   "source": [
    "### Customers of stores open per DayOfWeek and Assortment"
   ]
  },
  {
   "cell_type": "code",
   "execution_count": null,
   "id": "d20cb3e9",
   "metadata": {},
   "outputs": [],
   "source": [
    "# stores that are open only\n",
    "mask = (df[\"Open\"] != 0)\n",
    "\n",
    "sns.factorplot(data = df[mask], x = 'DayOfWeek', y = 'Customers', col='Assortment', col_order=['a','b','c'])\n",
    "plt.show()"
   ]
  },
  {
   "cell_type": "markdown",
   "id": "e3f03391",
   "metadata": {},
   "source": [
    "### Conclusions of EDA\n",
    "\n",
    "- The most selling and crowded store type is b.\n",
    "- The most selling and crowded assortment is b.\n",
    "- Sales is highly correlated to customers.\n",
    "- For all stores, promotion leads to increase in Sales and Customers. But promotions have low impact on store type b and assortment b when comparing to the other store types and assortments. So promotions should be applied more in the other store types and assortments.\n",
    "- Store type b is the most opened store type on all weekdays and has its highest sales on sundays than the other days.\n",
    "- Assortment a and b are the most opened assortments on all weekdays and have their highest sales on sundays than the other days. The number of cusomers increase dramatically on sundays for assortment a while it is similar with other week days for assortment b."
   ]
  },
  {
   "cell_type": "markdown",
   "id": "400ee80d",
   "metadata": {},
   "source": []
  }
 ],
 "metadata": {
  "kernelspec": {
   "display_name": "Python 3 (ipykernel)",
   "language": "python",
   "name": "python3"
  },
  "language_info": {
   "codemirror_mode": {
    "name": "ipython",
    "version": 3
   },
   "file_extension": ".py",
   "mimetype": "text/x-python",
   "name": "python",
   "nbconvert_exporter": "python",
   "pygments_lexer": "ipython3",
   "version": "3.9.7"
  }
 },
 "nbformat": 4,
 "nbformat_minor": 5
}
