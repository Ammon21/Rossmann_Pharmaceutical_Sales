{
 "cells": [
  {
   "cell_type": "markdown",
   "id": "b8154f74",
   "metadata": {},
   "source": [
    "# Rossmann Pharmaceutical Sales"
   ]
  },
  {
   "cell_type": "markdown",
   "id": "3fcf9884",
   "metadata": {},
   "source": [
    "### Explanatory Data Analysis"
   ]
  },
  {
   "cell_type": "code",
   "execution_count": 1,
   "id": "e840da5d",
   "metadata": {},
   "outputs": [],
   "source": [
    "import numpy as np\n",
    "import pandas as pd\n",
    "import sys, os\n",
    "import warnings\n",
    "import matplotlib.pyplot as plt\n",
    "import seaborn as sns\n",
    "import plotly.express as px\n"
   ]
  },
  {
   "cell_type": "code",
   "execution_count": 2,
   "id": "c8df863d",
   "metadata": {},
   "outputs": [],
   "source": [
    "warnings.filterwarnings('ignore')\n",
    "pd.set_option('display.max_columns', 50)\n",
    "\n",
    "sys.path.append(os.path.abspath(os.path.join('../scripts')))\n",
    "from cleaner import *"
   ]
  },
  {
   "cell_type": "markdown",
   "id": "4742bc05",
   "metadata": {},
   "source": [
    "### Reading Data"
   ]
  },
  {
   "cell_type": "code",
   "execution_count": 3,
   "id": "e2b8d5ee",
   "metadata": {},
   "outputs": [
    {
     "data": {
      "text/html": [
       "<div>\n",
       "<style scoped>\n",
       "    .dataframe tbody tr th:only-of-type {\n",
       "        vertical-align: middle;\n",
       "    }\n",
       "\n",
       "    .dataframe tbody tr th {\n",
       "        vertical-align: top;\n",
       "    }\n",
       "\n",
       "    .dataframe thead th {\n",
       "        text-align: right;\n",
       "    }\n",
       "</style>\n",
       "<table border=\"1\" class=\"dataframe\">\n",
       "  <thead>\n",
       "    <tr style=\"text-align: right;\">\n",
       "      <th></th>\n",
       "      <th>Store</th>\n",
       "      <th>StoreType</th>\n",
       "      <th>Assortment</th>\n",
       "      <th>CompetitionDistance</th>\n",
       "      <th>CompetitionOpenSinceMonth</th>\n",
       "      <th>CompetitionOpenSinceYear</th>\n",
       "      <th>Promo2</th>\n",
       "      <th>Promo2SinceWeek</th>\n",
       "      <th>Promo2SinceYear</th>\n",
       "      <th>PromoInterval</th>\n",
       "    </tr>\n",
       "  </thead>\n",
       "  <tbody>\n",
       "    <tr>\n",
       "      <th>0</th>\n",
       "      <td>1</td>\n",
       "      <td>c</td>\n",
       "      <td>a</td>\n",
       "      <td>1270.0</td>\n",
       "      <td>9.0</td>\n",
       "      <td>2008.0</td>\n",
       "      <td>0</td>\n",
       "      <td>NaN</td>\n",
       "      <td>NaN</td>\n",
       "      <td>NaN</td>\n",
       "    </tr>\n",
       "    <tr>\n",
       "      <th>1</th>\n",
       "      <td>2</td>\n",
       "      <td>a</td>\n",
       "      <td>a</td>\n",
       "      <td>570.0</td>\n",
       "      <td>11.0</td>\n",
       "      <td>2007.0</td>\n",
       "      <td>1</td>\n",
       "      <td>13.0</td>\n",
       "      <td>2010.0</td>\n",
       "      <td>Jan,Apr,Jul,Oct</td>\n",
       "    </tr>\n",
       "    <tr>\n",
       "      <th>2</th>\n",
       "      <td>3</td>\n",
       "      <td>a</td>\n",
       "      <td>a</td>\n",
       "      <td>14130.0</td>\n",
       "      <td>12.0</td>\n",
       "      <td>2006.0</td>\n",
       "      <td>1</td>\n",
       "      <td>14.0</td>\n",
       "      <td>2011.0</td>\n",
       "      <td>Jan,Apr,Jul,Oct</td>\n",
       "    </tr>\n",
       "    <tr>\n",
       "      <th>3</th>\n",
       "      <td>4</td>\n",
       "      <td>c</td>\n",
       "      <td>c</td>\n",
       "      <td>620.0</td>\n",
       "      <td>9.0</td>\n",
       "      <td>2009.0</td>\n",
       "      <td>0</td>\n",
       "      <td>NaN</td>\n",
       "      <td>NaN</td>\n",
       "      <td>NaN</td>\n",
       "    </tr>\n",
       "    <tr>\n",
       "      <th>4</th>\n",
       "      <td>5</td>\n",
       "      <td>a</td>\n",
       "      <td>a</td>\n",
       "      <td>29910.0</td>\n",
       "      <td>4.0</td>\n",
       "      <td>2015.0</td>\n",
       "      <td>0</td>\n",
       "      <td>NaN</td>\n",
       "      <td>NaN</td>\n",
       "      <td>NaN</td>\n",
       "    </tr>\n",
       "    <tr>\n",
       "      <th>5</th>\n",
       "      <td>6</td>\n",
       "      <td>a</td>\n",
       "      <td>a</td>\n",
       "      <td>310.0</td>\n",
       "      <td>12.0</td>\n",
       "      <td>2013.0</td>\n",
       "      <td>0</td>\n",
       "      <td>NaN</td>\n",
       "      <td>NaN</td>\n",
       "      <td>NaN</td>\n",
       "    </tr>\n",
       "    <tr>\n",
       "      <th>6</th>\n",
       "      <td>7</td>\n",
       "      <td>a</td>\n",
       "      <td>c</td>\n",
       "      <td>24000.0</td>\n",
       "      <td>4.0</td>\n",
       "      <td>2013.0</td>\n",
       "      <td>0</td>\n",
       "      <td>NaN</td>\n",
       "      <td>NaN</td>\n",
       "      <td>NaN</td>\n",
       "    </tr>\n",
       "    <tr>\n",
       "      <th>7</th>\n",
       "      <td>8</td>\n",
       "      <td>a</td>\n",
       "      <td>a</td>\n",
       "      <td>7520.0</td>\n",
       "      <td>10.0</td>\n",
       "      <td>2014.0</td>\n",
       "      <td>0</td>\n",
       "      <td>NaN</td>\n",
       "      <td>NaN</td>\n",
       "      <td>NaN</td>\n",
       "    </tr>\n",
       "    <tr>\n",
       "      <th>8</th>\n",
       "      <td>9</td>\n",
       "      <td>a</td>\n",
       "      <td>c</td>\n",
       "      <td>2030.0</td>\n",
       "      <td>8.0</td>\n",
       "      <td>2000.0</td>\n",
       "      <td>0</td>\n",
       "      <td>NaN</td>\n",
       "      <td>NaN</td>\n",
       "      <td>NaN</td>\n",
       "    </tr>\n",
       "    <tr>\n",
       "      <th>9</th>\n",
       "      <td>10</td>\n",
       "      <td>a</td>\n",
       "      <td>a</td>\n",
       "      <td>3160.0</td>\n",
       "      <td>9.0</td>\n",
       "      <td>2009.0</td>\n",
       "      <td>0</td>\n",
       "      <td>NaN</td>\n",
       "      <td>NaN</td>\n",
       "      <td>NaN</td>\n",
       "    </tr>\n",
       "  </tbody>\n",
       "</table>\n",
       "</div>"
      ],
      "text/plain": [
       "   Store StoreType Assortment  CompetitionDistance  CompetitionOpenSinceMonth  \\\n",
       "0      1         c          a               1270.0                        9.0   \n",
       "1      2         a          a                570.0                       11.0   \n",
       "2      3         a          a              14130.0                       12.0   \n",
       "3      4         c          c                620.0                        9.0   \n",
       "4      5         a          a              29910.0                        4.0   \n",
       "5      6         a          a                310.0                       12.0   \n",
       "6      7         a          c              24000.0                        4.0   \n",
       "7      8         a          a               7520.0                       10.0   \n",
       "8      9         a          c               2030.0                        8.0   \n",
       "9     10         a          a               3160.0                        9.0   \n",
       "\n",
       "   CompetitionOpenSinceYear  Promo2  Promo2SinceWeek  Promo2SinceYear  \\\n",
       "0                    2008.0       0              NaN              NaN   \n",
       "1                    2007.0       1             13.0           2010.0   \n",
       "2                    2006.0       1             14.0           2011.0   \n",
       "3                    2009.0       0              NaN              NaN   \n",
       "4                    2015.0       0              NaN              NaN   \n",
       "5                    2013.0       0              NaN              NaN   \n",
       "6                    2013.0       0              NaN              NaN   \n",
       "7                    2014.0       0              NaN              NaN   \n",
       "8                    2000.0       0              NaN              NaN   \n",
       "9                    2009.0       0              NaN              NaN   \n",
       "\n",
       "     PromoInterval  \n",
       "0              NaN  \n",
       "1  Jan,Apr,Jul,Oct  \n",
       "2  Jan,Apr,Jul,Oct  \n",
       "3              NaN  \n",
       "4              NaN  \n",
       "5              NaN  \n",
       "6              NaN  \n",
       "7              NaN  \n",
       "8              NaN  \n",
       "9              NaN  "
      ]
     },
     "execution_count": 3,
     "metadata": {},
     "output_type": "execute_result"
    }
   ],
   "source": [
    "# reading the store csv file\n",
    "store_df = pd.read_csv(\"../data/store.csv\")\n",
    "store_df.head(10)\n"
   ]
  },
  {
   "cell_type": "code",
   "execution_count": 4,
   "id": "81d7dc6d",
   "metadata": {},
   "outputs": [
    {
     "data": {
      "text/html": [
       "<div>\n",
       "<style scoped>\n",
       "    .dataframe tbody tr th:only-of-type {\n",
       "        vertical-align: middle;\n",
       "    }\n",
       "\n",
       "    .dataframe tbody tr th {\n",
       "        vertical-align: top;\n",
       "    }\n",
       "\n",
       "    .dataframe thead th {\n",
       "        text-align: right;\n",
       "    }\n",
       "</style>\n",
       "<table border=\"1\" class=\"dataframe\">\n",
       "  <thead>\n",
       "    <tr style=\"text-align: right;\">\n",
       "      <th></th>\n",
       "      <th>Store</th>\n",
       "      <th>DayOfWeek</th>\n",
       "      <th>Date</th>\n",
       "      <th>Sales</th>\n",
       "      <th>Customers</th>\n",
       "      <th>Open</th>\n",
       "      <th>Promo</th>\n",
       "      <th>StateHoliday</th>\n",
       "      <th>SchoolHoliday</th>\n",
       "    </tr>\n",
       "  </thead>\n",
       "  <tbody>\n",
       "    <tr>\n",
       "      <th>0</th>\n",
       "      <td>1</td>\n",
       "      <td>5</td>\n",
       "      <td>2015-07-31</td>\n",
       "      <td>5263</td>\n",
       "      <td>555</td>\n",
       "      <td>1</td>\n",
       "      <td>1</td>\n",
       "      <td>0</td>\n",
       "      <td>1</td>\n",
       "    </tr>\n",
       "    <tr>\n",
       "      <th>1</th>\n",
       "      <td>2</td>\n",
       "      <td>5</td>\n",
       "      <td>2015-07-31</td>\n",
       "      <td>6064</td>\n",
       "      <td>625</td>\n",
       "      <td>1</td>\n",
       "      <td>1</td>\n",
       "      <td>0</td>\n",
       "      <td>1</td>\n",
       "    </tr>\n",
       "    <tr>\n",
       "      <th>2</th>\n",
       "      <td>3</td>\n",
       "      <td>5</td>\n",
       "      <td>2015-07-31</td>\n",
       "      <td>8314</td>\n",
       "      <td>821</td>\n",
       "      <td>1</td>\n",
       "      <td>1</td>\n",
       "      <td>0</td>\n",
       "      <td>1</td>\n",
       "    </tr>\n",
       "    <tr>\n",
       "      <th>3</th>\n",
       "      <td>4</td>\n",
       "      <td>5</td>\n",
       "      <td>2015-07-31</td>\n",
       "      <td>13995</td>\n",
       "      <td>1498</td>\n",
       "      <td>1</td>\n",
       "      <td>1</td>\n",
       "      <td>0</td>\n",
       "      <td>1</td>\n",
       "    </tr>\n",
       "    <tr>\n",
       "      <th>4</th>\n",
       "      <td>5</td>\n",
       "      <td>5</td>\n",
       "      <td>2015-07-31</td>\n",
       "      <td>4822</td>\n",
       "      <td>559</td>\n",
       "      <td>1</td>\n",
       "      <td>1</td>\n",
       "      <td>0</td>\n",
       "      <td>1</td>\n",
       "    </tr>\n",
       "    <tr>\n",
       "      <th>5</th>\n",
       "      <td>6</td>\n",
       "      <td>5</td>\n",
       "      <td>2015-07-31</td>\n",
       "      <td>5651</td>\n",
       "      <td>589</td>\n",
       "      <td>1</td>\n",
       "      <td>1</td>\n",
       "      <td>0</td>\n",
       "      <td>1</td>\n",
       "    </tr>\n",
       "    <tr>\n",
       "      <th>6</th>\n",
       "      <td>7</td>\n",
       "      <td>5</td>\n",
       "      <td>2015-07-31</td>\n",
       "      <td>15344</td>\n",
       "      <td>1414</td>\n",
       "      <td>1</td>\n",
       "      <td>1</td>\n",
       "      <td>0</td>\n",
       "      <td>1</td>\n",
       "    </tr>\n",
       "    <tr>\n",
       "      <th>7</th>\n",
       "      <td>8</td>\n",
       "      <td>5</td>\n",
       "      <td>2015-07-31</td>\n",
       "      <td>8492</td>\n",
       "      <td>833</td>\n",
       "      <td>1</td>\n",
       "      <td>1</td>\n",
       "      <td>0</td>\n",
       "      <td>1</td>\n",
       "    </tr>\n",
       "    <tr>\n",
       "      <th>8</th>\n",
       "      <td>9</td>\n",
       "      <td>5</td>\n",
       "      <td>2015-07-31</td>\n",
       "      <td>8565</td>\n",
       "      <td>687</td>\n",
       "      <td>1</td>\n",
       "      <td>1</td>\n",
       "      <td>0</td>\n",
       "      <td>1</td>\n",
       "    </tr>\n",
       "    <tr>\n",
       "      <th>9</th>\n",
       "      <td>10</td>\n",
       "      <td>5</td>\n",
       "      <td>2015-07-31</td>\n",
       "      <td>7185</td>\n",
       "      <td>681</td>\n",
       "      <td>1</td>\n",
       "      <td>1</td>\n",
       "      <td>0</td>\n",
       "      <td>1</td>\n",
       "    </tr>\n",
       "  </tbody>\n",
       "</table>\n",
       "</div>"
      ],
      "text/plain": [
       "   Store  DayOfWeek        Date  Sales  Customers  Open  Promo StateHoliday  \\\n",
       "0      1          5  2015-07-31   5263        555     1      1            0   \n",
       "1      2          5  2015-07-31   6064        625     1      1            0   \n",
       "2      3          5  2015-07-31   8314        821     1      1            0   \n",
       "3      4          5  2015-07-31  13995       1498     1      1            0   \n",
       "4      5          5  2015-07-31   4822        559     1      1            0   \n",
       "5      6          5  2015-07-31   5651        589     1      1            0   \n",
       "6      7          5  2015-07-31  15344       1414     1      1            0   \n",
       "7      8          5  2015-07-31   8492        833     1      1            0   \n",
       "8      9          5  2015-07-31   8565        687     1      1            0   \n",
       "9     10          5  2015-07-31   7185        681     1      1            0   \n",
       "\n",
       "   SchoolHoliday  \n",
       "0              1  \n",
       "1              1  \n",
       "2              1  \n",
       "3              1  \n",
       "4              1  \n",
       "5              1  \n",
       "6              1  \n",
       "7              1  \n",
       "8              1  \n",
       "9              1  "
      ]
     },
     "execution_count": 4,
     "metadata": {},
     "output_type": "execute_result"
    }
   ],
   "source": [
    "# reading the sales training csv file\n",
    "train_df = pd.read_csv(\"../data/train.csv\")\n",
    "train_df.head(10)"
   ]
  },
  {
   "cell_type": "code",
   "execution_count": 5,
   "id": "c64c2ad5",
   "metadata": {},
   "outputs": [
    {
     "data": {
      "text/plain": [
       "11150"
      ]
     },
     "execution_count": 5,
     "metadata": {},
     "output_type": "execute_result"
    }
   ],
   "source": [
    "# number of elements in the store df\n",
    "store_df.size"
   ]
  },
  {
   "cell_type": "code",
   "execution_count": 6,
   "id": "4c35a100",
   "metadata": {},
   "outputs": [
    {
     "data": {
      "text/plain": [
       "(1115, 10)"
      ]
     },
     "execution_count": 6,
     "metadata": {},
     "output_type": "execute_result"
    }
   ],
   "source": [
    "# rows and columns in the df\n",
    "store_df.shape"
   ]
  },
  {
   "cell_type": "code",
   "execution_count": 7,
   "id": "e17120d5",
   "metadata": {},
   "outputs": [
    {
     "name": "stdout",
     "output_type": "stream",
     "text": [
      "<class 'pandas.core.frame.DataFrame'>\n",
      "RangeIndex: 1115 entries, 0 to 1114\n",
      "Data columns (total 10 columns):\n",
      " #   Column                     Non-Null Count  Dtype  \n",
      "---  ------                     --------------  -----  \n",
      " 0   Store                      1115 non-null   int64  \n",
      " 1   StoreType                  1115 non-null   object \n",
      " 2   Assortment                 1115 non-null   object \n",
      " 3   CompetitionDistance        1112 non-null   float64\n",
      " 4   CompetitionOpenSinceMonth  761 non-null    float64\n",
      " 5   CompetitionOpenSinceYear   761 non-null    float64\n",
      " 6   Promo2                     1115 non-null   int64  \n",
      " 7   Promo2SinceWeek            571 non-null    float64\n",
      " 8   Promo2SinceYear            571 non-null    float64\n",
      " 9   PromoInterval              571 non-null    object \n",
      "dtypes: float64(5), int64(2), object(3)\n",
      "memory usage: 87.2+ KB\n"
     ]
    }
   ],
   "source": [
    "store_df.info()"
   ]
  },
  {
   "cell_type": "code",
   "execution_count": 8,
   "id": "6051d7c1",
   "metadata": {},
   "outputs": [
    {
     "data": {
      "text/plain": [
       "9154881"
      ]
     },
     "execution_count": 8,
     "metadata": {},
     "output_type": "execute_result"
    }
   ],
   "source": [
    "# number of elements in the train df\n",
    "train_df.size"
   ]
  },
  {
   "cell_type": "code",
   "execution_count": 9,
   "id": "90706043",
   "metadata": {},
   "outputs": [
    {
     "data": {
      "text/plain": [
       "(1017209, 9)"
      ]
     },
     "execution_count": 9,
     "metadata": {},
     "output_type": "execute_result"
    }
   ],
   "source": [
    "# rows and columns in the df\n",
    "train_df.shape"
   ]
  },
  {
   "cell_type": "code",
   "execution_count": 10,
   "id": "84397cc7",
   "metadata": {},
   "outputs": [
    {
     "name": "stdout",
     "output_type": "stream",
     "text": [
      "<class 'pandas.core.frame.DataFrame'>\n",
      "RangeIndex: 1017209 entries, 0 to 1017208\n",
      "Data columns (total 9 columns):\n",
      " #   Column         Non-Null Count    Dtype \n",
      "---  ------         --------------    ----- \n",
      " 0   Store          1017209 non-null  int64 \n",
      " 1   DayOfWeek      1017209 non-null  int64 \n",
      " 2   Date           1017209 non-null  object\n",
      " 3   Sales          1017209 non-null  int64 \n",
      " 4   Customers      1017209 non-null  int64 \n",
      " 5   Open           1017209 non-null  int64 \n",
      " 6   Promo          1017209 non-null  int64 \n",
      " 7   StateHoliday   1017209 non-null  object\n",
      " 8   SchoolHoliday  1017209 non-null  int64 \n",
      "dtypes: int64(7), object(2)\n",
      "memory usage: 69.8+ MB\n"
     ]
    }
   ],
   "source": [
    "train_df.info()"
   ]
  },
  {
   "cell_type": "markdown",
   "id": "aff55d1f",
   "metadata": {},
   "source": [
    "### Missing Values"
   ]
  },
  {
   "cell_type": "code",
   "execution_count": 11,
   "id": "09be3508",
   "metadata": {},
   "outputs": [
    {
     "name": "stdout",
     "output_type": "stream",
     "text": [
      "The dataset contains 21.01 % missing values.\n"
     ]
    }
   ],
   "source": [
    "percent_missing_values(store_df)"
   ]
  },
  {
   "cell_type": "code",
   "execution_count": 12,
   "id": "500d5811",
   "metadata": {},
   "outputs": [
    {
     "name": "stdout",
     "output_type": "stream",
     "text": [
      "Your selected dataframe has 10 columns.\n",
      "There are 6 columns that have missing values.\n"
     ]
    }
   ],
   "source": [
    "missing_df = missing_values_table(store_df)"
   ]
  },
  {
   "cell_type": "code",
   "execution_count": 13,
   "id": "445db0cf",
   "metadata": {},
   "outputs": [
    {
     "data": {
      "text/html": [
       "<div>\n",
       "<style scoped>\n",
       "    .dataframe tbody tr th:only-of-type {\n",
       "        vertical-align: middle;\n",
       "    }\n",
       "\n",
       "    .dataframe tbody tr th {\n",
       "        vertical-align: top;\n",
       "    }\n",
       "\n",
       "    .dataframe thead th {\n",
       "        text-align: right;\n",
       "    }\n",
       "</style>\n",
       "<table border=\"1\" class=\"dataframe\">\n",
       "  <thead>\n",
       "    <tr style=\"text-align: right;\">\n",
       "      <th></th>\n",
       "      <th>Missing Values</th>\n",
       "      <th>% of Total Values</th>\n",
       "      <th>Dtype</th>\n",
       "    </tr>\n",
       "  </thead>\n",
       "  <tbody>\n",
       "    <tr>\n",
       "      <th>Promo2SinceWeek</th>\n",
       "      <td>544</td>\n",
       "      <td>48.79</td>\n",
       "      <td>float64</td>\n",
       "    </tr>\n",
       "    <tr>\n",
       "      <th>Promo2SinceYear</th>\n",
       "      <td>544</td>\n",
       "      <td>48.79</td>\n",
       "      <td>float64</td>\n",
       "    </tr>\n",
       "    <tr>\n",
       "      <th>PromoInterval</th>\n",
       "      <td>544</td>\n",
       "      <td>48.79</td>\n",
       "      <td>object</td>\n",
       "    </tr>\n",
       "    <tr>\n",
       "      <th>CompetitionOpenSinceMonth</th>\n",
       "      <td>354</td>\n",
       "      <td>31.75</td>\n",
       "      <td>float64</td>\n",
       "    </tr>\n",
       "    <tr>\n",
       "      <th>CompetitionOpenSinceYear</th>\n",
       "      <td>354</td>\n",
       "      <td>31.75</td>\n",
       "      <td>float64</td>\n",
       "    </tr>\n",
       "    <tr>\n",
       "      <th>CompetitionDistance</th>\n",
       "      <td>3</td>\n",
       "      <td>0.27</td>\n",
       "      <td>float64</td>\n",
       "    </tr>\n",
       "  </tbody>\n",
       "</table>\n",
       "</div>"
      ],
      "text/plain": [
       "                           Missing Values  % of Total Values    Dtype\n",
       "Promo2SinceWeek                       544              48.79  float64\n",
       "Promo2SinceYear                       544              48.79  float64\n",
       "PromoInterval                         544              48.79   object\n",
       "CompetitionOpenSinceMonth             354              31.75  float64\n",
       "CompetitionOpenSinceYear              354              31.75  float64\n",
       "CompetitionDistance                     3               0.27  float64"
      ]
     },
     "execution_count": 13,
     "metadata": {},
     "output_type": "execute_result"
    }
   ],
   "source": [
    "missing_df"
   ]
  },
  {
   "cell_type": "code",
   "execution_count": 14,
   "id": "3d44b2a7",
   "metadata": {},
   "outputs": [
    {
     "data": {
      "text/plain": [
       "75860.0"
      ]
     },
     "execution_count": 14,
     "metadata": {},
     "output_type": "execute_result"
    }
   ],
   "source": [
    "max_dist = store_df['CompetitionDistance'].max()\n",
    "max_dist"
   ]
  },
  {
   "cell_type": "code",
   "execution_count": 15,
   "id": "3158a665",
   "metadata": {},
   "outputs": [
    {
     "name": "stdout",
     "output_type": "stream",
     "text": [
      "3 missing values in the column CompetitionDistance have been replaced by 75860.0.\n"
     ]
    }
   ],
   "source": [
    "fix_missing_value(store_df, ['CompetitionDistance'], max_dist)"
   ]
  },
  {
   "cell_type": "code",
   "execution_count": 16,
   "id": "62d45562",
   "metadata": {},
   "outputs": [
    {
     "name": "stdout",
     "output_type": "stream",
     "text": [
      "The dataset contains 20.99 % missing values.\n"
     ]
    }
   ],
   "source": [
    "# final check for missing values\n",
    "percent_missing_values(store_df)"
   ]
  },
  {
   "cell_type": "code",
   "execution_count": 17,
   "id": "009fc5a3",
   "metadata": {},
   "outputs": [
    {
     "data": {
      "text/plain": [
       "1900.0"
      ]
     },
     "execution_count": 17,
     "metadata": {},
     "output_type": "execute_result"
    }
   ],
   "source": [
    "min_year = store_df['CompetitionOpenSinceYear'].min()\n",
    "min_year"
   ]
  },
  {
   "cell_type": "code",
   "execution_count": 18,
   "id": "36f5a371",
   "metadata": {},
   "outputs": [
    {
     "name": "stdout",
     "output_type": "stream",
     "text": [
      "354 missing values in the column CompetitionOpenSinceYear have been replaced by 1900.0.\n",
      "354 missing values in the column CompetitionOpenSinceMonth have been replaced by 1.\n"
     ]
    }
   ],
   "source": [
    "# impute the column CompetitionOpenSinceYear with 1900 and the column CompetitionOpenSinceMonth with 1\n",
    "fix_missing_value(store_df, ['CompetitionOpenSinceYear'], min_year)\n",
    "fix_missing_value(store_df, ['CompetitionOpenSinceMonth'], 1)"
   ]
  },
  {
   "cell_type": "code",
   "execution_count": 19,
   "id": "d3fbc8ee",
   "metadata": {},
   "outputs": [
    {
     "name": "stdout",
     "output_type": "stream",
     "text": [
      "544 missing values in the column Promo2SinceWeek have been replaced by 0.\n",
      "544 missing values in the column Promo2SinceYear have been replaced by 0.\n"
     ]
    }
   ],
   "source": [
    "fix_missing_value(store_df, ['Promo2SinceWeek', 'Promo2SinceYear'], 0)"
   ]
  },
  {
   "cell_type": "code",
   "execution_count": 20,
   "id": "8a30e76b",
   "metadata": {},
   "outputs": [
    {
     "name": "stdout",
     "output_type": "stream",
     "text": [
      "544 missing values in the column PromoInterval have been replaced by 0,0,0,0.\n"
     ]
    }
   ],
   "source": [
    "fix_missing_value(store_df, ['PromoInterval'], '0,0,0,0')"
   ]
  },
  {
   "cell_type": "code",
   "execution_count": 21,
   "id": "287daf4d",
   "metadata": {},
   "outputs": [
    {
     "name": "stdout",
     "output_type": "stream",
     "text": [
      "The dataset contains 0.0 % missing values.\n"
     ]
    }
   ],
   "source": [
    "# final check for missing values\n",
    "percent_missing_values(store_df)"
   ]
  },
  {
   "cell_type": "code",
   "execution_count": 22,
   "id": "8a0248ef",
   "metadata": {},
   "outputs": [
    {
     "name": "stdout",
     "output_type": "stream",
     "text": [
      "The dataset contains 0.0 % missing values.\n"
     ]
    }
   ],
   "source": [
    "percent_missing_values(train_df)"
   ]
  },
  {
   "cell_type": "markdown",
   "id": "28c0da9c",
   "metadata": {},
   "source": [
    "## Data Types"
   ]
  },
  {
   "cell_type": "code",
   "execution_count": 24,
   "id": "9f3655ae",
   "metadata": {},
   "outputs": [
    {
     "data": {
      "text/plain": [
       "Store                          int64\n",
       "StoreType                     object\n",
       "Assortment                    object\n",
       "CompetitionDistance          float64\n",
       "CompetitionOpenSinceMonth    float64\n",
       "CompetitionOpenSinceYear     float64\n",
       "Promo2                         int64\n",
       "Promo2SinceWeek              float64\n",
       "Promo2SinceYear              float64\n",
       "PromoInterval                 object\n",
       "dtype: object"
      ]
     },
     "execution_count": 24,
     "metadata": {},
     "output_type": "execute_result"
    }
   ],
   "source": [
    "store_df.dtypes"
   ]
  },
  {
   "cell_type": "code",
   "execution_count": 25,
   "id": "93ff3684",
   "metadata": {},
   "outputs": [
    {
     "data": {
      "text/html": [
       "<div>\n",
       "<style scoped>\n",
       "    .dataframe tbody tr th:only-of-type {\n",
       "        vertical-align: middle;\n",
       "    }\n",
       "\n",
       "    .dataframe tbody tr th {\n",
       "        vertical-align: top;\n",
       "    }\n",
       "\n",
       "    .dataframe thead th {\n",
       "        text-align: right;\n",
       "    }\n",
       "</style>\n",
       "<table border=\"1\" class=\"dataframe\">\n",
       "  <thead>\n",
       "    <tr style=\"text-align: right;\">\n",
       "      <th></th>\n",
       "      <th>Store</th>\n",
       "      <th>StoreType</th>\n",
       "      <th>Assortment</th>\n",
       "      <th>CompetitionDistance</th>\n",
       "      <th>CompetitionOpenSinceMonth</th>\n",
       "      <th>CompetitionOpenSinceYear</th>\n",
       "      <th>Promo2</th>\n",
       "      <th>Promo2SinceWeek</th>\n",
       "      <th>Promo2SinceYear</th>\n",
       "      <th>PromoInterval</th>\n",
       "    </tr>\n",
       "  </thead>\n",
       "  <tbody>\n",
       "    <tr>\n",
       "      <th>0</th>\n",
       "      <td>1</td>\n",
       "      <td>c</td>\n",
       "      <td>a</td>\n",
       "      <td>1270.0</td>\n",
       "      <td>9.0</td>\n",
       "      <td>2008.0</td>\n",
       "      <td>0</td>\n",
       "      <td>0.0</td>\n",
       "      <td>0.0</td>\n",
       "      <td>0,0,0,0</td>\n",
       "    </tr>\n",
       "    <tr>\n",
       "      <th>1</th>\n",
       "      <td>2</td>\n",
       "      <td>a</td>\n",
       "      <td>a</td>\n",
       "      <td>570.0</td>\n",
       "      <td>11.0</td>\n",
       "      <td>2007.0</td>\n",
       "      <td>1</td>\n",
       "      <td>13.0</td>\n",
       "      <td>2010.0</td>\n",
       "      <td>Jan,Apr,Jul,Oct</td>\n",
       "    </tr>\n",
       "    <tr>\n",
       "      <th>2</th>\n",
       "      <td>3</td>\n",
       "      <td>a</td>\n",
       "      <td>a</td>\n",
       "      <td>14130.0</td>\n",
       "      <td>12.0</td>\n",
       "      <td>2006.0</td>\n",
       "      <td>1</td>\n",
       "      <td>14.0</td>\n",
       "      <td>2011.0</td>\n",
       "      <td>Jan,Apr,Jul,Oct</td>\n",
       "    </tr>\n",
       "    <tr>\n",
       "      <th>3</th>\n",
       "      <td>4</td>\n",
       "      <td>c</td>\n",
       "      <td>c</td>\n",
       "      <td>620.0</td>\n",
       "      <td>9.0</td>\n",
       "      <td>2009.0</td>\n",
       "      <td>0</td>\n",
       "      <td>0.0</td>\n",
       "      <td>0.0</td>\n",
       "      <td>0,0,0,0</td>\n",
       "    </tr>\n",
       "    <tr>\n",
       "      <th>4</th>\n",
       "      <td>5</td>\n",
       "      <td>a</td>\n",
       "      <td>a</td>\n",
       "      <td>29910.0</td>\n",
       "      <td>4.0</td>\n",
       "      <td>2015.0</td>\n",
       "      <td>0</td>\n",
       "      <td>0.0</td>\n",
       "      <td>0.0</td>\n",
       "      <td>0,0,0,0</td>\n",
       "    </tr>\n",
       "  </tbody>\n",
       "</table>\n",
       "</div>"
      ],
      "text/plain": [
       "   Store StoreType Assortment  CompetitionDistance  CompetitionOpenSinceMonth  \\\n",
       "0      1         c          a               1270.0                        9.0   \n",
       "1      2         a          a                570.0                       11.0   \n",
       "2      3         a          a              14130.0                       12.0   \n",
       "3      4         c          c                620.0                        9.0   \n",
       "4      5         a          a              29910.0                        4.0   \n",
       "\n",
       "   CompetitionOpenSinceYear  Promo2  Promo2SinceWeek  Promo2SinceYear  \\\n",
       "0                    2008.0       0              0.0              0.0   \n",
       "1                    2007.0       1             13.0           2010.0   \n",
       "2                    2006.0       1             14.0           2011.0   \n",
       "3                    2009.0       0              0.0              0.0   \n",
       "4                    2015.0       0              0.0              0.0   \n",
       "\n",
       "     PromoInterval  \n",
       "0          0,0,0,0  \n",
       "1  Jan,Apr,Jul,Oct  \n",
       "2  Jan,Apr,Jul,Oct  \n",
       "3          0,0,0,0  \n",
       "4          0,0,0,0  "
      ]
     },
     "execution_count": 25,
     "metadata": {},
     "output_type": "execute_result"
    }
   ],
   "source": [
    "store_df.head()"
   ]
  },
  {
   "cell_type": "markdown",
   "id": "352f7c70",
   "metadata": {},
   "source": [
    "##### StoreType, Assortment and PromoInterval hold string values. we will change this object types to string."
   ]
  },
  {
   "cell_type": "code",
   "execution_count": 26,
   "id": "8d6a3491",
   "metadata": {},
   "outputs": [
    {
     "data": {
      "text/plain": [
       "['StoreType', 'Assortment', 'PromoInterval']"
      ]
     },
     "execution_count": 26,
     "metadata": {},
     "output_type": "execute_result"
    }
   ],
   "source": [
    "# get the columns with object data type\n",
    "string_columns = store_df.select_dtypes(include='object').columns.tolist()\n",
    "string_columns"
   ]
  },
  {
   "cell_type": "code",
   "execution_count": 27,
   "id": "18f60718",
   "metadata": {},
   "outputs": [],
   "source": [
    "convert_to_string(store_df, string_columns)"
   ]
  },
  {
   "cell_type": "code",
   "execution_count": 28,
   "id": "a7120aec",
   "metadata": {},
   "outputs": [],
   "source": [
    "convert_to_int(store_df, ['CompetitionOpenSinceMonth',  'CompetitionOpenSinceYear',\n",
    "        'Promo2SinceWeek', 'Promo2SinceYear'])"
   ]
  },
  {
   "cell_type": "code",
   "execution_count": 29,
   "id": "6f8e3503",
   "metadata": {},
   "outputs": [
    {
     "data": {
      "text/plain": [
       "Store                          int64\n",
       "StoreType                     string\n",
       "Assortment                    string\n",
       "CompetitionDistance          float64\n",
       "CompetitionOpenSinceMonth      int64\n",
       "CompetitionOpenSinceYear       int64\n",
       "Promo2                         int64\n",
       "Promo2SinceWeek                int64\n",
       "Promo2SinceYear                int64\n",
       "PromoInterval                 string\n",
       "dtype: object"
      ]
     },
     "execution_count": 29,
     "metadata": {},
     "output_type": "execute_result"
    }
   ],
   "source": [
    "store_df.dtypes"
   ]
  },
  {
   "cell_type": "code",
   "execution_count": 30,
   "id": "1bb17d34",
   "metadata": {},
   "outputs": [
    {
     "data": {
      "text/html": [
       "<div>\n",
       "<style scoped>\n",
       "    .dataframe tbody tr th:only-of-type {\n",
       "        vertical-align: middle;\n",
       "    }\n",
       "\n",
       "    .dataframe tbody tr th {\n",
       "        vertical-align: top;\n",
       "    }\n",
       "\n",
       "    .dataframe thead th {\n",
       "        text-align: right;\n",
       "    }\n",
       "</style>\n",
       "<table border=\"1\" class=\"dataframe\">\n",
       "  <thead>\n",
       "    <tr style=\"text-align: right;\">\n",
       "      <th></th>\n",
       "      <th>Store</th>\n",
       "      <th>StoreType</th>\n",
       "      <th>Assortment</th>\n",
       "      <th>CompetitionDistance</th>\n",
       "      <th>CompetitionOpenSinceMonth</th>\n",
       "      <th>CompetitionOpenSinceYear</th>\n",
       "      <th>Promo2</th>\n",
       "      <th>Promo2SinceWeek</th>\n",
       "      <th>Promo2SinceYear</th>\n",
       "      <th>PromoInterval</th>\n",
       "    </tr>\n",
       "  </thead>\n",
       "  <tbody>\n",
       "    <tr>\n",
       "      <th>0</th>\n",
       "      <td>1</td>\n",
       "      <td>c</td>\n",
       "      <td>a</td>\n",
       "      <td>1270.0</td>\n",
       "      <td>9</td>\n",
       "      <td>2008</td>\n",
       "      <td>0</td>\n",
       "      <td>0</td>\n",
       "      <td>0</td>\n",
       "      <td>0,0,0,0</td>\n",
       "    </tr>\n",
       "    <tr>\n",
       "      <th>1</th>\n",
       "      <td>2</td>\n",
       "      <td>a</td>\n",
       "      <td>a</td>\n",
       "      <td>570.0</td>\n",
       "      <td>11</td>\n",
       "      <td>2007</td>\n",
       "      <td>1</td>\n",
       "      <td>13</td>\n",
       "      <td>2010</td>\n",
       "      <td>Jan,Apr,Jul,Oct</td>\n",
       "    </tr>\n",
       "    <tr>\n",
       "      <th>2</th>\n",
       "      <td>3</td>\n",
       "      <td>a</td>\n",
       "      <td>a</td>\n",
       "      <td>14130.0</td>\n",
       "      <td>12</td>\n",
       "      <td>2006</td>\n",
       "      <td>1</td>\n",
       "      <td>14</td>\n",
       "      <td>2011</td>\n",
       "      <td>Jan,Apr,Jul,Oct</td>\n",
       "    </tr>\n",
       "    <tr>\n",
       "      <th>3</th>\n",
       "      <td>4</td>\n",
       "      <td>c</td>\n",
       "      <td>c</td>\n",
       "      <td>620.0</td>\n",
       "      <td>9</td>\n",
       "      <td>2009</td>\n",
       "      <td>0</td>\n",
       "      <td>0</td>\n",
       "      <td>0</td>\n",
       "      <td>0,0,0,0</td>\n",
       "    </tr>\n",
       "    <tr>\n",
       "      <th>4</th>\n",
       "      <td>5</td>\n",
       "      <td>a</td>\n",
       "      <td>a</td>\n",
       "      <td>29910.0</td>\n",
       "      <td>4</td>\n",
       "      <td>2015</td>\n",
       "      <td>0</td>\n",
       "      <td>0</td>\n",
       "      <td>0</td>\n",
       "      <td>0,0,0,0</td>\n",
       "    </tr>\n",
       "  </tbody>\n",
       "</table>\n",
       "</div>"
      ],
      "text/plain": [
       "   Store StoreType Assortment  CompetitionDistance  CompetitionOpenSinceMonth  \\\n",
       "0      1         c          a               1270.0                          9   \n",
       "1      2         a          a                570.0                         11   \n",
       "2      3         a          a              14130.0                         12   \n",
       "3      4         c          c                620.0                          9   \n",
       "4      5         a          a              29910.0                          4   \n",
       "\n",
       "   CompetitionOpenSinceYear  Promo2  Promo2SinceWeek  Promo2SinceYear  \\\n",
       "0                      2008       0                0                0   \n",
       "1                      2007       1               13             2010   \n",
       "2                      2006       1               14             2011   \n",
       "3                      2009       0                0                0   \n",
       "4                      2015       0                0                0   \n",
       "\n",
       "     PromoInterval  \n",
       "0          0,0,0,0  \n",
       "1  Jan,Apr,Jul,Oct  \n",
       "2  Jan,Apr,Jul,Oct  \n",
       "3          0,0,0,0  \n",
       "4          0,0,0,0  "
      ]
     },
     "execution_count": 30,
     "metadata": {},
     "output_type": "execute_result"
    }
   ],
   "source": [
    "store_df.head()"
   ]
  },
  {
   "cell_type": "code",
   "execution_count": 31,
   "id": "c5134471",
   "metadata": {},
   "outputs": [
    {
     "data": {
      "text/plain": [
       "0    855087\n",
       "0    131072\n",
       "a     20260\n",
       "b      6690\n",
       "c      4100\n",
       "Name: StateHoliday, dtype: int64"
      ]
     },
     "execution_count": 31,
     "metadata": {},
     "output_type": "execute_result"
    }
   ],
   "source": [
    "train_df['StateHoliday'].value_counts()"
   ]
  },
  {
   "cell_type": "code",
   "execution_count": 32,
   "id": "8ebfc150",
   "metadata": {},
   "outputs": [
    {
     "data": {
      "text/plain": [
       "Index(['0', 0, 'a', 'b', 'c'], dtype='object')"
      ]
     },
     "execution_count": 32,
     "metadata": {},
     "output_type": "execute_result"
    }
   ],
   "source": [
    "train_df['StateHoliday'].value_counts().index\n"
   ]
  },
  {
   "cell_type": "markdown",
   "id": "c4516b18",
   "metadata": {},
   "source": [
    "#### Here 0 is represented as an integer and a string. Since there are other string values we will convert the StateHoliday column into string.\n",
    "\n",
    "\n"
   ]
  },
  {
   "cell_type": "code",
   "execution_count": 33,
   "id": "2817068c",
   "metadata": {},
   "outputs": [],
   "source": [
    "convert_to_string(train_df, ['StateHoliday'])"
   ]
  },
  {
   "cell_type": "code",
   "execution_count": 34,
   "id": "989e5df2",
   "metadata": {},
   "outputs": [
    {
     "data": {
      "text/plain": [
       "Store             int64\n",
       "DayOfWeek         int64\n",
       "Date             object\n",
       "Sales             int64\n",
       "Customers         int64\n",
       "Open              int64\n",
       "Promo             int64\n",
       "StateHoliday     string\n",
       "SchoolHoliday     int64\n",
       "dtype: object"
      ]
     },
     "execution_count": 34,
     "metadata": {},
     "output_type": "execute_result"
    }
   ],
   "source": [
    "train_df.dtypes"
   ]
  },
  {
   "cell_type": "code",
   "execution_count": 35,
   "id": "7026fc7d",
   "metadata": {},
   "outputs": [],
   "source": [
    "convert_to_datetime(train_df, ['Date'])"
   ]
  },
  {
   "cell_type": "code",
   "execution_count": 36,
   "id": "bc3ac983",
   "metadata": {},
   "outputs": [
    {
     "data": {
      "text/plain": [
       "Store                     int64\n",
       "DayOfWeek                 int64\n",
       "Date             datetime64[ns]\n",
       "Sales                     int64\n",
       "Customers                 int64\n",
       "Open                      int64\n",
       "Promo                     int64\n",
       "StateHoliday             string\n",
       "SchoolHoliday             int64\n",
       "dtype: object"
      ]
     },
     "execution_count": 36,
     "metadata": {},
     "output_type": "execute_result"
    }
   ],
   "source": [
    "train_df.dtypes"
   ]
  },
  {
   "cell_type": "markdown",
   "id": "24aa1c15",
   "metadata": {},
   "source": [
    "## Duplicates"
   ]
  },
  {
   "cell_type": "code",
   "execution_count": 37,
   "id": "b0c8f9e3",
   "metadata": {},
   "outputs": [
    {
     "name": "stdout",
     "output_type": "stream",
     "text": [
      "No duplicate rows were found.\n"
     ]
    }
   ],
   "source": [
    "# search for duplicate rows and drop them\n",
    "drop_duplicates(store_df)"
   ]
  },
  {
   "cell_type": "code",
   "execution_count": 38,
   "id": "9983fbc0",
   "metadata": {},
   "outputs": [
    {
     "name": "stdout",
     "output_type": "stream",
     "text": [
      "No duplicate rows were found.\n"
     ]
    }
   ],
   "source": [
    "# search for duplicate rows and drop them\n",
    "drop_duplicates(train_df)"
   ]
  },
  {
   "cell_type": "markdown",
   "id": "2da895d2",
   "metadata": {},
   "source": [
    "# Feature Engineering"
   ]
  },
  {
   "cell_type": "code",
   "execution_count": 140,
   "id": "f41cab85",
   "metadata": {},
   "outputs": [],
   "source": [
    "train_df['Year'] = train_df['Date'].apply(lambda x: x.year)\n",
    "train_df['Month'] = train_df['Date'].apply(lambda x: x.month)\n",
    "train_df['DayOfMonth'] = train_df['Date'].apply(lambda x: x.day)\n",
    "train_df['WeekOfYear'] = train_df['Date'].apply(lambda x: x.weekofyear)\n",
    "train_df['weekday'] = train_df['DayOfWeek'].apply(lambda x: 0 if (x in [6, 7]) else 1)"
   ]
  },
  {
   "cell_type": "code",
   "execution_count": 141,
   "id": "3059666a",
   "metadata": {},
   "outputs": [
    {
     "name": "stdout",
     "output_type": "stream",
     "text": [
      "<class 'pandas.core.frame.DataFrame'>\n",
      "Int64Index: 1017209 entries, 0 to 1017208\n",
      "Data columns (total 14 columns):\n",
      " #   Column         Non-Null Count    Dtype         \n",
      "---  ------         --------------    -----         \n",
      " 0   Store          1017209 non-null  int64         \n",
      " 1   DayOfWeek      1017209 non-null  int64         \n",
      " 2   Date           1017209 non-null  datetime64[ns]\n",
      " 3   Sales          1017209 non-null  int64         \n",
      " 4   Customers      1017209 non-null  int64         \n",
      " 5   Open           1017209 non-null  int64         \n",
      " 6   Promo          1017209 non-null  int64         \n",
      " 7   StateHoliday   1017209 non-null  string        \n",
      " 8   SchoolHoliday  1017209 non-null  int64         \n",
      " 9   Year           1017209 non-null  int64         \n",
      " 10  Month          1017209 non-null  int64         \n",
      " 11  DayOfMonth     1017209 non-null  int64         \n",
      " 12  WeekOfYear     1017209 non-null  int64         \n",
      " 13  weekday        1017209 non-null  int64         \n",
      "dtypes: datetime64[ns](1), int64(12), string(1)\n",
      "memory usage: 148.7 MB\n"
     ]
    }
   ],
   "source": [
    "train_df.info()\n"
   ]
  },
  {
   "cell_type": "code",
   "execution_count": 142,
   "id": "3c686a23",
   "metadata": {},
   "outputs": [
    {
     "data": {
      "text/html": [
       "<div>\n",
       "<style scoped>\n",
       "    .dataframe tbody tr th:only-of-type {\n",
       "        vertical-align: middle;\n",
       "    }\n",
       "\n",
       "    .dataframe tbody tr th {\n",
       "        vertical-align: top;\n",
       "    }\n",
       "\n",
       "    .dataframe thead th {\n",
       "        text-align: right;\n",
       "    }\n",
       "</style>\n",
       "<table border=\"1\" class=\"dataframe\">\n",
       "  <thead>\n",
       "    <tr style=\"text-align: right;\">\n",
       "      <th></th>\n",
       "      <th>Store</th>\n",
       "      <th>DayOfWeek</th>\n",
       "      <th>Date</th>\n",
       "      <th>Sales</th>\n",
       "      <th>Customers</th>\n",
       "      <th>Open</th>\n",
       "      <th>Promo</th>\n",
       "      <th>StateHoliday</th>\n",
       "      <th>SchoolHoliday</th>\n",
       "      <th>Year</th>\n",
       "      <th>Month</th>\n",
       "      <th>DayOfMonth</th>\n",
       "      <th>WeekOfYear</th>\n",
       "      <th>weekday</th>\n",
       "    </tr>\n",
       "  </thead>\n",
       "  <tbody>\n",
       "    <tr>\n",
       "      <th>843192</th>\n",
       "      <td>1038</td>\n",
       "      <td>4</td>\n",
       "      <td>2013-06-06</td>\n",
       "      <td>6227</td>\n",
       "      <td>523</td>\n",
       "      <td>1</td>\n",
       "      <td>1</td>\n",
       "      <td>0</td>\n",
       "      <td>0</td>\n",
       "      <td>2013</td>\n",
       "      <td>6</td>\n",
       "      <td>6</td>\n",
       "      <td>23</td>\n",
       "      <td>1</td>\n",
       "    </tr>\n",
       "    <tr>\n",
       "      <th>838915</th>\n",
       "      <td>106</td>\n",
       "      <td>7</td>\n",
       "      <td>2013-06-09</td>\n",
       "      <td>0</td>\n",
       "      <td>0</td>\n",
       "      <td>0</td>\n",
       "      <td>0</td>\n",
       "      <td>0</td>\n",
       "      <td>0</td>\n",
       "      <td>2013</td>\n",
       "      <td>6</td>\n",
       "      <td>9</td>\n",
       "      <td>23</td>\n",
       "      <td>0</td>\n",
       "    </tr>\n",
       "    <tr>\n",
       "      <th>173823</th>\n",
       "      <td>999</td>\n",
       "      <td>4</td>\n",
       "      <td>2015-02-26</td>\n",
       "      <td>7444</td>\n",
       "      <td>544</td>\n",
       "      <td>1</td>\n",
       "      <td>0</td>\n",
       "      <td>0</td>\n",
       "      <td>0</td>\n",
       "      <td>2015</td>\n",
       "      <td>2</td>\n",
       "      <td>26</td>\n",
       "      <td>9</td>\n",
       "      <td>1</td>\n",
       "    </tr>\n",
       "    <tr>\n",
       "      <th>579255</th>\n",
       "      <td>241</td>\n",
       "      <td>2</td>\n",
       "      <td>2014-01-28</td>\n",
       "      <td>4796</td>\n",
       "      <td>556</td>\n",
       "      <td>1</td>\n",
       "      <td>0</td>\n",
       "      <td>0</td>\n",
       "      <td>0</td>\n",
       "      <td>2014</td>\n",
       "      <td>1</td>\n",
       "      <td>28</td>\n",
       "      <td>5</td>\n",
       "      <td>1</td>\n",
       "    </tr>\n",
       "    <tr>\n",
       "      <th>452892</th>\n",
       "      <td>988</td>\n",
       "      <td>4</td>\n",
       "      <td>2014-05-22</td>\n",
       "      <td>5873</td>\n",
       "      <td>864</td>\n",
       "      <td>1</td>\n",
       "      <td>1</td>\n",
       "      <td>0</td>\n",
       "      <td>0</td>\n",
       "      <td>2014</td>\n",
       "      <td>5</td>\n",
       "      <td>22</td>\n",
       "      <td>21</td>\n",
       "      <td>1</td>\n",
       "    </tr>\n",
       "    <tr>\n",
       "      <th>598871</th>\n",
       "      <td>902</td>\n",
       "      <td>6</td>\n",
       "      <td>2014-01-11</td>\n",
       "      <td>5566</td>\n",
       "      <td>674</td>\n",
       "      <td>1</td>\n",
       "      <td>0</td>\n",
       "      <td>0</td>\n",
       "      <td>0</td>\n",
       "      <td>2014</td>\n",
       "      <td>1</td>\n",
       "      <td>11</td>\n",
       "      <td>2</td>\n",
       "      <td>0</td>\n",
       "    </tr>\n",
       "    <tr>\n",
       "      <th>521079</th>\n",
       "      <td>45</td>\n",
       "      <td>5</td>\n",
       "      <td>2014-03-21</td>\n",
       "      <td>5831</td>\n",
       "      <td>425</td>\n",
       "      <td>1</td>\n",
       "      <td>1</td>\n",
       "      <td>0</td>\n",
       "      <td>0</td>\n",
       "      <td>2014</td>\n",
       "      <td>3</td>\n",
       "      <td>21</td>\n",
       "      <td>12</td>\n",
       "      <td>1</td>\n",
       "    </tr>\n",
       "    <tr>\n",
       "      <th>122375</th>\n",
       "      <td>841</td>\n",
       "      <td>1</td>\n",
       "      <td>2015-04-13</td>\n",
       "      <td>4571</td>\n",
       "      <td>530</td>\n",
       "      <td>1</td>\n",
       "      <td>1</td>\n",
       "      <td>0</td>\n",
       "      <td>0</td>\n",
       "      <td>2015</td>\n",
       "      <td>4</td>\n",
       "      <td>13</td>\n",
       "      <td>16</td>\n",
       "      <td>1</td>\n",
       "    </tr>\n",
       "    <tr>\n",
       "      <th>73362</th>\n",
       "      <td>888</td>\n",
       "      <td>3</td>\n",
       "      <td>2015-05-27</td>\n",
       "      <td>8390</td>\n",
       "      <td>710</td>\n",
       "      <td>1</td>\n",
       "      <td>0</td>\n",
       "      <td>0</td>\n",
       "      <td>0</td>\n",
       "      <td>2015</td>\n",
       "      <td>5</td>\n",
       "      <td>27</td>\n",
       "      <td>22</td>\n",
       "      <td>1</td>\n",
       "    </tr>\n",
       "    <tr>\n",
       "      <th>794495</th>\n",
       "      <td>286</td>\n",
       "      <td>5</td>\n",
       "      <td>2013-07-19</td>\n",
       "      <td>6329</td>\n",
       "      <td>535</td>\n",
       "      <td>1</td>\n",
       "      <td>1</td>\n",
       "      <td>0</td>\n",
       "      <td>1</td>\n",
       "      <td>2013</td>\n",
       "      <td>7</td>\n",
       "      <td>19</td>\n",
       "      <td>29</td>\n",
       "      <td>1</td>\n",
       "    </tr>\n",
       "  </tbody>\n",
       "</table>\n",
       "</div>"
      ],
      "text/plain": [
       "        Store  DayOfWeek       Date  Sales  Customers  Open  Promo  \\\n",
       "843192   1038          4 2013-06-06   6227        523     1      1   \n",
       "838915    106          7 2013-06-09      0          0     0      0   \n",
       "173823    999          4 2015-02-26   7444        544     1      0   \n",
       "579255    241          2 2014-01-28   4796        556     1      0   \n",
       "452892    988          4 2014-05-22   5873        864     1      1   \n",
       "598871    902          6 2014-01-11   5566        674     1      0   \n",
       "521079     45          5 2014-03-21   5831        425     1      1   \n",
       "122375    841          1 2015-04-13   4571        530     1      1   \n",
       "73362     888          3 2015-05-27   8390        710     1      0   \n",
       "794495    286          5 2013-07-19   6329        535     1      1   \n",
       "\n",
       "       StateHoliday  SchoolHoliday  Year  Month  DayOfMonth  WeekOfYear  \\\n",
       "843192            0              0  2013      6           6          23   \n",
       "838915            0              0  2013      6           9          23   \n",
       "173823            0              0  2015      2          26           9   \n",
       "579255            0              0  2014      1          28           5   \n",
       "452892            0              0  2014      5          22          21   \n",
       "598871            0              0  2014      1          11           2   \n",
       "521079            0              0  2014      3          21          12   \n",
       "122375            0              0  2015      4          13          16   \n",
       "73362             0              0  2015      5          27          22   \n",
       "794495            0              1  2013      7          19          29   \n",
       "\n",
       "        weekday  \n",
       "843192        1  \n",
       "838915        0  \n",
       "173823        1  \n",
       "579255        1  \n",
       "452892        1  \n",
       "598871        0  \n",
       "521079        1  \n",
       "122375        1  \n",
       "73362         1  \n",
       "794495        1  "
      ]
     },
     "execution_count": 142,
     "metadata": {},
     "output_type": "execute_result"
    }
   ],
   "source": [
    "train_df.sample(10)"
   ]
  },
  {
   "cell_type": "code",
   "execution_count": 143,
   "id": "c84ac5b7",
   "metadata": {},
   "outputs": [],
   "source": [
    "def getMonth(month_list, index):\n",
    "    months = ['0', 'Jan', 'Feb', 'Mar', 'Apr', 'May', 'Jun', 'Jul', 'Aug', 'Sept', 'Oct', 'Nov', 'Dec']\n",
    "    month_list = month_list.split(',')\n",
    "    month = month_list[index]\n",
    "    return months.index(month)"
   ]
  },
  {
   "cell_type": "code",
   "execution_count": 144,
   "id": "d01ca726",
   "metadata": {},
   "outputs": [],
   "source": [
    "# split the PromoInterval column into 4 columns\n",
    "store_df['PromoInterval0'] = store_df.PromoInterval.apply((lambda x: getMonth(x, 0)))\n",
    "store_df['PromoInterval1'] = store_df.PromoInterval.apply((lambda x: getMonth(x, 1)))\n",
    "store_df['PromoInterval2'] = store_df.PromoInterval.apply((lambda x: getMonth(x, 2)))\n",
    "store_df['PromoInterval3'] = store_df.PromoInterval.apply((lambda x: getMonth(x, 3)))"
   ]
  },
  {
   "cell_type": "code",
   "execution_count": 145,
   "id": "5f1628cc",
   "metadata": {},
   "outputs": [
    {
     "data": {
      "text/html": [
       "<div>\n",
       "<style scoped>\n",
       "    .dataframe tbody tr th:only-of-type {\n",
       "        vertical-align: middle;\n",
       "    }\n",
       "\n",
       "    .dataframe tbody tr th {\n",
       "        vertical-align: top;\n",
       "    }\n",
       "\n",
       "    .dataframe thead th {\n",
       "        text-align: right;\n",
       "    }\n",
       "</style>\n",
       "<table border=\"1\" class=\"dataframe\">\n",
       "  <thead>\n",
       "    <tr style=\"text-align: right;\">\n",
       "      <th></th>\n",
       "      <th>Store</th>\n",
       "      <th>StoreType</th>\n",
       "      <th>Assortment</th>\n",
       "      <th>CompetitionDistance</th>\n",
       "      <th>CompetitionOpenSinceMonth</th>\n",
       "      <th>CompetitionOpenSinceYear</th>\n",
       "      <th>Promo2</th>\n",
       "      <th>Promo2SinceWeek</th>\n",
       "      <th>Promo2SinceYear</th>\n",
       "      <th>PromoInterval</th>\n",
       "      <th>PromoInterval0</th>\n",
       "      <th>PromoInterval1</th>\n",
       "      <th>PromoInterval2</th>\n",
       "      <th>PromoInterval3</th>\n",
       "    </tr>\n",
       "  </thead>\n",
       "  <tbody>\n",
       "    <tr>\n",
       "      <th>105</th>\n",
       "      <td>106</td>\n",
       "      <td>a</td>\n",
       "      <td>a</td>\n",
       "      <td>1390.0</td>\n",
       "      <td>8</td>\n",
       "      <td>2013</td>\n",
       "      <td>0</td>\n",
       "      <td>0</td>\n",
       "      <td>0</td>\n",
       "      <td>0,0,0,0</td>\n",
       "      <td>0</td>\n",
       "      <td>0</td>\n",
       "      <td>0</td>\n",
       "      <td>0</td>\n",
       "    </tr>\n",
       "    <tr>\n",
       "      <th>474</th>\n",
       "      <td>475</td>\n",
       "      <td>a</td>\n",
       "      <td>a</td>\n",
       "      <td>140.0</td>\n",
       "      <td>9</td>\n",
       "      <td>2005</td>\n",
       "      <td>0</td>\n",
       "      <td>0</td>\n",
       "      <td>0</td>\n",
       "      <td>0,0,0,0</td>\n",
       "      <td>0</td>\n",
       "      <td>0</td>\n",
       "      <td>0</td>\n",
       "      <td>0</td>\n",
       "    </tr>\n",
       "    <tr>\n",
       "      <th>84</th>\n",
       "      <td>85</td>\n",
       "      <td>b</td>\n",
       "      <td>a</td>\n",
       "      <td>1870.0</td>\n",
       "      <td>10</td>\n",
       "      <td>2011</td>\n",
       "      <td>0</td>\n",
       "      <td>0</td>\n",
       "      <td>0</td>\n",
       "      <td>0,0,0,0</td>\n",
       "      <td>0</td>\n",
       "      <td>0</td>\n",
       "      <td>0</td>\n",
       "      <td>0</td>\n",
       "    </tr>\n",
       "    <tr>\n",
       "      <th>532</th>\n",
       "      <td>533</td>\n",
       "      <td>a</td>\n",
       "      <td>c</td>\n",
       "      <td>5950.0</td>\n",
       "      <td>1</td>\n",
       "      <td>1900</td>\n",
       "      <td>0</td>\n",
       "      <td>0</td>\n",
       "      <td>0</td>\n",
       "      <td>0,0,0,0</td>\n",
       "      <td>0</td>\n",
       "      <td>0</td>\n",
       "      <td>0</td>\n",
       "      <td>0</td>\n",
       "    </tr>\n",
       "    <tr>\n",
       "      <th>509</th>\n",
       "      <td>510</td>\n",
       "      <td>a</td>\n",
       "      <td>c</td>\n",
       "      <td>8260.0</td>\n",
       "      <td>1</td>\n",
       "      <td>1900</td>\n",
       "      <td>0</td>\n",
       "      <td>0</td>\n",
       "      <td>0</td>\n",
       "      <td>0,0,0,0</td>\n",
       "      <td>0</td>\n",
       "      <td>0</td>\n",
       "      <td>0</td>\n",
       "      <td>0</td>\n",
       "    </tr>\n",
       "    <tr>\n",
       "      <th>76</th>\n",
       "      <td>77</td>\n",
       "      <td>d</td>\n",
       "      <td>c</td>\n",
       "      <td>1090.0</td>\n",
       "      <td>8</td>\n",
       "      <td>2009</td>\n",
       "      <td>1</td>\n",
       "      <td>10</td>\n",
       "      <td>2014</td>\n",
       "      <td>Jan,Apr,Jul,Oct</td>\n",
       "      <td>1</td>\n",
       "      <td>4</td>\n",
       "      <td>7</td>\n",
       "      <td>10</td>\n",
       "    </tr>\n",
       "    <tr>\n",
       "      <th>863</th>\n",
       "      <td>864</td>\n",
       "      <td>a</td>\n",
       "      <td>a</td>\n",
       "      <td>1020.0</td>\n",
       "      <td>10</td>\n",
       "      <td>2012</td>\n",
       "      <td>1</td>\n",
       "      <td>45</td>\n",
       "      <td>2009</td>\n",
       "      <td>Feb,May,Aug,Nov</td>\n",
       "      <td>2</td>\n",
       "      <td>5</td>\n",
       "      <td>8</td>\n",
       "      <td>11</td>\n",
       "    </tr>\n",
       "    <tr>\n",
       "      <th>178</th>\n",
       "      <td>179</td>\n",
       "      <td>a</td>\n",
       "      <td>c</td>\n",
       "      <td>480.0</td>\n",
       "      <td>1</td>\n",
       "      <td>1900</td>\n",
       "      <td>0</td>\n",
       "      <td>0</td>\n",
       "      <td>0</td>\n",
       "      <td>0,0,0,0</td>\n",
       "      <td>0</td>\n",
       "      <td>0</td>\n",
       "      <td>0</td>\n",
       "      <td>0</td>\n",
       "    </tr>\n",
       "    <tr>\n",
       "      <th>512</th>\n",
       "      <td>513</td>\n",
       "      <td>a</td>\n",
       "      <td>a</td>\n",
       "      <td>400.0</td>\n",
       "      <td>8</td>\n",
       "      <td>2013</td>\n",
       "      <td>0</td>\n",
       "      <td>0</td>\n",
       "      <td>0</td>\n",
       "      <td>0,0,0,0</td>\n",
       "      <td>0</td>\n",
       "      <td>0</td>\n",
       "      <td>0</td>\n",
       "      <td>0</td>\n",
       "    </tr>\n",
       "    <tr>\n",
       "      <th>945</th>\n",
       "      <td>946</td>\n",
       "      <td>a</td>\n",
       "      <td>a</td>\n",
       "      <td>2220.0</td>\n",
       "      <td>12</td>\n",
       "      <td>2011</td>\n",
       "      <td>1</td>\n",
       "      <td>14</td>\n",
       "      <td>2015</td>\n",
       "      <td>Jan,Apr,Jul,Oct</td>\n",
       "      <td>1</td>\n",
       "      <td>4</td>\n",
       "      <td>7</td>\n",
       "      <td>10</td>\n",
       "    </tr>\n",
       "  </tbody>\n",
       "</table>\n",
       "</div>"
      ],
      "text/plain": [
       "     Store StoreType Assortment  CompetitionDistance  \\\n",
       "105    106         a          a               1390.0   \n",
       "474    475         a          a                140.0   \n",
       "84      85         b          a               1870.0   \n",
       "532    533         a          c               5950.0   \n",
       "509    510         a          c               8260.0   \n",
       "76      77         d          c               1090.0   \n",
       "863    864         a          a               1020.0   \n",
       "178    179         a          c                480.0   \n",
       "512    513         a          a                400.0   \n",
       "945    946         a          a               2220.0   \n",
       "\n",
       "     CompetitionOpenSinceMonth  CompetitionOpenSinceYear  Promo2  \\\n",
       "105                          8                      2013       0   \n",
       "474                          9                      2005       0   \n",
       "84                          10                      2011       0   \n",
       "532                          1                      1900       0   \n",
       "509                          1                      1900       0   \n",
       "76                           8                      2009       1   \n",
       "863                         10                      2012       1   \n",
       "178                          1                      1900       0   \n",
       "512                          8                      2013       0   \n",
       "945                         12                      2011       1   \n",
       "\n",
       "     Promo2SinceWeek  Promo2SinceYear    PromoInterval  PromoInterval0  \\\n",
       "105                0                0          0,0,0,0               0   \n",
       "474                0                0          0,0,0,0               0   \n",
       "84                 0                0          0,0,0,0               0   \n",
       "532                0                0          0,0,0,0               0   \n",
       "509                0                0          0,0,0,0               0   \n",
       "76                10             2014  Jan,Apr,Jul,Oct               1   \n",
       "863               45             2009  Feb,May,Aug,Nov               2   \n",
       "178                0                0          0,0,0,0               0   \n",
       "512                0                0          0,0,0,0               0   \n",
       "945               14             2015  Jan,Apr,Jul,Oct               1   \n",
       "\n",
       "     PromoInterval1  PromoInterval2  PromoInterval3  \n",
       "105               0               0               0  \n",
       "474               0               0               0  \n",
       "84                0               0               0  \n",
       "532               0               0               0  \n",
       "509               0               0               0  \n",
       "76                4               7              10  \n",
       "863               5               8              11  \n",
       "178               0               0               0  \n",
       "512               0               0               0  \n",
       "945               4               7              10  "
      ]
     },
     "execution_count": 145,
     "metadata": {},
     "output_type": "execute_result"
    }
   ],
   "source": [
    "store_df.sample(10)"
   ]
  },
  {
   "cell_type": "code",
   "execution_count": null,
   "id": "a7316005",
   "metadata": {},
   "outputs": [],
   "source": []
  }
 ],
 "metadata": {
  "kernelspec": {
   "display_name": "Python 3 (ipykernel)",
   "language": "python",
   "name": "python3"
  },
  "language_info": {
   "codemirror_mode": {
    "name": "ipython",
    "version": 3
   },
   "file_extension": ".py",
   "mimetype": "text/x-python",
   "name": "python",
   "nbconvert_exporter": "python",
   "pygments_lexer": "ipython3",
   "version": "3.9.7"
  }
 },
 "nbformat": 4,
 "nbformat_minor": 5
}
